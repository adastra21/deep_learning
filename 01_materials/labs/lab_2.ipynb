{
 "cells": [
  {
   "cell_type": "markdown",
   "metadata": {},
   "source": [
    "# Backpropagation in Multilayer Neural Networks\n",
    "\n",
    "While we will primarily be working with high-level, abstract toolkits like Keras in this course, understanding how backpropagation works is absolutely essential to using neural networks. \n",
    "\n",
    "In this exercise, we will build our own backpropagation algorithm - working through each step, to ensure that we can follow it."
   ]
  },
  {
   "cell_type": "markdown",
   "metadata": {
    "collapsed": false
   },
   "source": [
    "Just like in Lab 1, we'll be working with the MNIST dataset. We will load it and plot an example:"
   ]
  },
  {
   "cell_type": "code",
   "execution_count": 1,
   "metadata": {},
   "outputs": [],
   "source": [
    "%matplotlib inline\n",
    "import matplotlib.pyplot as plt\n",
    "import numpy as np\n",
    "from sklearn.datasets import load_digits\n",
    "\n",
    "digits = load_digits()"
   ]
  },
  {
   "cell_type": "code",
   "execution_count": 2,
   "metadata": {},
   "outputs": [
    {
     "data": {
      "image/png": "[encoded data removed]",
      "text/plain": [
       "<Figure size 300x300 with 1 Axes>"
      ]
     },
     "metadata": {},
     "output_type": "display_data"
    }
   ],
   "source": [
    "sample_index = 45\n",
    "plt.figure(figsize=(3, 3))\n",
    "plt.imshow(digits.images[sample_index], cmap=plt.cm.gray_r,\n",
    "           interpolation='nearest')\n",
    "plt.title(\"image label: %d\" % digits.target[sample_index]);"
   ]
  },
  {
   "cell_type": "markdown",
   "metadata": {},
   "source": [
    "### Preprocessing\n",
    "\n",
    "Of course, we need to split our data into training and testing sets before we use it, just the same as in Lab 1:"
   ]
  },
  {
   "cell_type": "code",
   "execution_count": 3,
   "metadata": {},
   "outputs": [],
   "source": [
    "from sklearn.model_selection import train_test_split\n",
    "\n",
    "data = np.asarray(digits.data, dtype='float32')\n",
    "target = np.asarray(digits.target, dtype='int32')\n",
    "\n",
    "X_train, X_test, y_train, y_test = train_test_split(\n",
    "    data, target, test_size=0.15, random_state=37)"
   ]
  },
  {
   "cell_type": "markdown",
   "metadata": {},
   "source": [
    "# Numpy Implementation\n",
    "\n",
    "## a) Logistic Regression\n",
    "\n",
    "In this section we will implement a logistic regression model trainable with SGD using numpy. Here are the objectives:\n",
    "\n",
    "- Implement the softmax function $\\sigma(\\mathbf{x})_i = \\frac{e^{x_i}}{\\sum_{j=1}^n e^{x_j}}$;\n",
    "- Implement the negative log likelihood function $NLL(Y_{true}, Y_{pred}) = - \\sum_{i=1}^{n}{y_{true, i} \\cdot \\log(y_{pred, i})}$;\n",
    "- Train a logistic regression model on the MNIST dataset;\n",
    "- Evaluate the model on the training and testing sets.\n",
    "\n",
    "Before we get there, let's write a function that one-hot encodes the class labels:"
   ]
  },
  {
   "cell_type": "code",
   "execution_count": 4,
   "metadata": {},
   "outputs": [],
   "source": [
    "def one_hot(n_classes, y):\n",
    "    return np.eye(n_classes)[y]"
   ]
  },
  {
   "cell_type": "code",
   "execution_count": 5,
   "metadata": {},
   "outputs": [
    {
     "data": {
      "text/plain": [
       "array([0., 0., 0., 1., 0., 0., 0., 0., 0., 0.])"
      ]
     },
     "execution_count": 5,
     "metadata": {},
     "output_type": "execute_result"
    }
   ],
   "source": [
    "one_hot(n_classes=10, y=3)"
   ]
  },
  {
   "cell_type": "code",
   "execution_count": 6,
   "metadata": {},
   "outputs": [
    {
     "data": {
      "text/plain": [
       "array([[1., 0., 0., 0., 0., 0., 0., 0., 0., 0.],\n",
       "       [0., 0., 0., 0., 1., 0., 0., 0., 0., 0.],\n",
       "       [0., 0., 0., 0., 0., 0., 0., 0., 0., 1.],\n",
       "       [0., 1., 0., 0., 0., 0., 0., 0., 0., 0.]])"
      ]
     },
     "execution_count": 6,
     "metadata": {},
     "output_type": "execute_result"
    }
   ],
   "source": [
    "one_hot(n_classes=10, y=[0, 4, 9, 1])"
   ]
  },
  {
   "cell_type": "markdown",
   "metadata": {},
   "source": [
    "### The softmax function\n",
    "\n",
    "Now we will implement the softmax function. Recall that the softmax function is defined as follows:\n",
    "\n",
    "$$\n",
    "softmax(\\mathbf{x}) = \\frac{1}{\\sum_{i=1}^{n}{e^{x_i}}}\n",
    "\\cdot\n",
    "\\begin{bmatrix}\n",
    "  e^{x_1}\\\\\\\\\n",
    "  e^{x_2}\\\\\\\\\n",
    "  \\vdots\\\\\\\\\n",
    "  e^{x_n}\n",
    "\\end{bmatrix}\n",
    "$$\n",
    "\n",
    "This is implemented for you using numpy - we want to be able to apply the softmax function to a batch of samples at once, so we will use numpy's vectorized operations to do so.\n",
    "\n",
    "Our method also handles _stability issues_ that can occur when the values in `X` are very large. We will subtract the maximum value from each row of `X` to avoid overflow in the exponentiation. This isn't part of the softmax function itself, but it's a useful trick to know about."
   ]
  },
  {
   "cell_type": "code",
   "execution_count": 7,
   "metadata": {
    "collapsed": false
   },
   "outputs": [],
   "source": [
    "def softmax(X):\n",
    "    X_max = np.max(X, axis=-1, keepdims=True)\n",
    "    exp = np.exp(X - X_max) # Subtract the max to avoid overflow in the exponentiation\n",
    "    return exp / np.sum(exp, axis=-1, keepdims=True)\n"
   ]
  },
  {
   "cell_type": "markdown",
   "metadata": {},
   "source": [
    "Let's make sure that this works one vector at a time (and check that the components sum to one):"
   ]
  },
  {
   "cell_type": "code",
   "execution_count": 8,
   "metadata": {},
   "outputs": [
    {
     "name": "stdout",
     "output_type": "stream",
     "text": [
      "[9.99662391e-01 3.35349373e-04 2.25956630e-06]\n"
     ]
    }
   ],
   "source": [
    "print(softmax([10, 2, -3]))"
   ]
  },
  {
   "cell_type": "markdown",
   "metadata": {},
   "source": [
    "When we are using our model to make predictions, we will want to be able to make predictions for multiple samples at once.\n",
    "Let's make sure that our implementation of softmax works for a batch of samples:"
   ]
  },
  {
   "cell_type": "code",
   "execution_count": 9,
   "metadata": {},
   "outputs": [
    {
     "name": "stdout",
     "output_type": "stream",
     "text": [
      "[[9.99662391e-01 3.35349373e-04 2.25956630e-06]\n",
      " [2.47262316e-03 9.97527377e-01 1.38536042e-11]]\n"
     ]
    }
   ],
   "source": [
    "X = np.array([[10, 2, -3],\n",
    "              [-1, 5, -20]])\n",
    "print(softmax(X))"
   ]
  },
  {
   "cell_type": "markdown",
   "metadata": {},
   "source": [
    "Probabilities should sum to 1:"
   ]
  },
  {
   "cell_type": "code",
   "execution_count": 10,
   "metadata": {},
   "outputs": [
    {
     "name": "stdout",
     "output_type": "stream",
     "text": [
      "1.0\n"
     ]
    }
   ],
   "source": [
    "print(np.sum(softmax([10, 2, -3])))"
   ]
  },
  {
   "cell_type": "code",
   "execution_count": 11,
   "metadata": {},
   "outputs": [
    {
     "name": "stdout",
     "output_type": "stream",
     "text": [
      "softmax of 2 vectors:\n",
      "[[9.99662391e-01 3.35349373e-04 2.25956630e-06]\n",
      " [2.47262316e-03 9.97527377e-01 1.38536042e-11]]\n"
     ]
    }
   ],
   "source": [
    "print(\"softmax of 2 vectors:\")\n",
    "X = np.array([[10, 2, -3],\n",
    "              [-1, 5, -20]])\n",
    "print(softmax(X))"
   ]
  },
  {
   "cell_type": "markdown",
   "metadata": {},
   "source": [
    "The sum of probabilities for each input vector of logits should some to 1:"
   ]
  },
  {
   "cell_type": "code",
   "execution_count": 12,
   "metadata": {},
   "outputs": [
    {
     "name": "stdout",
     "output_type": "stream",
     "text": [
      "[1. 1.]\n"
     ]
    }
   ],
   "source": [
    "print(np.sum(softmax(X), axis=1))"
   ]
  },
  {
   "cell_type": "markdown",
   "metadata": {},
   "source": [
    "Now we will implement a function that, given the true one-hot encoded class `Y_true` and some predicted probabilities `Y_pred`, returns the negative log likelihood.\n",
    "\n",
    "Recall that the negative log likelihood is defined as follows:\n",
    "\n",
    "$$\n",
    "NLL(Y_{true}, Y_{pred}) = - \\sum_{i=1}^{n}{y_{true, i} \\cdot \\log(y_{pred, i})}\n",
    "$$\n",
    "\n",
    "For example, if we have $y_{true} = [1, 0, 0]$ and $y_{pred} = [0.99, 0.01, 0]$, then the negative log likelihood is $- \\log(0.99) \\approx 0.01$."
   ]
  },
  {
   "cell_type": "code",
   "execution_count": 13,
   "metadata": {},
   "outputs": [
    {
     "name": "stdout",
     "output_type": "stream",
     "text": [
      "0.01005033585350145\n"
     ]
    }
   ],
   "source": [
    "def nll(Y_true, Y_pred):\n",
    "    Y_true = np.asarray(Y_true)\n",
    "    Y_pred = np.asarray(Y_pred)\n",
    "\n",
    "    # Ensure Y_pred doesn't have zero probabilities to avoid log(0)\n",
    "    Y_pred = np.clip(Y_pred, 1e-15, 1 - 1e-15)\n",
    "\n",
    "    # Calculate negative log likelihood\n",
    "    loss = -np.sum(Y_true * np.log(Y_pred))\n",
    "    return loss\n",
    "\n",
    "# Make sure that it works for a simple sample at a time\n",
    "print(nll([1, 0, 0], [.99, 0.01, 0]))"
   ]
  },
  {
   "cell_type": "markdown",
   "metadata": {},
   "source": [
    "We should see a very high value for this negative log likelihood, since the model is very confident that the third class is the correct one, but the true class is the first one:"
   ]
  },
  {
   "cell_type": "code",
   "execution_count": 14,
   "metadata": {},
   "outputs": [
    {
     "name": "stdout",
     "output_type": "stream",
     "text": [
      "4.605170185988091\n"
     ]
    }
   ],
   "source": [
    "print(nll([1, 0, 0], [0.01, 0.01, .98]))"
   ]
  },
  {
   "cell_type": "markdown",
   "metadata": {},
   "source": [
    "Make sure that your implementation can compute the average negative log likelihood of a group of predictions: `Y_pred` and `Y_true` can therefore be past as 2D arrays:"
   ]
  },
  {
   "cell_type": "code",
   "execution_count": 15,
   "metadata": {},
   "outputs": [
    {
     "name": "stdout",
     "output_type": "stream",
     "text": [
      "0.010050335853503449\n"
     ]
    }
   ],
   "source": [
    "# Check that the average NLL of the following 3 almost perfect\n",
    "# predictions is close to 0\n",
    "Y_true = np.array([[0, 1, 0],\n",
    "                   [1, 0, 0],\n",
    "                   [0, 0, 1]])\n",
    "\n",
    "Y_pred = np.array([[0,   1,    0],\n",
    "                   [.99, 0.01, 0],\n",
    "                   [0,   0,    1]])\n",
    "\n",
    "print(nll(Y_true, Y_pred))"
   ]
  },
  {
   "cell_type": "markdown",
   "metadata": {
    "collapsed": false
   },
   "source": [
    "Now that we have our softmax and negative log likelihood functions, we can implement a logistic regression model. \n",
    "In this section, we have built the model for you, but you will need to complete a few key parts."
   ]
  },
  {
   "cell_type": "code",
   "execution_count": 16,
   "metadata": {
    "collapsed": false
   },
   "outputs": [],
   "source": [
    "class LogisticRegression:\n",
    "\n",
    "    def __init__(self, input_size, output_size):\n",
    "        # Initialize the weights and biases with random numbers\n",
    "        self.W = np.random.uniform(size=(input_size, output_size),\n",
    "                                   high=0.1, low=-0.1)\n",
    "        self.b = np.random.uniform(size=output_size,\n",
    "                                   high=0.1, low=-0.1)\n",
    "        \n",
    "        # Store the input size and output size\n",
    "        self.output_size = output_size\n",
    "        self.input_size = input_size\n",
    "        \n",
    "    def forward(self, X):\n",
    "        # Compute the linear combination of the input and weights\n",
    "        Z = np.dot(X, self.W) + self.b\n",
    "        \n",
    "        # Return the softmax of the linear combination\n",
    "        return softmax(Z)\n",
    "    \n",
    "    def predict(self, X):\n",
    "        # Return the most probable class for each sample in X\n",
    "        if len(X.shape) == 1:\n",
    "            return np.argmax(self.forward(X))\n",
    "        else:\n",
    "            return np.argmax(self.forward(X), axis=1)\n",
    "            \n",
    "    def loss(self, X, y):\n",
    "        # Compute the negative log likelihood over the data provided\n",
    "        y_onehot = one_hot(self.output_size, y)\n",
    "        return nll(y_onehot, self.forward(X))\n",
    "\n",
    "    def grad_loss(self, X, y_true, y_pred):\n",
    "        # Compute the gradient of the loss with respect to W and b for a single sample (X, y_true)\n",
    "        # y_pred is the output of the forward pass\n",
    "    \n",
    "        # Gradient with respect to weights\n",
    "        grad_W = np.dot(X.T, (y_pred - y_true))\n",
    "    \n",
    "        # Gradient with respect to biases\n",
    "        grad_b = np.sum(y_pred - y_true, axis=0)\n",
    "    \n",
    "        return grad_W, grad_b"
   ]
  },
  {
   "cell_type": "code",
   "execution_count": 17,
   "metadata": {
    "collapsed": false
   },
   "outputs": [],
   "source": [
    "# Build a model and test its forward inference\n",
    "n_features = X_train.shape[1]\n",
    "n_classes = len(np.unique(y_train))\n",
    "lr = LogisticRegression(n_features, n_classes)"
   ]
  },
  {
   "cell_type": "markdown",
   "metadata": {
    "collapsed": false
   },
   "source": [
    "We can evaluate the model on an example, visualizing the prediction probabilities:"
   ]
  },
  {
   "cell_type": "code",
   "execution_count": 18,
   "metadata": {
    "collapsed": false
   },
   "outputs": [
    {
     "data": {
      "image/png": "[encoded data removed]",
      "text/plain": [
       "<Figure size 1000x400 with 2 Axes>"
      ]
     },
     "metadata": {},
     "output_type": "display_data"
    }
   ],
   "source": [
    "def plot_prediction(model, sample_idx=0, classes=range(10)):\n",
    "    fig, (ax0, ax1) = plt.subplots(nrows=1, ncols=2, figsize=(10, 4))\n",
    "\n",
    "    ax0.imshow(X_test[sample_idx:sample_idx+1].reshape(8, 8),\n",
    "               cmap=plt.cm.gray_r, interpolation='nearest')\n",
    "    ax0.set_title(\"True image label: %d\" % y_test[sample_idx]);\n",
    "\n",
    "\n",
    "    ax1.bar(classes, one_hot(len(classes), y_test[sample_idx]), label='true')\n",
    "    ax1.bar(classes, model.forward(X_test[sample_idx]), label='prediction', color=\"red\")\n",
    "    ax1.set_xticks(classes)\n",
    "    prediction = model.predict(X_test[sample_idx])\n",
    "    ax1.set_title('Output probabilities (prediction: %d)'\n",
    "                  % prediction)\n",
    "    ax1.set_xlabel('Digit class')\n",
    "    ax1.legend()\n",
    "    \n",
    "plot_prediction(lr, sample_idx=0)"
   ]
  },
  {
   "cell_type": "markdown",
   "metadata": {
    "collapsed": false
   },
   "source": [
    "Now it's time to start training! We will train for a single epoch, and then evaluate the model on the training and testing sets. Read through the following and make sure that you understand what we are doing here."
   ]
  },
  {
   "cell_type": "code",
   "execution_count": 50,
   "metadata": {
    "collapsed": false
   },
   "outputs": [
    {
     "name": "stdout",
     "output_type": "stream",
     "text": [
      "Average Negative Log Likelihood (NLL) over the last 100 samples at step 0: -0\n",
      "Average Negative Log Likelihood (NLL) over the last 100 samples at step 100: 344\n",
      "Average Negative Log Likelihood (NLL) over the last 100 samples at step 200: 161\n",
      "Average Negative Log Likelihood (NLL) over the last 100 samples at step 300: 538\n",
      "Average Negative Log Likelihood (NLL) over the last 100 samples at step 400: 429\n",
      "Average Negative Log Likelihood (NLL) over the last 100 samples at step 500: 174\n",
      "Average Negative Log Likelihood (NLL) over the last 100 samples at step 600: 244\n",
      "Average Negative Log Likelihood (NLL) over the last 100 samples at step 700: 183\n",
      "Average Negative Log Likelihood (NLL) over the last 100 samples at step 800: 336\n",
      "Average Negative Log Likelihood (NLL) over the last 100 samples at step 900: 97\n",
      "Average Negative Log Likelihood (NLL) over the last 100 samples at step 1000: 342\n",
      "Average Negative Log Likelihood (NLL) over the last 100 samples at step 1100: 337\n",
      "Average Negative Log Likelihood (NLL) over the last 100 samples at step 1200: 347\n",
      "Average Negative Log Likelihood (NLL) over the last 100 samples at step 1300: 315\n",
      "Average Negative Log Likelihood (NLL) over the last 100 samples at step 1400: 75\n",
      "Average Negative Log Likelihood (NLL) over the last 100 samples at step 1500: 64\n"
     ]
    }
   ],
   "source": [
    "# NOTE: training on one sample for each digit\n",
    "lr = LogisticRegression(input_size=X_train.shape[1], output_size=10)\n",
    "\n",
    "learning_rate = 0.01\n",
    "\n",
    "for i in range(len(X_train)):\n",
    "    # Get the current sample and corresponding label\n",
    "    x = X_train[i:i+1]  # Reshape to keep the batch dimension\n",
    "    y = y_train[i:i+1]  # Reshape to keep the batch dimension\n",
    "    # print(x.shape, y.shape)\n",
    "\n",
    "    # Compute the forward pass and the gradient of the loss with respect to W and b\n",
    "    y_pred = lr.forward(x)\n",
    "    grad_W, grad_b = lr.grad_loss(x, one_hot(lr.output_size, y), y_pred)\n",
    "\n",
    "    # Update the weights and biases\n",
    "    lr.W -= learning_rate * grad_W\n",
    "    lr.b -= learning_rate * grad_b\n",
    "\n",
    "    # Print the average negative log likelihood every 100 steps\n",
    "    if i % 100 == 0:\n",
    "        avg_nll = lr.loss(X_train[max(0, i-100):i], y_train[max(0, i-100):i])\n",
    "        print(\"Average Negative Log Likelihood (NLL) over the last 100 samples at step %d: %0.f\" % (i, avg_nll))\n"
   ]
  },
  {
   "cell_type": "markdown",
   "metadata": {
    "collapsed": false
   },
   "source": [
    "Evaluate the trained model on the first example:"
   ]
  },
  {
   "cell_type": "code",
   "execution_count": 51,
   "metadata": {
    "collapsed": false
   },
   "outputs": [
    {
     "data": {
      "image/png": "[encoded data removed]",
      "text/plain": [
       "<Figure size 1000x400 with 2 Axes>"
      ]
     },
     "metadata": {},
     "output_type": "display_data"
    }
   ],
   "source": [
    "plot_prediction(lr, sample_idx=2)"
   ]
  },
  {
   "cell_type": "markdown",
   "metadata": {},
   "source": [
    "## b) Feedforward Multilayer\n",
    "\n",
    "The objective of this section is to implement the backpropagation algorithm (SGD with the chain rule) on a single layer neural network using the sigmoid activation function.\n",
    "\n",
    "Now it's your turn to\n",
    "\n",
    "- Implement the `sigmoid` and its element-wise derivative `dsigmoid` functions:\n",
    "\n",
    "$$\n",
    "sigmoid(x) = \\frac{1}{1 + e^{-x}}\n",
    "$$\n",
    "\n",
    "$$\n",
    "dsigmoid(x) = sigmoid(x) \\cdot (1 - sigmoid(x))\n",
    "$$\n",
    "\n",
    "Remember that you can use your `sigmoid` function inside your `dsigmoid` function.\n",
    "\n",
    "Just like with our softmax function, we also want to make sure that we don't run into stability issues with our sigmoid function. We will use `np.clip` to ensure that the input to the sigmoid function is not too large or too small."
   ]
  },
  {
   "cell_type": "code",
   "execution_count": 52,
   "metadata": {},
   "outputs": [
    {
     "data": {
      "image/png": "[encoded data removed]",
      "text/plain": [
       "<Figure size 640x480 with 1 Axes>"
      ]
     },
     "metadata": {},
     "output_type": "display_data"
    }
   ],
   "source": [
    "def sigmoid(X):\n",
    "    # Clip X to prevent overflow or underflow\n",
    "    X = np.clip(X, -500, 500) # This ensures that np.exp(X) doesn't overflow\n",
    "    return 1 / (1 + np.exp(-X))\n",
    "\n",
    "\n",
    "def dsigmoid(X):\n",
    "    return sigmoid(X) * (1 - sigmoid(X))\n",
    "\n",
    "\n",
    "x = np.linspace(-5, 5, 100)\n",
    "plt.plot(x, sigmoid(x), label='sigmoid')\n",
    "plt.plot(x, dsigmoid(x), label='dsigmoid')\n",
    "plt.legend(loc='best');"
   ]
  },
  {
   "cell_type": "markdown",
   "metadata": {},
   "source": [
    "Now it's your turn to complete the neural network code, so that we can train it on the MNIST dataset.\n",
    "\n",
    "Some parts have been completed for you already. Often, you'll be able to refer back to the code from the previous section to help you complete the code in this section."
   ]
  },
  {
   "cell_type": "code",
   "execution_count": 68,
   "metadata": {},
   "outputs": [],
   "source": [
    "class NeuralNet():\n",
    "    \"\"\"MLP with 1 hidden layer with a sigmoid activation\"\"\"\n",
    "\n",
    "    def __init__(self, input_size, hidden_size, output_size):\n",
    "        # Initializes the weights with random numbers\n",
    "        self.W_h = np.random.uniform(size=(input_size, hidden_size),\n",
    "                                     high=0.1, low=-0.1)\n",
    "        self.b_h = np.random.uniform(size=hidden_size,\n",
    "                                     high=0.1, low=-0.1)\n",
    "        self.W_o = np.random.uniform(size=(hidden_size, output_size),\n",
    "                                     high=0.1, low=-0.1)\n",
    "        self.b_o = np.random.uniform(size=output_size,\n",
    "                                     high=0.1, low=-0.1)\n",
    "\n",
    "        # Store the input size, hidden size and output size\n",
    "        self.input_size = input_size\n",
    "        self.hidden_size = hidden_size\n",
    "        self.output_size = output_size\n",
    "\n",
    "    def forward_hidden(self, X):\n",
    "        # Compute the linear combination of the input and weights\n",
    "        self.Z_h = np.dot(X, self.W_h) + self.b_h\n",
    "\n",
    "        # Apply the sigmoid activation function\n",
    "        return sigmoid(self.Z_h)\n",
    "\n",
    "    def forward_output(self, H):\n",
    "        # Compute the linear combination of the hidden layer activation and weights\n",
    "        self.Z_o = np.dot(H, self.W_o) + self.b_o\n",
    "\n",
    "        # Apply the sigmoid activation function\n",
    "        return softmax(self.Z_o)\n",
    "\n",
    "    def forward(self, X):\n",
    "        # Compute the forward activations of the hidden and output layers\n",
    "        H = self.forward_hidden(X)\n",
    "        Y = self.forward_output(H)\n",
    "\n",
    "        return Y\n",
    "\n",
    "    def loss(self, X, y):\n",
    "        y_onehot = one_hot(self.output_size, y)\n",
    "        return nll(y_onehot, self.forward(X))\n",
    "\n",
    "    def grad_loss(self, X, y_true):\n",
    "        y_true = one_hot(self.output_size, y_true)\n",
    "        y_pred = self.forward(X)\n",
    "\n",
    "        # Compute the error at the output layer\n",
    "        error_o = y_pred - y_true\n",
    "\n",
    "        # Compute the gradient of the loss with respect to W_o and b_o\n",
    "        # grad_W_o = np.dot(self.Z_h.T, error_o)\n",
    "        grad_W_o = np.dot(self.forward_hidden(X).T, error_o)\n",
    "        grad_b_o = np.sum(error_o, axis=0)\n",
    "\n",
    "        # Compute the error at the hidden layer\n",
    "        error_h = np.dot(error_o, self.W_o.T) * dsigmoid(self.Z_h)\n",
    "\n",
    "        # Compute the gradient of the loss with respect to W_h and b_h\n",
    "        grad_W_h = np.dot(X.T, error_h)\n",
    "        grad_b_h = np.sum(error_h, axis=0)\n",
    "\n",
    "        return {\"W_h\": grad_W_h, \"b_h\": grad_b_h, \"W_o\": grad_W_o, \"b_o\": grad_b_o}\n",
    "\n",
    "    def train(self, x, y, learning_rate):\n",
    "        # Ensure x is 2D\n",
    "        x = x[np.newaxis, :]\n",
    "        # Compute the gradient for the sample and update the weights\n",
    "        grads = self.grad_loss(x, y)\n",
    "    \n",
    "        self.W_h -= learning_rate * grads[\"W_h\"]\n",
    "        self.b_h -= learning_rate * grads[\"b_h\"]\n",
    "        self.W_o -= learning_rate * grads[\"W_o\"]\n",
    "        self.b_o -= learning_rate * grads[\"b_o\"]\n",
    "        \n",
    "    def predict(self, X):\n",
    "        if len(X.shape) == 1:\n",
    "            return np.argmax(self.forward(X))\n",
    "        else:\n",
    "            return np.argmax(self.forward(X), axis=1)\n",
    "\n",
    "    def accuracy(self, X, y):\n",
    "        y_preds = np.argmax(self.forward(X), axis=1)\n",
    "        return np.mean(y_preds == y)"
   ]
  },
  {
   "cell_type": "markdown",
   "metadata": {
    "collapsed": false
   },
   "source": [
    "Once the code is written, we can test our model on a single sample:"
   ]
  },
  {
   "cell_type": "code",
   "execution_count": 69,
   "metadata": {},
   "outputs": [],
   "source": [
    "n_hidden = 10\n",
    "# randomly initialized\n",
    "model = NeuralNet(n_features, n_hidden, n_classes)"
   ]
  },
  {
   "cell_type": "code",
   "execution_count": 70,
   "metadata": {},
   "outputs": [
    {
     "data": {
      "text/plain": [
       "3551.067543037886"
      ]
     },
     "execution_count": 70,
     "metadata": {},
     "output_type": "execute_result"
    }
   ],
   "source": [
    "model.loss(X_train, y_train)"
   ]
  },
  {
   "cell_type": "code",
   "execution_count": 71,
   "metadata": {},
   "outputs": [
    {
     "data": {
      "text/plain": [
       "0.09888670595939751"
      ]
     },
     "execution_count": 71,
     "metadata": {},
     "output_type": "execute_result"
    }
   ],
   "source": [
    "model.accuracy(X_train, y_train)"
   ]
  },
  {
   "cell_type": "code",
   "execution_count": 72,
   "metadata": {},
   "outputs": [
    {
     "data": {
      "image/png": "[encoded data removed]",
      "text/plain": [
       "<Figure size 1000x400 with 2 Axes>"
      ]
     },
     "metadata": {},
     "output_type": "display_data"
    }
   ],
   "source": [
    "plot_prediction(model, sample_idx=5)"
   ]
  },
  {
   "cell_type": "markdown",
   "metadata": {
    "collapsed": false
   },
   "source": [
    "And now it's time to train!"
   ]
  },
  {
   "cell_type": "code",
   "execution_count": 73,
   "metadata": {},
   "outputs": [
    {
     "name": "stdout",
     "output_type": "stream",
     "text": [
      "Random init: train loss: 3551.06754, train acc: 0.099, test acc: 0.100\n",
      "Epoch #1, train loss: 3457.27011, train acc: 0.211, test acc: 0.196\n",
      "Epoch #2, train loss: 3368.92486, train acc: 0.333, test acc: 0.300\n",
      "Epoch #3, train loss: 3266.58332, train acc: 0.403, test acc: 0.370\n",
      "Epoch #4, train loss: 3144.99156, train acc: 0.409, test acc: 0.374\n",
      "Epoch #5, train loss: 3016.37475, train acc: 0.427, test acc: 0.374\n",
      "Epoch #6, train loss: 2888.47460, train acc: 0.449, test acc: 0.389\n",
      "Epoch #7, train loss: 2769.78870, train acc: 0.472, test acc: 0.415\n",
      "Epoch #8, train loss: 2658.69373, train acc: 0.492, test acc: 0.474\n",
      "Epoch #9, train loss: 2550.95020, train acc: 0.533, test acc: 0.511\n",
      "Epoch #10, train loss: 2446.07486, train acc: 0.555, test acc: 0.530\n",
      "Epoch #11, train loss: 2346.44085, train acc: 0.582, test acc: 0.552\n",
      "Epoch #12, train loss: 2252.30596, train acc: 0.637, test acc: 0.630\n",
      "Epoch #13, train loss: 2162.62610, train acc: 0.690, test acc: 0.678\n",
      "Epoch #14, train loss: 2077.01319, train acc: 0.740, test acc: 0.715\n",
      "Epoch #15, train loss: 1994.95387, train acc: 0.756, test acc: 0.752\n"
     ]
    }
   ],
   "source": [
    "losses, accuracies, accuracies_test = [], [], []\n",
    "losses.append(model.loss(X_train, y_train))\n",
    "accuracies.append(model.accuracy(X_train, y_train))\n",
    "accuracies_test.append(model.accuracy(X_test, y_test))\n",
    "\n",
    "print(\"Random init: train loss: %0.5f, train acc: %0.3f, test acc: %0.3f\"\n",
    "      % (losses[-1], accuracies[-1], accuracies_test[-1]))\n",
    "\n",
    "for epoch in range(15):\n",
    "    for i, (x, y) in enumerate(zip(X_train, y_train)):\n",
    "        model.train(x, y, 0.001)\n",
    "\n",
    "    losses.append(model.loss(X_train, y_train))\n",
    "    accuracies.append(model.accuracy(X_train, y_train))\n",
    "    accuracies_test.append(model.accuracy(X_test, y_test))\n",
    "    print(\"Epoch #%d, train loss: %0.5f, train acc: %0.3f, test acc: %0.3f\"\n",
    "          % (epoch + 1, losses[-1], accuracies[-1], accuracies_test[-1]))"
   ]
  },
  {
   "cell_type": "code",
   "execution_count": 74,
   "metadata": {},
   "outputs": [
    {
     "data": {
      "image/png": "[encoded data removed]",
      "text/plain": [
       "<Figure size 640x480 with 1 Axes>"
      ]
     },
     "metadata": {},
     "output_type": "display_data"
    }
   ],
   "source": [
    "plt.plot(losses)\n",
    "plt.title(\"Training loss\");"
   ]
  },
  {
   "cell_type": "code",
   "execution_count": 75,
   "metadata": {},
   "outputs": [
    {
     "data": {
      "image/png": "[encoded data removed]",
      "text/plain": [
       "<Figure size 640x480 with 1 Axes>"
      ]
     },
     "metadata": {},
     "output_type": "display_data"
    }
   ],
   "source": [
    "plt.plot(accuracies, label='train')\n",
    "plt.plot(accuracies_test, label='test')\n",
    "plt.ylim(0, 1.1)\n",
    "plt.ylabel(\"accuracy\")\n",
    "plt.legend(loc='best');"
   ]
  },
  {
   "cell_type": "code",
   "execution_count": 76,
   "metadata": {},
   "outputs": [
    {
     "data": {
      "image/png": "[encoded data removed]",
      "text/plain": [
       "<Figure size 1000x400 with 2 Axes>"
      ]
     },
     "metadata": {},
     "output_type": "display_data"
    }
   ],
   "source": [
    "plot_prediction(model, sample_idx=4)"
   ]
  },
  {
   "cell_type": "markdown",
   "metadata": {},
   "source": [
    "## c) Exercises\n",
    "\n",
    "### Look at worst prediction errors\n",
    "\n",
    "- Use numpy to find test samples for which the model made the worst predictions,\n",
    "- Use the `plot_prediction` to look at the model predictions on those,\n",
    "- Would you have done any better?"
   ]
  },
  {
   "cell_type": "code",
   "execution_count": 85,
   "metadata": {},
   "outputs": [
    {
     "data": {
      "image/png": "[encoded data removed]",
      "text/plain": [
       "<Figure size 1000x400 with 2 Axes>"
      ]
     },
     "metadata": {},
     "output_type": "display_data"
    }
   ],
   "source": [
    "y_pred = model.predict(X_test)\n",
    "\n",
    "wrong_indices = np.where(y_pred != y_test)[0]\n",
    "\n",
    "confidences = np.max(model.forward(X_test[wrong_indices]), axis=1)\n",
    "\n",
    "worst_index = wrong_indices[np.argmax(confidences)]\n",
    "\n",
    "plot_prediction(model, sample_idx=worst_index)"
   ]
  },
  {
   "cell_type": "markdown",
   "metadata": {},
   "source": [
    "Yes, I would have done better, but I understand why the model predicted the 4 to be a 6 – they appear similar."
   ]
  },
  {
   "cell_type": "markdown",
   "metadata": {},
   "source": [
    "### Hyper parameters settings\n",
    "\n",
    "- Experiment with different hyperparameters:\n",
    "  - learning rate,\n",
    "  - size of hidden layer,\n",
    "  - implement the support for a second hidden layer.\n",
    "  - What is the best test accuracy you can get?"
   ]
  },
  {
   "cell_type": "markdown",
   "metadata": {},
   "source": [
    "### Learning rate"
   ]
  },
  {
   "cell_type": "markdown",
   "metadata": {},
   "source": [
    "Increasing learning rate to .01 optimizes test accuracy to .930"
   ]
  },
  {
   "cell_type": "code",
   "execution_count": null,
   "metadata": {},
   "outputs": [
    {
     "name": "stdout",
     "output_type": "stream",
     "text": [
      "==================================================================\n",
      "Learning rate: 10.00000\n",
      "==================================================================\n",
      "Epoch #1, train loss: 41858.82835, train acc: 0.100, test acc: 0.107\n",
      "Epoch #2, train loss: 41858.86340, train acc: 0.100, test acc: 0.107\n",
      "Epoch #3, train loss: 41858.89820, train acc: 0.100, test acc: 0.107\n",
      "Epoch #4, train loss: 41858.93278, train acc: 0.100, test acc: 0.107\n",
      "Epoch #5, train loss: 41858.96713, train acc: 0.100, test acc: 0.107\n",
      "Epoch #6, train loss: 41859.00125, train acc: 0.100, test acc: 0.107\n",
      "Epoch #7, train loss: 41859.03514, train acc: 0.100, test acc: 0.107\n",
      "Epoch #8, train loss: 41859.06882, train acc: 0.100, test acc: 0.107\n",
      "Epoch #9, train loss: 41859.10228, train acc: 0.100, test acc: 0.107\n",
      "Epoch #10, train loss: 41859.13552, train acc: 0.100, test acc: 0.107\n",
      "Epoch #11, train loss: 41859.16855, train acc: 0.100, test acc: 0.107\n",
      "Epoch #12, train loss: 41859.20137, train acc: 0.100, test acc: 0.107\n",
      "Epoch #13, train loss: 41859.23398, train acc: 0.100, test acc: 0.107\n",
      "Epoch #14, train loss: 41859.26639, train acc: 0.100, test acc: 0.107\n",
      "Epoch #15, train loss: 41859.29859, train acc: 0.100, test acc: 0.107\n",
      "==================================================================\n",
      "Learning rate: 0.10000\n",
      "==================================================================\n",
      "Epoch #1, train loss: 3127.54729, train acc: 0.165, test acc: 0.167\n",
      "Epoch #2, train loss: 1591.90406, train acc: 0.630, test acc: 0.570\n",
      "Epoch #3, train loss: 2312.51740, train acc: 0.402, test acc: 0.441\n",
      "Epoch #4, train loss: 1811.47453, train acc: 0.548, test acc: 0.507\n",
      "Epoch #5, train loss: 1413.25969, train acc: 0.669, test acc: 0.667\n",
      "Epoch #6, train loss: 1228.66799, train acc: 0.698, test acc: 0.707\n",
      "Epoch #7, train loss: 1223.28189, train acc: 0.688, test acc: 0.700\n",
      "Epoch #8, train loss: 1390.83498, train acc: 0.682, test acc: 0.663\n",
      "Epoch #9, train loss: 1459.09027, train acc: 0.650, test acc: 0.604\n",
      "Epoch #10, train loss: 1441.89315, train acc: 0.604, test acc: 0.600\n",
      "Epoch #11, train loss: 2006.01177, train acc: 0.515, test acc: 0.478\n",
      "Epoch #12, train loss: 2072.66310, train acc: 0.485, test acc: 0.437\n",
      "Epoch #13, train loss: 2071.67097, train acc: 0.492, test acc: 0.437\n",
      "Epoch #14, train loss: 2124.34057, train acc: 0.443, test acc: 0.422\n",
      "Epoch #15, train loss: 1524.54992, train acc: 0.654, test acc: 0.593\n",
      "==================================================================\n",
      "Learning rate: 0.01000\n",
      "==================================================================\n",
      "Epoch #1, train loss: 1949.40202, train acc: 0.788, test acc: 0.756\n",
      "Epoch #2, train loss: 1258.48493, train acc: 0.867, test acc: 0.844\n",
      "Epoch #3, train loss: 815.38705, train acc: 0.902, test acc: 0.874\n",
      "Epoch #4, train loss: 637.88825, train acc: 0.927, test acc: 0.896\n",
      "Epoch #5, train loss: 590.49600, train acc: 0.927, test acc: 0.907\n",
      "Epoch #6, train loss: 429.64475, train acc: 0.952, test acc: 0.933\n",
      "Epoch #7, train loss: 392.15246, train acc: 0.956, test acc: 0.937\n",
      "Epoch #8, train loss: 361.44486, train acc: 0.957, test acc: 0.930\n",
      "Epoch #9, train loss: 374.25691, train acc: 0.950, test acc: 0.922\n",
      "Epoch #10, train loss: 311.82361, train acc: 0.960, test acc: 0.930\n",
      "Epoch #11, train loss: 314.04179, train acc: 0.954, test acc: 0.933\n",
      "Epoch #12, train loss: 330.23371, train acc: 0.952, test acc: 0.937\n",
      "Epoch #13, train loss: 306.65253, train acc: 0.956, test acc: 0.926\n",
      "Epoch #14, train loss: 244.45920, train acc: 0.968, test acc: 0.952\n",
      "Epoch #15, train loss: 232.44689, train acc: 0.967, test acc: 0.930\n",
      "==================================================================\n",
      "Learning rate: 0.00500\n",
      "==================================================================\n",
      "Epoch #1, train loss: 2750.71997, train acc: 0.757, test acc: 0.733\n",
      "Epoch #2, train loss: 1987.95378, train acc: 0.842, test acc: 0.804\n",
      "Epoch #3, train loss: 1494.83111, train acc: 0.866, test acc: 0.826\n",
      "Epoch #4, train loss: 1146.59051, train acc: 0.881, test acc: 0.844\n",
      "Epoch #5, train loss: 943.48653, train acc: 0.896, test acc: 0.859\n",
      "Epoch #6, train loss: 817.17617, train acc: 0.912, test acc: 0.889\n",
      "Epoch #7, train loss: 742.76034, train acc: 0.906, test acc: 0.893\n",
      "Epoch #8, train loss: 677.01168, train acc: 0.905, test acc: 0.900\n",
      "Epoch #9, train loss: 608.10606, train acc: 0.916, test acc: 0.904\n",
      "Epoch #10, train loss: 545.21060, train acc: 0.938, test acc: 0.919\n",
      "Epoch #11, train loss: 513.40446, train acc: 0.942, test acc: 0.919\n",
      "Epoch #12, train loss: 499.61549, train acc: 0.931, test acc: 0.911\n",
      "Epoch #13, train loss: 486.48987, train acc: 0.928, test acc: 0.911\n",
      "Epoch #14, train loss: 433.12372, train acc: 0.937, test acc: 0.919\n",
      "Epoch #15, train loss: 403.43243, train acc: 0.943, test acc: 0.915\n",
      "==================================================================\n",
      "Learning rate: 0.00100\n",
      "==================================================================\n",
      "Epoch #1, train loss: 3391.06937, train acc: 0.267, test acc: 0.233\n",
      "Epoch #2, train loss: 3237.37597, train acc: 0.507, test acc: 0.448\n",
      "Epoch #3, train loss: 3065.57133, train acc: 0.582, test acc: 0.530\n",
      "Epoch #4, train loss: 2886.70050, train acc: 0.633, test acc: 0.593\n",
      "Epoch #5, train loss: 2711.34836, train acc: 0.675, test acc: 0.641\n",
      "Epoch #6, train loss: 2543.99666, train acc: 0.739, test acc: 0.700\n",
      "Epoch #7, train loss: 2385.85895, train acc: 0.779, test acc: 0.748\n",
      "Epoch #8, train loss: 2219.24816, train acc: 0.805, test acc: 0.781\n",
      "Epoch #9, train loss: 2059.19362, train acc: 0.826, test acc: 0.807\n",
      "Epoch #10, train loss: 1914.33150, train acc: 0.845, test acc: 0.822\n",
      "Epoch #11, train loss: 1782.93662, train acc: 0.867, test acc: 0.848\n",
      "Epoch #12, train loss: 1663.50095, train acc: 0.884, test acc: 0.863\n",
      "Epoch #13, train loss: 1554.43020, train acc: 0.898, test acc: 0.870\n",
      "Epoch #14, train loss: 1455.33562, train acc: 0.910, test acc: 0.881\n",
      "Epoch #15, train loss: 1365.26016, train acc: 0.920, test acc: 0.893\n"
     ]
    }
   ],
   "source": [
    "n_features = X_train.shape[1]\n",
    "n_classes = len(np.unique(y_train))\n",
    "n_hidden = 10\n",
    "\n",
    "lrs = [10, .1, .01, .005, .001]\n",
    "\n",
    "for lr in lrs:\n",
    "    print(\"==================================================================\")\n",
    "    print(\"Learning rate: %0.5f\" %lr)\n",
    "    print(\"==================================================================\")\n",
    "    model = NeuralNet(n_features, n_hidden, n_classes)\n",
    "    losses, accuracies, accuracies_test = [], [], []\n",
    "    for epoch in range(15):\n",
    "        for i, (x, y) in enumerate(zip(X_train, y_train)):\n",
    "            model.train(x, y, lr)\n",
    "\n",
    "        losses.append(model.loss(X_train, y_train))\n",
    "        accuracies.append(model.accuracy(X_train, y_train))\n",
    "        accuracies_test.append(model.accuracy(X_test, y_test))\n",
    "        print(\"Epoch #%d, train loss: %0.5f, train acc: %0.3f, test acc: %0.3f\"\n",
    "            % (epoch + 1, losses[-1], accuracies[-1], accuracies_test[-1]))"
   ]
  },
  {
   "cell_type": "markdown",
   "metadata": {},
   "source": [
    "### Size of Hidden Layer"
   ]
  },
  {
   "cell_type": "markdown",
   "metadata": {},
   "source": [
    "Increasing the size of hidden layers to 75 optimizes test accuracy to .981"
   ]
  },
  {
   "cell_type": "code",
   "execution_count": null,
   "metadata": {},
   "outputs": [
    {
     "name": "stdout",
     "output_type": "stream",
     "text": [
      "==================================================================\n",
      "Size of hidden layer: 500.0\n",
      "==================================================================\n",
      "Epoch #1, train loss: 407.36845, train acc: 0.910, test acc: 0.885\n",
      "Epoch #2, train loss: 318.96378, train acc: 0.921, test acc: 0.896\n",
      "Epoch #3, train loss: 276.68564, train acc: 0.929, test acc: 0.904\n",
      "Epoch #4, train loss: 252.61471, train acc: 0.933, test acc: 0.915\n",
      "Epoch #5, train loss: 205.45445, train acc: 0.946, test acc: 0.919\n",
      "Epoch #6, train loss: 142.20284, train acc: 0.961, test acc: 0.937\n",
      "Epoch #7, train loss: 94.29560, train acc: 0.978, test acc: 0.959\n",
      "Epoch #8, train loss: 62.51469, train acc: 0.990, test acc: 0.963\n",
      "Epoch #9, train loss: 42.72507, train acc: 0.997, test acc: 0.967\n",
      "Epoch #10, train loss: 30.87780, train acc: 0.999, test acc: 0.970\n",
      "Epoch #11, train loss: 23.64519, train acc: 0.999, test acc: 0.974\n",
      "Epoch #12, train loss: 18.99242, train acc: 0.999, test acc: 0.978\n",
      "Epoch #13, train loss: 15.83048, train acc: 1.000, test acc: 0.978\n",
      "Epoch #14, train loss: 13.57332, train acc: 1.000, test acc: 0.978\n",
      "Epoch #15, train loss: 11.89193, train acc: 1.000, test acc: 0.978\n",
      "==================================================================\n",
      "Size of hidden layer: 250.0\n",
      "==================================================================\n",
      "Epoch #1, train loss: 385.02653, train acc: 0.933, test acc: 0.900\n",
      "Epoch #2, train loss: 281.48782, train acc: 0.940, test acc: 0.915\n",
      "Epoch #3, train loss: 224.21249, train acc: 0.951, test acc: 0.922\n",
      "Epoch #4, train loss: 183.11203, train acc: 0.959, test acc: 0.926\n",
      "Epoch #5, train loss: 153.16593, train acc: 0.963, test acc: 0.937\n",
      "Epoch #6, train loss: 124.00076, train acc: 0.969, test acc: 0.944\n",
      "Epoch #7, train loss: 97.77977, train acc: 0.977, test acc: 0.952\n",
      "Epoch #8, train loss: 76.33829, train acc: 0.986, test acc: 0.959\n",
      "Epoch #9, train loss: 59.19365, train acc: 0.991, test acc: 0.967\n",
      "Epoch #10, train loss: 46.09783, train acc: 0.996, test acc: 0.970\n",
      "Epoch #11, train loss: 36.41831, train acc: 0.999, test acc: 0.974\n",
      "Epoch #12, train loss: 29.32874, train acc: 1.000, test acc: 0.974\n",
      "Epoch #13, train loss: 24.13966, train acc: 1.000, test acc: 0.974\n",
      "Epoch #14, train loss: 20.31979, train acc: 1.000, test acc: 0.978\n",
      "Epoch #15, train loss: 17.47649, train acc: 1.000, test acc: 0.981\n",
      "==================================================================\n",
      "Size of hidden layer: 100.0\n",
      "==================================================================\n",
      "Epoch #1, train loss: 506.40116, train acc: 0.935, test acc: 0.904\n",
      "Epoch #2, train loss: 290.09399, train acc: 0.959, test acc: 0.948\n",
      "Epoch #3, train loss: 215.20351, train acc: 0.967, test acc: 0.952\n",
      "Epoch #4, train loss: 172.09432, train acc: 0.974, test acc: 0.952\n",
      "Epoch #5, train loss: 135.12582, train acc: 0.980, test acc: 0.948\n",
      "Epoch #6, train loss: 112.31015, train acc: 0.984, test acc: 0.952\n",
      "Epoch #7, train loss: 98.40909, train acc: 0.986, test acc: 0.952\n",
      "Epoch #8, train loss: 86.79485, train acc: 0.989, test acc: 0.952\n",
      "Epoch #9, train loss: 76.03212, train acc: 0.991, test acc: 0.952\n",
      "Epoch #10, train loss: 65.93408, train acc: 0.993, test acc: 0.959\n",
      "Epoch #11, train loss: 56.36511, train acc: 0.996, test acc: 0.959\n",
      "Epoch #12, train loss: 47.88751, train acc: 0.998, test acc: 0.963\n",
      "Epoch #13, train loss: 41.06787, train acc: 0.998, test acc: 0.967\n",
      "Epoch #14, train loss: 35.68692, train acc: 0.999, test acc: 0.978\n",
      "Epoch #15, train loss: 31.32893, train acc: 0.999, test acc: 0.978\n",
      "==================================================================\n",
      "Size of hidden layer: 75.0\n",
      "==================================================================\n",
      "Epoch #1, train loss: 593.99490, train acc: 0.916, test acc: 0.889\n",
      "Epoch #2, train loss: 297.43679, train acc: 0.963, test acc: 0.944\n",
      "Epoch #3, train loss: 213.81778, train acc: 0.972, test acc: 0.952\n",
      "Epoch #4, train loss: 164.74993, train acc: 0.979, test acc: 0.956\n",
      "Epoch #5, train loss: 137.48655, train acc: 0.982, test acc: 0.956\n",
      "Epoch #6, train loss: 116.54992, train acc: 0.985, test acc: 0.959\n",
      "Epoch #7, train loss: 101.47484, train acc: 0.988, test acc: 0.956\n",
      "Epoch #8, train loss: 89.16040, train acc: 0.991, test acc: 0.956\n",
      "Epoch #9, train loss: 74.40972, train acc: 0.993, test acc: 0.963\n",
      "Epoch #10, train loss: 61.12904, train acc: 0.994, test acc: 0.970\n",
      "Epoch #11, train loss: 52.25259, train acc: 0.996, test acc: 0.970\n",
      "Epoch #12, train loss: 45.67252, train acc: 0.999, test acc: 0.974\n",
      "Epoch #13, train loss: 40.44638, train acc: 0.999, test acc: 0.978\n",
      "Epoch #14, train loss: 36.12925, train acc: 0.999, test acc: 0.981\n",
      "Epoch #15, train loss: 32.51519, train acc: 0.999, test acc: 0.981\n",
      "==================================================================\n",
      "Size of hidden layer: 50.0\n",
      "==================================================================\n",
      "Epoch #1, train loss: 644.98232, train acc: 0.929, test acc: 0.907\n",
      "Epoch #2, train loss: 324.02563, train acc: 0.965, test acc: 0.956\n",
      "Epoch #3, train loss: 221.45865, train acc: 0.978, test acc: 0.963\n",
      "Epoch #4, train loss: 164.97439, train acc: 0.982, test acc: 0.967\n",
      "Epoch #5, train loss: 129.33285, train acc: 0.988, test acc: 0.967\n",
      "Epoch #6, train loss: 124.62644, train acc: 0.989, test acc: 0.959\n",
      "Epoch #7, train loss: 111.03009, train acc: 0.990, test acc: 0.959\n",
      "Epoch #8, train loss: 97.38744, train acc: 0.991, test acc: 0.963\n",
      "Epoch #9, train loss: 84.66497, train acc: 0.993, test acc: 0.967\n",
      "Epoch #10, train loss: 75.48181, train acc: 0.993, test acc: 0.967\n",
      "Epoch #11, train loss: 66.19750, train acc: 0.995, test acc: 0.970\n",
      "Epoch #12, train loss: 56.37854, train acc: 0.996, test acc: 0.970\n",
      "Epoch #13, train loss: 49.22063, train acc: 0.997, test acc: 0.970\n",
      "Epoch #14, train loss: 44.19371, train acc: 0.999, test acc: 0.970\n",
      "Epoch #15, train loss: 40.14258, train acc: 0.999, test acc: 0.970\n",
      "==================================================================\n",
      "Size of hidden layer: 10.0\n",
      "==================================================================\n",
      "Epoch #1, train loss: 2207.77557, train acc: 0.635, test acc: 0.593\n",
      "Epoch #2, train loss: 1342.37602, train acc: 0.880, test acc: 0.852\n",
      "Epoch #3, train loss: 995.16856, train acc: 0.906, test acc: 0.889\n",
      "Epoch #4, train loss: 902.64424, train acc: 0.897, test acc: 0.874\n",
      "Epoch #5, train loss: 592.02900, train acc: 0.937, test acc: 0.915\n",
      "Epoch #6, train loss: 536.50547, train acc: 0.937, test acc: 0.926\n",
      "Epoch #7, train loss: 589.79950, train acc: 0.910, test acc: 0.896\n",
      "Epoch #8, train loss: 420.45947, train acc: 0.945, test acc: 0.926\n",
      "Epoch #9, train loss: 510.77810, train acc: 0.919, test acc: 0.915\n",
      "Epoch #10, train loss: 416.01708, train acc: 0.932, test acc: 0.907\n",
      "Epoch #11, train loss: 318.63023, train acc: 0.961, test acc: 0.941\n",
      "Epoch #12, train loss: 317.42503, train acc: 0.961, test acc: 0.930\n",
      "Epoch #13, train loss: 416.91969, train acc: 0.920, test acc: 0.893\n",
      "Epoch #14, train loss: 275.79999, train acc: 0.959, test acc: 0.941\n",
      "Epoch #15, train loss: 283.43217, train acc: 0.961, test acc: 0.922\n"
     ]
    }
   ],
   "source": [
    "n_features = X_train.shape[1]\n",
    "n_classes = len(np.unique(y_train))\n",
    "lr = .01\n",
    "\n",
    "hidden_layers = [500, 250, 100, 75, 50, 10]\n",
    "\n",
    "for hl in hidden_layers:\n",
    "    print(\"==================================================================\")\n",
    "    print(\"Size of hidden layer: %0.1f\" %hl)\n",
    "    print(\"==================================================================\")\n",
    "    model = NeuralNet(n_features, hl, n_classes)\n",
    "    losses, accuracies, accuracies_test = [], [], []\n",
    "    for epoch in range(15):\n",
    "        for i, (x, y) in enumerate(zip(X_train, y_train)):\n",
    "            model.train(x, y, lr)\n",
    "\n",
    "        losses.append(model.loss(X_train, y_train))\n",
    "        accuracies.append(model.accuracy(X_train, y_train))\n",
    "        accuracies_test.append(model.accuracy(X_test, y_test))\n",
    "        print(\"Epoch #%d, train loss: %0.5f, train acc: %0.3f, test acc: %0.3f\"\n",
    "            % (epoch + 1, losses[-1], accuracies[-1], accuracies_test[-1]))"
   ]
  },
  {
   "cell_type": "markdown",
   "metadata": {},
   "source": [
    "### Second hidden layer"
   ]
  },
  {
   "cell_type": "code",
   "execution_count": 90,
   "metadata": {},
   "outputs": [],
   "source": [
    "class NeuralNet():\n",
    "    \"\"\"MLP with 2 hidden layers with a sigmoid activation\"\"\"\n",
    "\n",
    "    def __init__(self, input_size, h1_size, h2_size, output_size):\n",
    "        # Initializes the weights with random numbers\n",
    "        # first hidden layer\n",
    "        self.W_h1 = np.random.uniform(size=(input_size, h1_size),\n",
    "                                     high=0.1, low=-0.1)\n",
    "        self.b_h1 = np.random.uniform(size=h1_size,\n",
    "                                     high=0.1, low=-0.1)\n",
    "        \n",
    "        # second hidden layer\n",
    "        self.W_h2 = np.random.uniform(size=(h1_size, h2_size),\n",
    "                                     high=0.1, low=-0.1)\n",
    "        self.b_h2 = np.random.uniform(size=h2_size,\n",
    "                                     high=0.1, low=-0.1)\n",
    "\n",
    "        # output layer\n",
    "        self.W_o = np.random.uniform(size=(h2_size, output_size),\n",
    "                                     high=0.1, low=-0.1)\n",
    "        self.b_o = np.random.uniform(size=output_size,\n",
    "                                     high=0.1, low=-0.1)\n",
    "\n",
    "        # Store the input size, hidden size and output size\n",
    "        self.input_size = input_size\n",
    "        self.h1_size = h1_size\n",
    "        self.h2_size = h2_size\n",
    "        self.output_size = output_size\n",
    "\n",
    "    def forward_h1(self, X):\n",
    "        # Compute the linear combination of the input and weights\n",
    "        self.Z_h1 = np.dot(X, self.W_h1) + self.b_h1\n",
    "\n",
    "        # Apply the sigmoid activation function\n",
    "        return sigmoid(self.Z_h1)\n",
    "    \n",
    "    def forward_h2(self, X):\n",
    "        # Compute the linear combination of the input and weights\n",
    "        self.Z_h2 = np.dot(X, self.W_h2) + self.b_h2\n",
    "\n",
    "        # Apply the sigmoid activation function\n",
    "        return sigmoid(self.Z_h2)\n",
    "\n",
    "    def forward_output(self, X):\n",
    "        # Compute the linear combination of the hidden layer activation and weights\n",
    "        self.Z_o = np.dot(X, self.W_o) + self.b_o\n",
    "\n",
    "        # Apply the sigmoid activation function\n",
    "        return softmax(self.Z_o)\n",
    "\n",
    "    def forward(self, X):\n",
    "        # Compute the forward activations of the hidden and output layers\n",
    "        H1 = self.forward_h1(X)\n",
    "        # add additional hidden layer\n",
    "        H2 = self.forward_h2(H1)\n",
    "        Y = self.forward_output(H2)\n",
    "\n",
    "        return Y\n",
    "\n",
    "    def loss(self, X, y):\n",
    "        y_onehot = one_hot(self.output_size, y)\n",
    "        return nll(y_onehot, self.forward(X))\n",
    "\n",
    "    def grad_loss(self, X, y_true):\n",
    "        y_true = one_hot(self.output_size, y_true)\n",
    "        y_pred = self.forward(X)\n",
    "\n",
    "        # backprop: output > h2 > h1\n",
    "        # Compute the error at the output layer\n",
    "        error_o = y_pred - y_true\n",
    "        grad_W_o = np.dot(self.Z_h2.T, error_o)\n",
    "        grad_b_o = np.sum(error_o, axis=0)\n",
    "\n",
    "        # Compute the error at the second hidden layer\n",
    "        error_h2 = np.dot(error_o, self.W_o.T) * dsigmoid(self.Z_h2)\n",
    "        grad_W_h2 = np.dot(self.Z_h1.T, error_h2)\n",
    "        grad_b_h2 = np.sum(error_h2, axis=0)\n",
    "\n",
    "        # Compute the error at the first hidden layer\n",
    "        error_h1 = np.dot(error_h2, self.W_h2.T) * dsigmoid(self.Z_h1)\n",
    "        grad_W_h1 = np.dot(X.T, error_h1)\n",
    "        grad_b_h1 = np.sum(error_h1, axis=0)\n",
    "\n",
    "        return {\"W_h1\": grad_W_h1, \n",
    "                \"b_h1\": grad_b_h1, \n",
    "                \"W_h2\": grad_W_h2, \n",
    "                \"b_h2\": grad_b_h2, \n",
    "                \"W_o\": grad_W_o, \n",
    "                \"b_o\": grad_b_o}\n",
    "\n",
    "    def train(self, x, y, learning_rate):\n",
    "        # Ensure x is 2D\n",
    "        x = x[np.newaxis, :]\n",
    "        # Compute the gradient for the sample and update the weights\n",
    "        grads = self.grad_loss(x, y)\n",
    "    \n",
    "        self.W_h1 -= learning_rate * grads[\"W_h1\"]\n",
    "        self.b_h1 -= learning_rate * grads[\"b_h1\"]\n",
    "\n",
    "        self.W_h2 -= learning_rate * grads[\"W_h2\"]\n",
    "        self.b_h2 -= learning_rate * grads[\"b_h2\"]\n",
    "\n",
    "        self.W_o -= learning_rate * grads[\"W_o\"]\n",
    "        self.b_o -= learning_rate * grads[\"b_o\"]\n",
    "        \n",
    "    def predict(self, X):\n",
    "        if len(X.shape) == 1:\n",
    "            return np.argmax(self.forward(X))\n",
    "        else:\n",
    "            return np.argmax(self.forward(X), axis=1)\n",
    "\n",
    "    def accuracy(self, X, y):\n",
    "        y_preds = np.argmax(self.forward(X), axis=1)\n",
    "        return np.mean(y_preds == y)"
   ]
  },
  {
   "cell_type": "code",
   "execution_count": 91,
   "metadata": {},
   "outputs": [
    {
     "name": "stdout",
     "output_type": "stream",
     "text": [
      "==================================================================\n",
      "Size of hidden layers: 500.0\n",
      "==================================================================\n",
      "Epoch #1, train loss: 358.33062, train acc: 0.912, test acc: 0.896\n",
      "Epoch #2, train loss: 377.77640, train acc: 0.905, test acc: 0.885\n",
      "Epoch #3, train loss: 228.91792, train acc: 0.944, test acc: 0.911\n",
      "Epoch #4, train loss: 202.41667, train acc: 0.946, test acc: 0.926\n",
      "Epoch #5, train loss: 155.94186, train acc: 0.958, test acc: 0.941\n",
      "Epoch #6, train loss: 161.30097, train acc: 0.959, test acc: 0.944\n",
      "Epoch #7, train loss: 86.07753, train acc: 0.982, test acc: 0.959\n",
      "Epoch #8, train loss: 35.94856, train acc: 0.991, test acc: 0.967\n",
      "Epoch #9, train loss: 14.15515, train acc: 0.999, test acc: 0.981\n",
      "Epoch #10, train loss: 8.73429, train acc: 1.000, test acc: 0.985\n",
      "Epoch #11, train loss: 6.60331, train acc: 1.000, test acc: 0.985\n",
      "Epoch #12, train loss: 5.41760, train acc: 1.000, test acc: 0.985\n",
      "Epoch #13, train loss: 4.61883, train acc: 1.000, test acc: 0.985\n",
      "Epoch #14, train loss: 4.03232, train acc: 1.000, test acc: 0.985\n",
      "Epoch #15, train loss: 3.58052, train acc: 1.000, test acc: 0.985\n",
      "==================================================================\n",
      "Size of hidden layers: 250.0\n",
      "==================================================================\n",
      "Epoch #1, train loss: 354.69337, train acc: 0.923, test acc: 0.907\n",
      "Epoch #2, train loss: 320.32946, train acc: 0.919, test acc: 0.907\n",
      "Epoch #3, train loss: 249.60201, train acc: 0.938, test acc: 0.915\n",
      "Epoch #4, train loss: 212.88770, train acc: 0.944, test acc: 0.900\n",
      "Epoch #5, train loss: 151.83947, train acc: 0.961, test acc: 0.922\n",
      "Epoch #6, train loss: 96.23735, train acc: 0.979, test acc: 0.956\n",
      "Epoch #7, train loss: 51.33075, train acc: 0.990, test acc: 0.967\n",
      "Epoch #8, train loss: 26.75428, train acc: 0.998, test acc: 0.974\n",
      "Epoch #9, train loss: 15.25451, train acc: 1.000, test acc: 0.978\n",
      "Epoch #10, train loss: 10.96531, train acc: 1.000, test acc: 0.985\n",
      "Epoch #11, train loss: 8.61365, train acc: 1.000, test acc: 0.985\n",
      "Epoch #12, train loss: 7.17498, train acc: 1.000, test acc: 0.985\n",
      "Epoch #13, train loss: 6.18636, train acc: 1.000, test acc: 0.985\n",
      "Epoch #14, train loss: 5.45086, train acc: 1.000, test acc: 0.985\n",
      "Epoch #15, train loss: 4.87189, train acc: 1.000, test acc: 0.985\n",
      "==================================================================\n",
      "Size of hidden layers: 100.0\n",
      "==================================================================\n",
      "Epoch #1, train loss: 484.34298, train acc: 0.912, test acc: 0.881\n",
      "Epoch #2, train loss: 322.93692, train acc: 0.926, test acc: 0.911\n",
      "Epoch #3, train loss: 221.53498, train acc: 0.954, test acc: 0.922\n",
      "Epoch #4, train loss: 181.43969, train acc: 0.965, test acc: 0.933\n",
      "Epoch #5, train loss: 160.90568, train acc: 0.961, test acc: 0.926\n",
      "Epoch #6, train loss: 114.81441, train acc: 0.973, test acc: 0.952\n",
      "Epoch #7, train loss: 81.87349, train acc: 0.984, test acc: 0.959\n",
      "Epoch #8, train loss: 43.58737, train acc: 0.995, test acc: 0.970\n",
      "Epoch #9, train loss: 22.72103, train acc: 0.999, test acc: 0.985\n",
      "Epoch #10, train loss: 19.59960, train acc: 0.999, test acc: 0.985\n",
      "Epoch #11, train loss: 11.80222, train acc: 1.000, test acc: 0.985\n",
      "Epoch #12, train loss: 8.76073, train acc: 1.000, test acc: 0.985\n",
      "Epoch #13, train loss: 7.44706, train acc: 1.000, test acc: 0.985\n",
      "Epoch #14, train loss: 6.46506, train acc: 1.000, test acc: 0.985\n",
      "Epoch #15, train loss: 5.71340, train acc: 1.000, test acc: 0.985\n",
      "==================================================================\n",
      "Size of hidden layers: 75.0\n",
      "==================================================================\n",
      "Epoch #1, train loss: 692.78589, train acc: 0.869, test acc: 0.826\n",
      "Epoch #2, train loss: 328.19523, train acc: 0.935, test acc: 0.930\n",
      "Epoch #3, train loss: 267.05406, train acc: 0.944, test acc: 0.930\n",
      "Epoch #4, train loss: 165.87026, train acc: 0.971, test acc: 0.941\n",
      "Epoch #5, train loss: 173.01235, train acc: 0.966, test acc: 0.944\n",
      "Epoch #6, train loss: 136.01445, train acc: 0.971, test acc: 0.944\n",
      "Epoch #7, train loss: 244.84649, train acc: 0.938, test acc: 0.896\n",
      "Epoch #8, train loss: 152.23941, train acc: 0.967, test acc: 0.948\n",
      "Epoch #9, train loss: 123.28068, train acc: 0.969, test acc: 0.956\n",
      "Epoch #10, train loss: 356.15152, train acc: 0.916, test acc: 0.878\n",
      "Epoch #11, train loss: 248.11027, train acc: 0.938, test acc: 0.907\n",
      "Epoch #12, train loss: 907.03994, train acc: 0.849, test acc: 0.841\n",
      "Epoch #13, train loss: 394.16118, train acc: 0.898, test acc: 0.878\n",
      "Epoch #14, train loss: 642.88939, train acc: 0.862, test acc: 0.837\n",
      "Epoch #15, train loss: 370.21983, train acc: 0.914, test acc: 0.859\n",
      "==================================================================\n",
      "Size of hidden layers: 50.0\n",
      "==================================================================\n",
      "Epoch #1, train loss: 926.18551, train acc: 0.825, test acc: 0.785\n",
      "Epoch #2, train loss: 369.24734, train acc: 0.932, test acc: 0.907\n",
      "Epoch #3, train loss: 377.50933, train acc: 0.931, test acc: 0.919\n",
      "Epoch #4, train loss: 375.60073, train acc: 0.916, test acc: 0.870\n",
      "Epoch #5, train loss: 443.02238, train acc: 0.903, test acc: 0.852\n",
      "Epoch #6, train loss: 571.80789, train acc: 0.865, test acc: 0.837\n",
      "Epoch #7, train loss: 462.46900, train acc: 0.895, test acc: 0.896\n",
      "Epoch #8, train loss: 530.35408, train acc: 0.889, test acc: 0.885\n",
      "Epoch #9, train loss: 542.08120, train acc: 0.879, test acc: 0.852\n",
      "Epoch #10, train loss: 780.27768, train acc: 0.845, test acc: 0.822\n",
      "Epoch #11, train loss: 1087.66200, train acc: 0.773, test acc: 0.748\n",
      "Epoch #12, train loss: 985.93203, train acc: 0.752, test acc: 0.748\n",
      "Epoch #13, train loss: 592.47194, train acc: 0.873, test acc: 0.867\n",
      "Epoch #14, train loss: 1557.98840, train acc: 0.666, test acc: 0.663\n",
      "Epoch #15, train loss: 2101.07258, train acc: 0.544, test acc: 0.519\n"
     ]
    }
   ],
   "source": [
    "n_features = X_train.shape[1]\n",
    "n_classes = len(np.unique(y_train))\n",
    "lr = .01\n",
    "\n",
    "hidden_layers = [500, 250, 100, 75, 50]\n",
    "\n",
    "for hl in hidden_layers:\n",
    "    print(\"==================================================================\")\n",
    "    print(\"Size of hidden layers: %0.1f\" %hl)\n",
    "    print(\"==================================================================\")\n",
    "\n",
    "    model = NeuralNet(n_features, hl, hl, n_classes)\n",
    "    losses, accuracies, accuracies_test = [], [], []\n",
    "    for epoch in range(15):\n",
    "        for i, (x, y) in enumerate(zip(X_train, y_train)):\n",
    "            model.train(x, y, lr)\n",
    "\n",
    "        losses.append(model.loss(X_train, y_train))\n",
    "        accuracies.append(model.accuracy(X_train, y_train))\n",
    "        accuracies_test.append(model.accuracy(X_test, y_test))\n",
    "        print(\"Epoch #%d, train loss: %0.5f, train acc: %0.3f, test acc: %0.3f\"\n",
    "            % (epoch + 1, losses[-1], accuracies[-1], accuracies_test[-1]))"
   ]
  },
  {
   "cell_type": "markdown",
   "metadata": {},
   "source": [
    "### Best accuracy = 0.985"
   ]
  },
  {
   "cell_type": "markdown",
   "metadata": {},
   "source": [
    "The highest test accuracy of .985 is achieved when both hidden layers have a size of 100 neurons each. Although the train accuracy is 1.00, it's not a concern since test accuracy is also very high, the gap between train accuracy and test accuracy is not big, and the task is a relatively simple image classification of digits."
   ]
  }
 ],
 "metadata": {
  "kernelspec": {
   "display_name": "tf",
   "language": "python",
   "name": "python3"
  },
  "language_info": {
   "codemirror_mode": {
    "name": "ipython",
    "version": 3
   },
   "file_extension": ".py",
   "mimetype": "text/x-python",
   "name": "python",
   "nbconvert_exporter": "python",
   "pygments_lexer": "ipython3",
   "version": "3.9.19"
  }
 },
 "nbformat": 4,
 "nbformat_minor": 4
}
