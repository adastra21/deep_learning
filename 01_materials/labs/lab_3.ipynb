{
 "cells": [
  {
   "cell_type": "markdown",
   "metadata": {},
   "source": [
    "# Recommender Systems\n",
    "\n",
    "In this lab, we'll be using Keras to build a recommender system. We'll be using the MovieLens dataset, a common benchmark dataset for recommender systems. \n",
    "\n",
    "MovieLens is a web-based recommender system and virtual community that recommends movies for its users to watch, based on their film preferences using collaborative filtering of members' movie ratings and movie reviews. You can check out the website here: https://movielens.org/\n",
    "\n",
    "We will download a subset of the dataset containing 100k ratings. There are tens of millions of ratings in the full dataset, spanning hundreds of thousands of users and movies. The subset we'll be using is a good example to demonstrate the concepts in this lab."
   ]
  },
  {
   "cell_type": "code",
   "execution_count": 1,
   "metadata": {},
   "outputs": [],
   "source": [
    "%matplotlib inline\n",
    "import matplotlib.pyplot as plt\n",
    "import numpy as np\n",
    "from zipfile import ZipFile\n",
    "from urllib.request import urlretrieve\n",
    "from pathlib import Path\n",
    "\n",
    "ML_100K_URL = \"http://files.grouplens.org/datasets/movielens/ml-100k.zip\"\n",
    "ML_100K_FILENAME = Path(\"ml-100k.zip\")\n",
    "ML_100K_FOLDER = Path(\"ml-100k\")\n",
    "\n",
    "if not ML_100K_FOLDER.exists():\n",
    "    if not ML_100K_FILENAME.exists():\n",
    "        urlretrieve(ML_100K_URL, ML_100K_FILENAME.name)\n",
    "    with ZipFile(ML_100K_FILENAME.name) as zipf:\n",
    "        zipf.extractall()"
   ]
  },
  {
   "cell_type": "markdown",
   "metadata": {},
   "source": [
    "The goal of MovieLens is to enable models to predict the rating a user would give to a movie they have not yet watched. This is a classic example of a recommendation system. The dataset is huge, and contains many parts giving information about the movies, the users, and the ratings. To begin with, we will look at the ratings file. Each line in the ratings file (u.data) is formatted as:\n",
    "\n",
    "`user_id, item_id, rating, timestamp`\n",
    "\n",
    "Which tells us a single user's rating of a single movie.\n",
    "\n",
    "We will start by loading the ratings data into a pandas dataframe and then take a look at the first few rows. If you haven't used Pandas before, it's an extremely powerful library for dealing with tabular data. You can think of it as a Python version of Excel."
   ]
  },
  {
   "cell_type": "code",
   "execution_count": 2,
   "metadata": {},
   "outputs": [
    {
     "data": {
      "text/plain": [
       "PosixPath('ml-100k/u.data')"
      ]
     },
     "execution_count": 2,
     "metadata": {},
     "output_type": "execute_result"
    }
   ],
   "source": [
    "ML_100K_FOLDER/\"u.data\""
   ]
  },
  {
   "cell_type": "code",
   "execution_count": 3,
   "metadata": {},
   "outputs": [
    {
     "data": {
      "text/html": [
       "<div>\n",
       "<style scoped>\n",
       "    .dataframe tbody tr th:only-of-type {\n",
       "        vertical-align: middle;\n",
       "    }\n",
       "\n",
       "    .dataframe tbody tr th {\n",
       "        vertical-align: top;\n",
       "    }\n",
       "\n",
       "    .dataframe thead th {\n",
       "        text-align: right;\n",
       "    }\n",
       "</style>\n",
       "<table border=\"1\" class=\"dataframe\">\n",
       "  <thead>\n",
       "    <tr style=\"text-align: right;\">\n",
       "      <th></th>\n",
       "      <th>user_id</th>\n",
       "      <th>item_id</th>\n",
       "      <th>rating</th>\n",
       "      <th>timestamp</th>\n",
       "    </tr>\n",
       "  </thead>\n",
       "  <tbody>\n",
       "    <tr>\n",
       "      <th>0</th>\n",
       "      <td>196</td>\n",
       "      <td>242</td>\n",
       "      <td>3</td>\n",
       "      <td>881250949</td>\n",
       "    </tr>\n",
       "    <tr>\n",
       "      <th>1</th>\n",
       "      <td>186</td>\n",
       "      <td>302</td>\n",
       "      <td>3</td>\n",
       "      <td>891717742</td>\n",
       "    </tr>\n",
       "    <tr>\n",
       "      <th>2</th>\n",
       "      <td>22</td>\n",
       "      <td>377</td>\n",
       "      <td>1</td>\n",
       "      <td>878887116</td>\n",
       "    </tr>\n",
       "    <tr>\n",
       "      <th>3</th>\n",
       "      <td>244</td>\n",
       "      <td>51</td>\n",
       "      <td>2</td>\n",
       "      <td>880606923</td>\n",
       "    </tr>\n",
       "    <tr>\n",
       "      <th>4</th>\n",
       "      <td>166</td>\n",
       "      <td>346</td>\n",
       "      <td>1</td>\n",
       "      <td>886397596</td>\n",
       "    </tr>\n",
       "    <tr>\n",
       "      <th>...</th>\n",
       "      <td>...</td>\n",
       "      <td>...</td>\n",
       "      <td>...</td>\n",
       "      <td>...</td>\n",
       "    </tr>\n",
       "    <tr>\n",
       "      <th>99995</th>\n",
       "      <td>880</td>\n",
       "      <td>476</td>\n",
       "      <td>3</td>\n",
       "      <td>880175444</td>\n",
       "    </tr>\n",
       "    <tr>\n",
       "      <th>99996</th>\n",
       "      <td>716</td>\n",
       "      <td>204</td>\n",
       "      <td>5</td>\n",
       "      <td>879795543</td>\n",
       "    </tr>\n",
       "    <tr>\n",
       "      <th>99997</th>\n",
       "      <td>276</td>\n",
       "      <td>1090</td>\n",
       "      <td>1</td>\n",
       "      <td>874795795</td>\n",
       "    </tr>\n",
       "    <tr>\n",
       "      <th>99998</th>\n",
       "      <td>13</td>\n",
       "      <td>225</td>\n",
       "      <td>2</td>\n",
       "      <td>882399156</td>\n",
       "    </tr>\n",
       "    <tr>\n",
       "      <th>99999</th>\n",
       "      <td>12</td>\n",
       "      <td>203</td>\n",
       "      <td>3</td>\n",
       "      <td>879959583</td>\n",
       "    </tr>\n",
       "  </tbody>\n",
       "</table>\n",
       "<p>100000 rows × 4 columns</p>\n",
       "</div>"
      ],
      "text/plain": [
       "       user_id  item_id  rating  timestamp\n",
       "0          196      242       3  881250949\n",
       "1          186      302       3  891717742\n",
       "2           22      377       1  878887116\n",
       "3          244       51       2  880606923\n",
       "4          166      346       1  886397596\n",
       "...        ...      ...     ...        ...\n",
       "99995      880      476       3  880175444\n",
       "99996      716      204       5  879795543\n",
       "99997      276     1090       1  874795795\n",
       "99998       13      225       2  882399156\n",
       "99999       12      203       3  879959583\n",
       "\n",
       "[100000 rows x 4 columns]"
      ]
     },
     "execution_count": 3,
     "metadata": {},
     "output_type": "execute_result"
    }
   ],
   "source": [
    "import pandas as pd\n",
    "\n",
    "raw_ratings = pd.read_csv(ML_100K_FOLDER / \"u.data\", sep='\\t',\n",
    "                          names=[\"user_id\", \"item_id\", \"rating\", \"timestamp\"])\n",
    "raw_ratings"
   ]
  },
  {
   "cell_type": "markdown",
   "metadata": {},
   "source": [
    "The second file we'll look at is the movie metadata. This file (u.item) contains information about each movie, including the title and release date. Each line in the file is formatted as:\n",
    "\n",
    "`movie_id | movie_title | release_date | video_release_date | IMDb_URL | unknown | Action | Adventure | Animation | Children's | Comedy | Crime | Documentary | Drama | Fantasy | Film-Noir | Horror | Musical | Mystery | Romance | Sci-Fi | Thriller | War | Western`\n",
    "\n",
    "As you can see, the genres are binary variables. As with one-hot encoding, a 1 indicates that the movie is of that genre, and a 0 indicates that it is not. We aren't going to work with the genre data in this lab, but it's easy to imagine that it could be useful in a real-world recommendation system."
   ]
  },
  {
   "cell_type": "code",
   "execution_count": 4,
   "metadata": {},
   "outputs": [
    {
     "data": {
      "text/html": [
       "<div>\n",
       "<style scoped>\n",
       "    .dataframe tbody tr th:only-of-type {\n",
       "        vertical-align: middle;\n",
       "    }\n",
       "\n",
       "    .dataframe tbody tr th {\n",
       "        vertical-align: top;\n",
       "    }\n",
       "\n",
       "    .dataframe thead th {\n",
       "        text-align: right;\n",
       "    }\n",
       "</style>\n",
       "<table border=\"1\" class=\"dataframe\">\n",
       "  <thead>\n",
       "    <tr style=\"text-align: right;\">\n",
       "      <th></th>\n",
       "      <th>item_id</th>\n",
       "      <th>title</th>\n",
       "      <th>release_date</th>\n",
       "      <th>video_release_date</th>\n",
       "      <th>imdb_url</th>\n",
       "    </tr>\n",
       "  </thead>\n",
       "  <tbody>\n",
       "    <tr>\n",
       "      <th>0</th>\n",
       "      <td>1</td>\n",
       "      <td>Toy Story (1995)</td>\n",
       "      <td>01-Jan-1995</td>\n",
       "      <td>NaN</td>\n",
       "      <td>http://us.imdb.com/M/title-exact?Toy%20Story%2...</td>\n",
       "    </tr>\n",
       "    <tr>\n",
       "      <th>1</th>\n",
       "      <td>2</td>\n",
       "      <td>GoldenEye (1995)</td>\n",
       "      <td>01-Jan-1995</td>\n",
       "      <td>NaN</td>\n",
       "      <td>http://us.imdb.com/M/title-exact?GoldenEye%20(...</td>\n",
       "    </tr>\n",
       "    <tr>\n",
       "      <th>2</th>\n",
       "      <td>3</td>\n",
       "      <td>Four Rooms (1995)</td>\n",
       "      <td>01-Jan-1995</td>\n",
       "      <td>NaN</td>\n",
       "      <td>http://us.imdb.com/M/title-exact?Four%20Rooms%...</td>\n",
       "    </tr>\n",
       "    <tr>\n",
       "      <th>3</th>\n",
       "      <td>4</td>\n",
       "      <td>Get Shorty (1995)</td>\n",
       "      <td>01-Jan-1995</td>\n",
       "      <td>NaN</td>\n",
       "      <td>http://us.imdb.com/M/title-exact?Get%20Shorty%...</td>\n",
       "    </tr>\n",
       "    <tr>\n",
       "      <th>4</th>\n",
       "      <td>5</td>\n",
       "      <td>Copycat (1995)</td>\n",
       "      <td>01-Jan-1995</td>\n",
       "      <td>NaN</td>\n",
       "      <td>http://us.imdb.com/M/title-exact?Copycat%20(1995)</td>\n",
       "    </tr>\n",
       "    <tr>\n",
       "      <th>...</th>\n",
       "      <td>...</td>\n",
       "      <td>...</td>\n",
       "      <td>...</td>\n",
       "      <td>...</td>\n",
       "      <td>...</td>\n",
       "    </tr>\n",
       "    <tr>\n",
       "      <th>1677</th>\n",
       "      <td>1678</td>\n",
       "      <td>Mat' i syn (1997)</td>\n",
       "      <td>06-Feb-1998</td>\n",
       "      <td>NaN</td>\n",
       "      <td>http://us.imdb.com/M/title-exact?Mat%27+i+syn+...</td>\n",
       "    </tr>\n",
       "    <tr>\n",
       "      <th>1678</th>\n",
       "      <td>1679</td>\n",
       "      <td>B. Monkey (1998)</td>\n",
       "      <td>06-Feb-1998</td>\n",
       "      <td>NaN</td>\n",
       "      <td>http://us.imdb.com/M/title-exact?B%2E+Monkey+(...</td>\n",
       "    </tr>\n",
       "    <tr>\n",
       "      <th>1679</th>\n",
       "      <td>1680</td>\n",
       "      <td>Sliding Doors (1998)</td>\n",
       "      <td>01-Jan-1998</td>\n",
       "      <td>NaN</td>\n",
       "      <td>http://us.imdb.com/Title?Sliding+Doors+(1998)</td>\n",
       "    </tr>\n",
       "    <tr>\n",
       "      <th>1680</th>\n",
       "      <td>1681</td>\n",
       "      <td>You So Crazy (1994)</td>\n",
       "      <td>01-Jan-1994</td>\n",
       "      <td>NaN</td>\n",
       "      <td>http://us.imdb.com/M/title-exact?You%20So%20Cr...</td>\n",
       "    </tr>\n",
       "    <tr>\n",
       "      <th>1681</th>\n",
       "      <td>1682</td>\n",
       "      <td>Scream of Stone (Schrei aus Stein) (1991)</td>\n",
       "      <td>08-Mar-1996</td>\n",
       "      <td>NaN</td>\n",
       "      <td>http://us.imdb.com/M/title-exact?Schrei%20aus%...</td>\n",
       "    </tr>\n",
       "  </tbody>\n",
       "</table>\n",
       "<p>1682 rows × 5 columns</p>\n",
       "</div>"
      ],
      "text/plain": [
       "      item_id                                      title release_date  \\\n",
       "0           1                           Toy Story (1995)  01-Jan-1995   \n",
       "1           2                           GoldenEye (1995)  01-Jan-1995   \n",
       "2           3                          Four Rooms (1995)  01-Jan-1995   \n",
       "3           4                          Get Shorty (1995)  01-Jan-1995   \n",
       "4           5                             Copycat (1995)  01-Jan-1995   \n",
       "...       ...                                        ...          ...   \n",
       "1677     1678                          Mat' i syn (1997)  06-Feb-1998   \n",
       "1678     1679                           B. Monkey (1998)  06-Feb-1998   \n",
       "1679     1680                       Sliding Doors (1998)  01-Jan-1998   \n",
       "1680     1681                        You So Crazy (1994)  01-Jan-1994   \n",
       "1681     1682  Scream of Stone (Schrei aus Stein) (1991)  08-Mar-1996   \n",
       "\n",
       "      video_release_date                                           imdb_url  \n",
       "0                    NaN  http://us.imdb.com/M/title-exact?Toy%20Story%2...  \n",
       "1                    NaN  http://us.imdb.com/M/title-exact?GoldenEye%20(...  \n",
       "2                    NaN  http://us.imdb.com/M/title-exact?Four%20Rooms%...  \n",
       "3                    NaN  http://us.imdb.com/M/title-exact?Get%20Shorty%...  \n",
       "4                    NaN  http://us.imdb.com/M/title-exact?Copycat%20(1995)  \n",
       "...                  ...                                                ...  \n",
       "1677                 NaN  http://us.imdb.com/M/title-exact?Mat%27+i+syn+...  \n",
       "1678                 NaN  http://us.imdb.com/M/title-exact?B%2E+Monkey+(...  \n",
       "1679                 NaN      http://us.imdb.com/Title?Sliding+Doors+(1998)  \n",
       "1680                 NaN  http://us.imdb.com/M/title-exact?You%20So%20Cr...  \n",
       "1681                 NaN  http://us.imdb.com/M/title-exact?Schrei%20aus%...  \n",
       "\n",
       "[1682 rows x 5 columns]"
      ]
     },
     "execution_count": 4,
     "metadata": {},
     "output_type": "execute_result"
    }
   ],
   "source": [
    "columns_to_keep = ['item_id', 'title', 'release_date', 'video_release_date', 'imdb_url']\n",
    "items = pd.read_csv(ML_100K_FOLDER / \"u.item\", sep='|', names=columns_to_keep,\n",
    "                    encoding='latin-1', usecols=range(5))\n",
    "items"
   ]
  },
  {
   "cell_type": "markdown",
   "metadata": {},
   "source": [
    "By default, the `release_date` column is a string. We can convert it to a `datetime` object using the `pd.to_datetime` function. This will make it easier to work with in the future (if we want to do things like check which date came first, for example).\n",
    " \n",
    "We can also extract the year from the date and store it in a separate column. This will make it easier to do things like plot the number of movies released each year."
   ]
  },
  {
   "cell_type": "code",
   "execution_count": 5,
   "metadata": {},
   "outputs": [
    {
     "data": {
      "text/plain": [
       "(1682, 5)"
      ]
     },
     "execution_count": 5,
     "metadata": {},
     "output_type": "execute_result"
    }
   ],
   "source": [
    "items.shape"
   ]
  },
  {
   "cell_type": "code",
   "execution_count": 6,
   "metadata": {},
   "outputs": [],
   "source": [
    "# drop unknown title\n",
    "items = items[~(items['title']=='unknown')].copy()"
   ]
  },
  {
   "cell_type": "code",
   "execution_count": 7,
   "metadata": {},
   "outputs": [],
   "source": [
    "items['release_date'] = pd.to_datetime(items['release_date']) # Pandas makes this easy!\n",
    "items['release_year'] = items['release_date'].dt.year.astype(int) # For later use"
   ]
  },
  {
   "cell_type": "code",
   "execution_count": 8,
   "metadata": {},
   "outputs": [
    {
     "data": {
      "text/plain": [
       "item_id                        int64\n",
       "title                         object\n",
       "release_date          datetime64[ns]\n",
       "video_release_date           float64\n",
       "imdb_url                      object\n",
       "release_year                   int64\n",
       "dtype: object"
      ]
     },
     "execution_count": 8,
     "metadata": {},
     "output_type": "execute_result"
    }
   ],
   "source": [
    "items.dtypes"
   ]
  },
  {
   "cell_type": "code",
   "execution_count": 9,
   "metadata": {},
   "outputs": [
    {
     "data": {
      "text/plain": [
       "release_year\n",
       "1996    0.211184\n",
       "1997    0.170137\n",
       "1995    0.130280\n",
       "1994    0.127305\n",
       "1993    0.074955\n",
       "1998    0.038667\n",
       "1992    0.022011\n",
       "1990    0.014277\n",
       "1991    0.013087\n",
       "1989    0.008923\n",
       "Name: proportion, dtype: float64"
      ]
     },
     "execution_count": 9,
     "metadata": {},
     "output_type": "execute_result"
    }
   ],
   "source": [
    "items['release_year'].value_counts(normalize=True)[:10]"
   ]
  },
  {
   "cell_type": "markdown",
   "metadata": {},
   "source": [
    "For our purposes, it will be easier to work with the data if we merge our two dataframes into a single dataframe. We can do this using the `merge` method. We'll merge the `items` dataframe into the `raw_ratings` dataframe, using the `item_id` column as the key. This will add the movie title and release year to each rating."
   ]
  },
  {
   "cell_type": "code",
   "execution_count": 10,
   "metadata": {},
   "outputs": [
    {
     "data": {
      "text/plain": [
       "Index(['user_id', 'item_id', 'rating', 'timestamp'], dtype='object')"
      ]
     },
     "execution_count": 10,
     "metadata": {},
     "output_type": "execute_result"
    }
   ],
   "source": [
    "raw_ratings.columns"
   ]
  },
  {
   "cell_type": "code",
   "execution_count": 11,
   "metadata": {},
   "outputs": [],
   "source": [
    "# joining on item_id\n",
    "all_ratings = pd.merge(items, raw_ratings)"
   ]
  },
  {
   "cell_type": "code",
   "execution_count": 12,
   "metadata": {},
   "outputs": [
    {
     "data": {
      "text/html": [
       "<div>\n",
       "<style scoped>\n",
       "    .dataframe tbody tr th:only-of-type {\n",
       "        vertical-align: middle;\n",
       "    }\n",
       "\n",
       "    .dataframe tbody tr th {\n",
       "        vertical-align: top;\n",
       "    }\n",
       "\n",
       "    .dataframe thead th {\n",
       "        text-align: right;\n",
       "    }\n",
       "</style>\n",
       "<table border=\"1\" class=\"dataframe\">\n",
       "  <thead>\n",
       "    <tr style=\"text-align: right;\">\n",
       "      <th></th>\n",
       "      <th>item_id</th>\n",
       "      <th>title</th>\n",
       "      <th>release_date</th>\n",
       "      <th>video_release_date</th>\n",
       "      <th>imdb_url</th>\n",
       "      <th>release_year</th>\n",
       "      <th>user_id</th>\n",
       "      <th>rating</th>\n",
       "      <th>timestamp</th>\n",
       "    </tr>\n",
       "  </thead>\n",
       "  <tbody>\n",
       "    <tr>\n",
       "      <th>0</th>\n",
       "      <td>1</td>\n",
       "      <td>Toy Story (1995)</td>\n",
       "      <td>1995-01-01</td>\n",
       "      <td>NaN</td>\n",
       "      <td>http://us.imdb.com/M/title-exact?Toy%20Story%2...</td>\n",
       "      <td>1995</td>\n",
       "      <td>308</td>\n",
       "      <td>4</td>\n",
       "      <td>887736532</td>\n",
       "    </tr>\n",
       "    <tr>\n",
       "      <th>1</th>\n",
       "      <td>1</td>\n",
       "      <td>Toy Story (1995)</td>\n",
       "      <td>1995-01-01</td>\n",
       "      <td>NaN</td>\n",
       "      <td>http://us.imdb.com/M/title-exact?Toy%20Story%2...</td>\n",
       "      <td>1995</td>\n",
       "      <td>287</td>\n",
       "      <td>5</td>\n",
       "      <td>875334088</td>\n",
       "    </tr>\n",
       "    <tr>\n",
       "      <th>2</th>\n",
       "      <td>1</td>\n",
       "      <td>Toy Story (1995)</td>\n",
       "      <td>1995-01-01</td>\n",
       "      <td>NaN</td>\n",
       "      <td>http://us.imdb.com/M/title-exact?Toy%20Story%2...</td>\n",
       "      <td>1995</td>\n",
       "      <td>148</td>\n",
       "      <td>4</td>\n",
       "      <td>877019411</td>\n",
       "    </tr>\n",
       "    <tr>\n",
       "      <th>3</th>\n",
       "      <td>1</td>\n",
       "      <td>Toy Story (1995)</td>\n",
       "      <td>1995-01-01</td>\n",
       "      <td>NaN</td>\n",
       "      <td>http://us.imdb.com/M/title-exact?Toy%20Story%2...</td>\n",
       "      <td>1995</td>\n",
       "      <td>280</td>\n",
       "      <td>4</td>\n",
       "      <td>891700426</td>\n",
       "    </tr>\n",
       "    <tr>\n",
       "      <th>4</th>\n",
       "      <td>1</td>\n",
       "      <td>Toy Story (1995)</td>\n",
       "      <td>1995-01-01</td>\n",
       "      <td>NaN</td>\n",
       "      <td>http://us.imdb.com/M/title-exact?Toy%20Story%2...</td>\n",
       "      <td>1995</td>\n",
       "      <td>66</td>\n",
       "      <td>3</td>\n",
       "      <td>883601324</td>\n",
       "    </tr>\n",
       "  </tbody>\n",
       "</table>\n",
       "</div>"
      ],
      "text/plain": [
       "   item_id             title release_date  video_release_date  \\\n",
       "0        1  Toy Story (1995)   1995-01-01                 NaN   \n",
       "1        1  Toy Story (1995)   1995-01-01                 NaN   \n",
       "2        1  Toy Story (1995)   1995-01-01                 NaN   \n",
       "3        1  Toy Story (1995)   1995-01-01                 NaN   \n",
       "4        1  Toy Story (1995)   1995-01-01                 NaN   \n",
       "\n",
       "                                            imdb_url  release_year  user_id  \\\n",
       "0  http://us.imdb.com/M/title-exact?Toy%20Story%2...          1995      308   \n",
       "1  http://us.imdb.com/M/title-exact?Toy%20Story%2...          1995      287   \n",
       "2  http://us.imdb.com/M/title-exact?Toy%20Story%2...          1995      148   \n",
       "3  http://us.imdb.com/M/title-exact?Toy%20Story%2...          1995      280   \n",
       "4  http://us.imdb.com/M/title-exact?Toy%20Story%2...          1995       66   \n",
       "\n",
       "   rating  timestamp  \n",
       "0       4  887736532  \n",
       "1       5  875334088  \n",
       "2       4  877019411  \n",
       "3       4  891700426  \n",
       "4       3  883601324  "
      ]
     },
     "execution_count": 12,
     "metadata": {},
     "output_type": "execute_result"
    }
   ],
   "source": [
    "all_ratings.head()"
   ]
  },
  {
   "cell_type": "markdown",
   "metadata": {},
   "source": [
    "### Data preprocessing\n",
    "\n",
    "It's always important to understand the data you've collected. Thankfully, Pandas continues to make this easy for us. Using the `describe` method, we can get a quick statistical summary of the data."
   ]
  },
  {
   "cell_type": "code",
   "execution_count": 13,
   "metadata": {},
   "outputs": [
    {
     "data": {
      "text/html": [
       "<div>\n",
       "<style scoped>\n",
       "    .dataframe tbody tr th:only-of-type {\n",
       "        vertical-align: middle;\n",
       "    }\n",
       "\n",
       "    .dataframe tbody tr th {\n",
       "        vertical-align: top;\n",
       "    }\n",
       "\n",
       "    .dataframe thead th {\n",
       "        text-align: right;\n",
       "    }\n",
       "</style>\n",
       "<table border=\"1\" class=\"dataframe\">\n",
       "  <thead>\n",
       "    <tr style=\"text-align: right;\">\n",
       "      <th></th>\n",
       "      <th>item_id</th>\n",
       "      <th>release_date</th>\n",
       "      <th>video_release_date</th>\n",
       "      <th>release_year</th>\n",
       "      <th>user_id</th>\n",
       "      <th>rating</th>\n",
       "      <th>timestamp</th>\n",
       "    </tr>\n",
       "  </thead>\n",
       "  <tbody>\n",
       "    <tr>\n",
       "      <th>count</th>\n",
       "      <td>99991.000000</td>\n",
       "      <td>99991</td>\n",
       "      <td>0.0</td>\n",
       "      <td>99991.000000</td>\n",
       "      <td>99991.000000</td>\n",
       "      <td>99991.000000</td>\n",
       "      <td>9.999100e+04</td>\n",
       "    </tr>\n",
       "    <tr>\n",
       "      <th>mean</th>\n",
       "      <td>425.544399</td>\n",
       "      <td>1988-02-09 00:43:11.369223360</td>\n",
       "      <td>NaN</td>\n",
       "      <td>1987.956216</td>\n",
       "      <td>462.498305</td>\n",
       "      <td>3.529868</td>\n",
       "      <td>8.835296e+08</td>\n",
       "    </tr>\n",
       "    <tr>\n",
       "      <th>min</th>\n",
       "      <td>1.000000</td>\n",
       "      <td>1922-01-01 00:00:00</td>\n",
       "      <td>NaN</td>\n",
       "      <td>1922.000000</td>\n",
       "      <td>1.000000</td>\n",
       "      <td>1.000000</td>\n",
       "      <td>8.747247e+08</td>\n",
       "    </tr>\n",
       "    <tr>\n",
       "      <th>25%</th>\n",
       "      <td>175.000000</td>\n",
       "      <td>1986-01-01 00:00:00</td>\n",
       "      <td>NaN</td>\n",
       "      <td>1986.000000</td>\n",
       "      <td>254.000000</td>\n",
       "      <td>3.000000</td>\n",
       "      <td>8.794488e+08</td>\n",
       "    </tr>\n",
       "    <tr>\n",
       "      <th>50%</th>\n",
       "      <td>322.000000</td>\n",
       "      <td>1994-01-01 00:00:00</td>\n",
       "      <td>NaN</td>\n",
       "      <td>1994.000000</td>\n",
       "      <td>447.000000</td>\n",
       "      <td>4.000000</td>\n",
       "      <td>8.828270e+08</td>\n",
       "    </tr>\n",
       "    <tr>\n",
       "      <th>75%</th>\n",
       "      <td>631.000000</td>\n",
       "      <td>1996-09-28 00:00:00</td>\n",
       "      <td>NaN</td>\n",
       "      <td>1996.000000</td>\n",
       "      <td>682.000000</td>\n",
       "      <td>4.000000</td>\n",
       "      <td>8.882600e+08</td>\n",
       "    </tr>\n",
       "    <tr>\n",
       "      <th>max</th>\n",
       "      <td>1682.000000</td>\n",
       "      <td>1998-10-23 00:00:00</td>\n",
       "      <td>NaN</td>\n",
       "      <td>1998.000000</td>\n",
       "      <td>943.000000</td>\n",
       "      <td>5.000000</td>\n",
       "      <td>8.932866e+08</td>\n",
       "    </tr>\n",
       "    <tr>\n",
       "      <th>std</th>\n",
       "      <td>330.809824</td>\n",
       "      <td>NaN</td>\n",
       "      <td>NaN</td>\n",
       "      <td>14.155523</td>\n",
       "      <td>266.612120</td>\n",
       "      <td>1.125679</td>\n",
       "      <td>5.343572e+06</td>\n",
       "    </tr>\n",
       "  </tbody>\n",
       "</table>\n",
       "</div>"
      ],
      "text/plain": [
       "            item_id                   release_date  video_release_date  \\\n",
       "count  99991.000000                          99991                 0.0   \n",
       "mean     425.544399  1988-02-09 00:43:11.369223360                 NaN   \n",
       "min        1.000000            1922-01-01 00:00:00                 NaN   \n",
       "25%      175.000000            1986-01-01 00:00:00                 NaN   \n",
       "50%      322.000000            1994-01-01 00:00:00                 NaN   \n",
       "75%      631.000000            1996-09-28 00:00:00                 NaN   \n",
       "max     1682.000000            1998-10-23 00:00:00                 NaN   \n",
       "std      330.809824                            NaN                 NaN   \n",
       "\n",
       "       release_year       user_id        rating     timestamp  \n",
       "count  99991.000000  99991.000000  99991.000000  9.999100e+04  \n",
       "mean    1987.956216    462.498305      3.529868  8.835296e+08  \n",
       "min     1922.000000      1.000000      1.000000  8.747247e+08  \n",
       "25%     1986.000000    254.000000      3.000000  8.794488e+08  \n",
       "50%     1994.000000    447.000000      4.000000  8.828270e+08  \n",
       "75%     1996.000000    682.000000      4.000000  8.882600e+08  \n",
       "max     1998.000000    943.000000      5.000000  8.932866e+08  \n",
       "std       14.155523    266.612120      1.125679  5.343572e+06  "
      ]
     },
     "execution_count": 13,
     "metadata": {},
     "output_type": "execute_result"
    }
   ],
   "source": [
    "all_ratings.describe()"
   ]
  },
  {
   "cell_type": "markdown",
   "metadata": {},
   "source": [
    "Let's do a bit more pandas magic to compute the popularity of each movie (number of ratings). We will use the `groupby` method to group the dataframe by the `item_id` column and then use the `size` method to compute the number of ratings for each movie. We will use the `reset_index` method to convert the resulting Series into a dataframe with an `item_id` column."
   ]
  },
  {
   "cell_type": "code",
   "execution_count": 14,
   "metadata": {},
   "outputs": [],
   "source": [
    "popularity = all_ratings.groupby('item_id').size().reset_index(name='popularity')\n",
    "# join on item_id\n",
    "items = pd.merge(popularity, items)"
   ]
  },
  {
   "cell_type": "code",
   "execution_count": 15,
   "metadata": {},
   "outputs": [
    {
     "data": {
      "image/png": "[encoded data removed]",
      "text/plain": [
       "<Figure size 640x480 with 1 Axes>"
      ]
     },
     "metadata": {},
     "output_type": "display_data"
    }
   ],
   "source": [
    "items['popularity'].plot.hist(bins=30);"
   ]
  },
  {
   "cell_type": "code",
   "execution_count": 16,
   "metadata": {},
   "outputs": [
    {
     "data": {
      "text/plain": [
       "141"
      ]
     },
     "execution_count": 16,
     "metadata": {},
     "output_type": "execute_result"
    }
   ],
   "source": [
    "(items['popularity'] == 1).sum() # Number of movies with only one rating"
   ]
  },
  {
   "cell_type": "code",
   "execution_count": 17,
   "metadata": {},
   "outputs": [
    {
     "data": {
      "text/plain": [
       "49                                 Star Wars (1977)\n",
       "257                                  Contact (1997)\n",
       "99                                     Fargo (1996)\n",
       "180                       Return of the Jedi (1983)\n",
       "292                                Liar Liar (1997)\n",
       "284                     English Patient, The (1996)\n",
       "286                                   Scream (1996)\n",
       "0                                  Toy Story (1995)\n",
       "298                            Air Force One (1997)\n",
       "120                   Independence Day (ID4) (1996)\n",
       "173                  Raiders of the Lost Ark (1981)\n",
       "126                           Godfather, The (1972)\n",
       "55                              Pulp Fiction (1994)\n",
       "6                             Twelve Monkeys (1995)\n",
       "97                 Silence of the Lambs, The (1991)\n",
       "236                            Jerry Maguire (1996)\n",
       "116                                Rock, The (1996)\n",
       "171                 Empire Strikes Back, The (1980)\n",
       "221                 Star Trek: First Contact (1996)\n",
       "203                       Back to the Future (1985)\n",
       "311                                  Titanic (1997)\n",
       "403                      Mission: Impossible (1996)\n",
       "78                             Fugitive, The (1993)\n",
       "209       Indiana Jones and the Last Crusade (1989)\n",
       "150    Willy Wonka and the Chocolate Factory (1971)\n",
       "172                      Princess Bride, The (1987)\n",
       "68                              Forrest Gump (1994)\n",
       "167          Monty Python and the Holy Grail (1974)\n",
       "746                               Saint, The (1997)\n",
       "267                          Full Monty, The (1997)\n",
       "Name: title, dtype: object"
      ]
     },
     "execution_count": 17,
     "metadata": {},
     "output_type": "execute_result"
    }
   ],
   "source": [
    "items.nlargest(30, 'popularity')['title'] # Get the 10 most popular movies"
   ]
  },
  {
   "cell_type": "code",
   "execution_count": 18,
   "metadata": {},
   "outputs": [
    {
     "data": {
      "text/html": [
       "<div>\n",
       "<style scoped>\n",
       "    .dataframe tbody tr th:only-of-type {\n",
       "        vertical-align: middle;\n",
       "    }\n",
       "\n",
       "    .dataframe tbody tr th {\n",
       "        vertical-align: top;\n",
       "    }\n",
       "\n",
       "    .dataframe thead th {\n",
       "        text-align: right;\n",
       "    }\n",
       "</style>\n",
       "<table border=\"1\" class=\"dataframe\">\n",
       "  <thead>\n",
       "    <tr style=\"text-align: right;\">\n",
       "      <th></th>\n",
       "      <th>item_id</th>\n",
       "      <th>popularity</th>\n",
       "      <th>release_date</th>\n",
       "      <th>video_release_date</th>\n",
       "      <th>release_year</th>\n",
       "      <th>user_id</th>\n",
       "      <th>rating</th>\n",
       "      <th>timestamp</th>\n",
       "    </tr>\n",
       "  </thead>\n",
       "  <tbody>\n",
       "    <tr>\n",
       "      <th>count</th>\n",
       "      <td>99991.000000</td>\n",
       "      <td>99991.000000</td>\n",
       "      <td>99991</td>\n",
       "      <td>0.0</td>\n",
       "      <td>99991.000000</td>\n",
       "      <td>99991.000000</td>\n",
       "      <td>99991.000000</td>\n",
       "      <td>9.999100e+04</td>\n",
       "    </tr>\n",
       "    <tr>\n",
       "      <th>mean</th>\n",
       "      <td>425.544399</td>\n",
       "      <td>168.086218</td>\n",
       "      <td>1988-02-09 00:43:11.369223360</td>\n",
       "      <td>NaN</td>\n",
       "      <td>1987.956216</td>\n",
       "      <td>462.498305</td>\n",
       "      <td>3.529868</td>\n",
       "      <td>8.835296e+08</td>\n",
       "    </tr>\n",
       "    <tr>\n",
       "      <th>min</th>\n",
       "      <td>1.000000</td>\n",
       "      <td>1.000000</td>\n",
       "      <td>1922-01-01 00:00:00</td>\n",
       "      <td>NaN</td>\n",
       "      <td>1922.000000</td>\n",
       "      <td>1.000000</td>\n",
       "      <td>1.000000</td>\n",
       "      <td>8.747247e+08</td>\n",
       "    </tr>\n",
       "    <tr>\n",
       "      <th>25%</th>\n",
       "      <td>175.000000</td>\n",
       "      <td>71.000000</td>\n",
       "      <td>1986-01-01 00:00:00</td>\n",
       "      <td>NaN</td>\n",
       "      <td>1986.000000</td>\n",
       "      <td>254.000000</td>\n",
       "      <td>3.000000</td>\n",
       "      <td>8.794488e+08</td>\n",
       "    </tr>\n",
       "    <tr>\n",
       "      <th>50%</th>\n",
       "      <td>322.000000</td>\n",
       "      <td>145.000000</td>\n",
       "      <td>1994-01-01 00:00:00</td>\n",
       "      <td>NaN</td>\n",
       "      <td>1994.000000</td>\n",
       "      <td>447.000000</td>\n",
       "      <td>4.000000</td>\n",
       "      <td>8.828270e+08</td>\n",
       "    </tr>\n",
       "    <tr>\n",
       "      <th>75%</th>\n",
       "      <td>631.000000</td>\n",
       "      <td>239.000000</td>\n",
       "      <td>1996-09-28 00:00:00</td>\n",
       "      <td>NaN</td>\n",
       "      <td>1996.000000</td>\n",
       "      <td>682.000000</td>\n",
       "      <td>4.000000</td>\n",
       "      <td>8.882600e+08</td>\n",
       "    </tr>\n",
       "    <tr>\n",
       "      <th>max</th>\n",
       "      <td>1682.000000</td>\n",
       "      <td>583.000000</td>\n",
       "      <td>1998-10-23 00:00:00</td>\n",
       "      <td>NaN</td>\n",
       "      <td>1998.000000</td>\n",
       "      <td>943.000000</td>\n",
       "      <td>5.000000</td>\n",
       "      <td>8.932866e+08</td>\n",
       "    </tr>\n",
       "    <tr>\n",
       "      <th>std</th>\n",
       "      <td>330.809824</td>\n",
       "      <td>121.780688</td>\n",
       "      <td>NaN</td>\n",
       "      <td>NaN</td>\n",
       "      <td>14.155523</td>\n",
       "      <td>266.612120</td>\n",
       "      <td>1.125679</td>\n",
       "      <td>5.343572e+06</td>\n",
       "    </tr>\n",
       "  </tbody>\n",
       "</table>\n",
       "</div>"
      ],
      "text/plain": [
       "            item_id    popularity                   release_date  \\\n",
       "count  99991.000000  99991.000000                          99991   \n",
       "mean     425.544399    168.086218  1988-02-09 00:43:11.369223360   \n",
       "min        1.000000      1.000000            1922-01-01 00:00:00   \n",
       "25%      175.000000     71.000000            1986-01-01 00:00:00   \n",
       "50%      322.000000    145.000000            1994-01-01 00:00:00   \n",
       "75%      631.000000    239.000000            1996-09-28 00:00:00   \n",
       "max     1682.000000    583.000000            1998-10-23 00:00:00   \n",
       "std      330.809824    121.780688                            NaN   \n",
       "\n",
       "       video_release_date  release_year       user_id        rating  \\\n",
       "count                 0.0  99991.000000  99991.000000  99991.000000   \n",
       "mean                  NaN   1987.956216    462.498305      3.529868   \n",
       "min                   NaN   1922.000000      1.000000      1.000000   \n",
       "25%                   NaN   1986.000000    254.000000      3.000000   \n",
       "50%                   NaN   1994.000000    447.000000      4.000000   \n",
       "75%                   NaN   1996.000000    682.000000      4.000000   \n",
       "max                   NaN   1998.000000    943.000000      5.000000   \n",
       "std                   NaN     14.155523    266.612120      1.125679   \n",
       "\n",
       "          timestamp  \n",
       "count  9.999100e+04  \n",
       "mean   8.835296e+08  \n",
       "min    8.747247e+08  \n",
       "25%    8.794488e+08  \n",
       "50%    8.828270e+08  \n",
       "75%    8.882600e+08  \n",
       "max    8.932866e+08  \n",
       "std    5.343572e+06  "
      ]
     },
     "execution_count": 18,
     "metadata": {},
     "output_type": "execute_result"
    }
   ],
   "source": [
    "all_ratings = pd.merge(popularity, all_ratings)\n",
    "all_ratings.describe()"
   ]
  },
  {
   "cell_type": "code",
   "execution_count": 19,
   "metadata": {
    "collapsed": false
   },
   "outputs": [],
   "source": [
    "indexed_items = items.set_index('item_id')"
   ]
  },
  {
   "cell_type": "code",
   "execution_count": 20,
   "metadata": {},
   "outputs": [
    {
     "data": {
      "text/html": [
       "<div>\n",
       "<style scoped>\n",
       "    .dataframe tbody tr th:only-of-type {\n",
       "        vertical-align: middle;\n",
       "    }\n",
       "\n",
       "    .dataframe tbody tr th {\n",
       "        vertical-align: top;\n",
       "    }\n",
       "\n",
       "    .dataframe thead th {\n",
       "        text-align: right;\n",
       "    }\n",
       "</style>\n",
       "<table border=\"1\" class=\"dataframe\">\n",
       "  <thead>\n",
       "    <tr style=\"text-align: right;\">\n",
       "      <th></th>\n",
       "      <th>item_id</th>\n",
       "      <th>popularity</th>\n",
       "      <th>title</th>\n",
       "      <th>release_date</th>\n",
       "      <th>video_release_date</th>\n",
       "      <th>imdb_url</th>\n",
       "      <th>release_year</th>\n",
       "      <th>user_id</th>\n",
       "      <th>rating</th>\n",
       "      <th>timestamp</th>\n",
       "    </tr>\n",
       "  </thead>\n",
       "  <tbody>\n",
       "    <tr>\n",
       "      <th>0</th>\n",
       "      <td>1</td>\n",
       "      <td>452</td>\n",
       "      <td>Toy Story (1995)</td>\n",
       "      <td>1995-01-01</td>\n",
       "      <td>NaN</td>\n",
       "      <td>http://us.imdb.com/M/title-exact?Toy%20Story%2...</td>\n",
       "      <td>1995</td>\n",
       "      <td>308</td>\n",
       "      <td>4</td>\n",
       "      <td>887736532</td>\n",
       "    </tr>\n",
       "    <tr>\n",
       "      <th>1</th>\n",
       "      <td>1</td>\n",
       "      <td>452</td>\n",
       "      <td>Toy Story (1995)</td>\n",
       "      <td>1995-01-01</td>\n",
       "      <td>NaN</td>\n",
       "      <td>http://us.imdb.com/M/title-exact?Toy%20Story%2...</td>\n",
       "      <td>1995</td>\n",
       "      <td>287</td>\n",
       "      <td>5</td>\n",
       "      <td>875334088</td>\n",
       "    </tr>\n",
       "    <tr>\n",
       "      <th>2</th>\n",
       "      <td>1</td>\n",
       "      <td>452</td>\n",
       "      <td>Toy Story (1995)</td>\n",
       "      <td>1995-01-01</td>\n",
       "      <td>NaN</td>\n",
       "      <td>http://us.imdb.com/M/title-exact?Toy%20Story%2...</td>\n",
       "      <td>1995</td>\n",
       "      <td>148</td>\n",
       "      <td>4</td>\n",
       "      <td>877019411</td>\n",
       "    </tr>\n",
       "    <tr>\n",
       "      <th>3</th>\n",
       "      <td>1</td>\n",
       "      <td>452</td>\n",
       "      <td>Toy Story (1995)</td>\n",
       "      <td>1995-01-01</td>\n",
       "      <td>NaN</td>\n",
       "      <td>http://us.imdb.com/M/title-exact?Toy%20Story%2...</td>\n",
       "      <td>1995</td>\n",
       "      <td>280</td>\n",
       "      <td>4</td>\n",
       "      <td>891700426</td>\n",
       "    </tr>\n",
       "    <tr>\n",
       "      <th>4</th>\n",
       "      <td>1</td>\n",
       "      <td>452</td>\n",
       "      <td>Toy Story (1995)</td>\n",
       "      <td>1995-01-01</td>\n",
       "      <td>NaN</td>\n",
       "      <td>http://us.imdb.com/M/title-exact?Toy%20Story%2...</td>\n",
       "      <td>1995</td>\n",
       "      <td>66</td>\n",
       "      <td>3</td>\n",
       "      <td>883601324</td>\n",
       "    </tr>\n",
       "  </tbody>\n",
       "</table>\n",
       "</div>"
      ],
      "text/plain": [
       "   item_id  popularity             title release_date  video_release_date  \\\n",
       "0        1         452  Toy Story (1995)   1995-01-01                 NaN   \n",
       "1        1         452  Toy Story (1995)   1995-01-01                 NaN   \n",
       "2        1         452  Toy Story (1995)   1995-01-01                 NaN   \n",
       "3        1         452  Toy Story (1995)   1995-01-01                 NaN   \n",
       "4        1         452  Toy Story (1995)   1995-01-01                 NaN   \n",
       "\n",
       "                                            imdb_url  release_year  user_id  \\\n",
       "0  http://us.imdb.com/M/title-exact?Toy%20Story%2...          1995      308   \n",
       "1  http://us.imdb.com/M/title-exact?Toy%20Story%2...          1995      287   \n",
       "2  http://us.imdb.com/M/title-exact?Toy%20Story%2...          1995      148   \n",
       "3  http://us.imdb.com/M/title-exact?Toy%20Story%2...          1995      280   \n",
       "4  http://us.imdb.com/M/title-exact?Toy%20Story%2...          1995       66   \n",
       "\n",
       "   rating  timestamp  \n",
       "0       4  887736532  \n",
       "1       5  875334088  \n",
       "2       4  877019411  \n",
       "3       4  891700426  \n",
       "4       3  883601324  "
      ]
     },
     "execution_count": 20,
     "metadata": {},
     "output_type": "execute_result"
    }
   ],
   "source": [
    "all_ratings.head()"
   ]
  },
  {
   "cell_type": "markdown",
   "metadata": {
    "collapsed": false
   },
   "source": [
    "**Quick Exercise**:\n",
    "\n",
    "As we have seen, the `groupby` method is a powerful tool to quickly compute statistics on the data. Use it to compute the average rating for each movie.\n",
    "\n",
    "**Hint**: you can use the `mean` method after the `groupby` method."
   ]
  },
  {
   "cell_type": "code",
   "execution_count": 21,
   "metadata": {
    "collapsed": false
   },
   "outputs": [],
   "source": [
    "avg_ratings = all_ratings.groupby('title')['rating'].mean().rename('avg_rating').apply(lambda x: round(x, 2)).reset_index()\n",
    "all_ratings = pd.merge(all_ratings, avg_ratings, on='title')"
   ]
  },
  {
   "cell_type": "code",
   "execution_count": 22,
   "metadata": {},
   "outputs": [],
   "source": [
    "pd.set_option('display.min_rows',25)"
   ]
  },
  {
   "cell_type": "code",
   "execution_count": 23,
   "metadata": {},
   "outputs": [
    {
     "data": {
      "text/html": [
       "<div>\n",
       "<style scoped>\n",
       "    .dataframe tbody tr th:only-of-type {\n",
       "        vertical-align: middle;\n",
       "    }\n",
       "\n",
       "    .dataframe tbody tr th {\n",
       "        vertical-align: top;\n",
       "    }\n",
       "\n",
       "    .dataframe thead th {\n",
       "        text-align: right;\n",
       "    }\n",
       "</style>\n",
       "<table border=\"1\" class=\"dataframe\">\n",
       "  <thead>\n",
       "    <tr style=\"text-align: right;\">\n",
       "      <th></th>\n",
       "      <th>title</th>\n",
       "      <th>avg_rating</th>\n",
       "    </tr>\n",
       "  </thead>\n",
       "  <tbody>\n",
       "    <tr>\n",
       "      <th>64</th>\n",
       "      <td>Close Shave, A (1995)</td>\n",
       "      <td>4.491071</td>\n",
       "    </tr>\n",
       "    <tr>\n",
       "      <th>263</th>\n",
       "      <td>Schindler's List (1993)</td>\n",
       "      <td>4.466443</td>\n",
       "    </tr>\n",
       "    <tr>\n",
       "      <th>334</th>\n",
       "      <td>Wrong Trousers, The (1993)</td>\n",
       "      <td>4.466102</td>\n",
       "    </tr>\n",
       "    <tr>\n",
       "      <th>55</th>\n",
       "      <td>Casablanca (1942)</td>\n",
       "      <td>4.456790</td>\n",
       "    </tr>\n",
       "    <tr>\n",
       "      <th>272</th>\n",
       "      <td>Shawshank Redemption, The (1994)</td>\n",
       "      <td>4.445230</td>\n",
       "    </tr>\n",
       "    <tr>\n",
       "      <th>251</th>\n",
       "      <td>Rear Window (1954)</td>\n",
       "      <td>4.387560</td>\n",
       "    </tr>\n",
       "    <tr>\n",
       "      <th>322</th>\n",
       "      <td>Usual Suspects, The (1995)</td>\n",
       "      <td>4.385768</td>\n",
       "    </tr>\n",
       "    <tr>\n",
       "      <th>294</th>\n",
       "      <td>Star Wars (1977)</td>\n",
       "      <td>4.358491</td>\n",
       "    </tr>\n",
       "    <tr>\n",
       "      <th>1</th>\n",
       "      <td>12 Angry Men (1957)</td>\n",
       "      <td>4.344000</td>\n",
       "    </tr>\n",
       "    <tr>\n",
       "      <th>60</th>\n",
       "      <td>Citizen Kane (1941)</td>\n",
       "      <td>4.292929</td>\n",
       "    </tr>\n",
       "    <tr>\n",
       "      <th>308</th>\n",
       "      <td>To Kill a Mockingbird (1962)</td>\n",
       "      <td>4.292237</td>\n",
       "    </tr>\n",
       "    <tr>\n",
       "      <th>224</th>\n",
       "      <td>One Flew Over the Cuckoo's Nest (1975)</td>\n",
       "      <td>4.291667</td>\n",
       "    </tr>\n",
       "    <tr>\n",
       "      <th>...</th>\n",
       "      <td>...</td>\n",
       "      <td>...</td>\n",
       "    </tr>\n",
       "    <tr>\n",
       "      <th>326</th>\n",
       "      <td>Waterworld (1995)</td>\n",
       "      <td>2.803922</td>\n",
       "    </tr>\n",
       "    <tr>\n",
       "      <th>33</th>\n",
       "      <td>Beavis and Butt-head Do America (1996)</td>\n",
       "      <td>2.788462</td>\n",
       "    </tr>\n",
       "    <tr>\n",
       "      <th>198</th>\n",
       "      <td>Mimic (1997)</td>\n",
       "      <td>2.742574</td>\n",
       "    </tr>\n",
       "    <tr>\n",
       "      <th>91</th>\n",
       "      <td>Down Periscope (1996)</td>\n",
       "      <td>2.702970</td>\n",
       "    </tr>\n",
       "    <tr>\n",
       "      <th>127</th>\n",
       "      <td>George of the Jungle (1997)</td>\n",
       "      <td>2.685185</td>\n",
       "    </tr>\n",
       "    <tr>\n",
       "      <th>30</th>\n",
       "      <td>Batman Returns (1992)</td>\n",
       "      <td>2.683099</td>\n",
       "    </tr>\n",
       "    <tr>\n",
       "      <th>29</th>\n",
       "      <td>Batman Forever (1995)</td>\n",
       "      <td>2.666667</td>\n",
       "    </tr>\n",
       "    <tr>\n",
       "      <th>284</th>\n",
       "      <td>Spawn (1997)</td>\n",
       "      <td>2.615385</td>\n",
       "    </tr>\n",
       "    <tr>\n",
       "      <th>102</th>\n",
       "      <td>Event Horizon (1997)</td>\n",
       "      <td>2.574803</td>\n",
       "    </tr>\n",
       "    <tr>\n",
       "      <th>75</th>\n",
       "      <td>Crash (1996)</td>\n",
       "      <td>2.546875</td>\n",
       "    </tr>\n",
       "    <tr>\n",
       "      <th>169</th>\n",
       "      <td>Jungle2Jungle (1997)</td>\n",
       "      <td>2.439394</td>\n",
       "    </tr>\n",
       "    <tr>\n",
       "      <th>52</th>\n",
       "      <td>Cable Guy, The (1996)</td>\n",
       "      <td>2.339623</td>\n",
       "    </tr>\n",
       "  </tbody>\n",
       "</table>\n",
       "<p>337 rows × 2 columns</p>\n",
       "</div>"
      ],
      "text/plain": [
       "                                      title  avg_rating\n",
       "64                    Close Shave, A (1995)    4.491071\n",
       "263                 Schindler's List (1993)    4.466443\n",
       "334              Wrong Trousers, The (1993)    4.466102\n",
       "55                        Casablanca (1942)    4.456790\n",
       "272        Shawshank Redemption, The (1994)    4.445230\n",
       "251                      Rear Window (1954)    4.387560\n",
       "322              Usual Suspects, The (1995)    4.385768\n",
       "294                        Star Wars (1977)    4.358491\n",
       "1                       12 Angry Men (1957)    4.344000\n",
       "60                      Citizen Kane (1941)    4.292929\n",
       "308            To Kill a Mockingbird (1962)    4.292237\n",
       "224  One Flew Over the Cuckoo's Nest (1975)    4.291667\n",
       "..                                      ...         ...\n",
       "326                       Waterworld (1995)    2.803922\n",
       "33   Beavis and Butt-head Do America (1996)    2.788462\n",
       "198                            Mimic (1997)    2.742574\n",
       "91                    Down Periscope (1996)    2.702970\n",
       "127             George of the Jungle (1997)    2.685185\n",
       "30                    Batman Returns (1992)    2.683099\n",
       "29                    Batman Forever (1995)    2.666667\n",
       "284                            Spawn (1997)    2.615385\n",
       "102                    Event Horizon (1997)    2.574803\n",
       "75                             Crash (1996)    2.546875\n",
       "169                    Jungle2Jungle (1997)    2.439394\n",
       "52                    Cable Guy, The (1996)    2.339623\n",
       "\n",
       "[337 rows x 2 columns]"
      ]
     },
     "execution_count": 23,
     "metadata": {},
     "output_type": "execute_result"
    }
   ],
   "source": [
    "# avg ratings of all movies with at least 100 ratings\n",
    "all_ratings[all_ratings['popularity']>=100].groupby('title')['rating'].mean().rename('avg_rating').reset_index().sort_values(by='avg_rating',ascending=False)"
   ]
  },
  {
   "cell_type": "markdown",
   "metadata": {},
   "source": [
    "Let's split the enriched data in a train / test split to make it possible to do predictive modeling:"
   ]
  },
  {
   "cell_type": "code",
   "execution_count": 24,
   "metadata": {},
   "outputs": [],
   "source": [
    "# print(ratings_train.shape)"
   ]
  },
  {
   "cell_type": "code",
   "execution_count": 25,
   "metadata": {},
   "outputs": [],
   "source": [
    "from sklearn.model_selection import train_test_split\n",
    "\n",
    "ratings_train, ratings_test = train_test_split(\n",
    "    all_ratings, test_size=0.2, random_state=0)\n",
    "\n",
    "user_id_train = np.array(ratings_train['user_id'])\n",
    "item_id_train = np.array(ratings_train['item_id'])\n",
    "rating_train = np.array(ratings_train['rating'])\n",
    "\n",
    "user_id_test = np.array(ratings_test['user_id'])\n",
    "item_id_test = np.array(ratings_test['item_id'])\n",
    "rating_test = np.array(ratings_test['rating'])"
   ]
  },
  {
   "cell_type": "markdown",
   "metadata": {},
   "source": [
    "# Explicit feedback: supervised ratings prediction\n",
    "\n",
    "Now let's begin to do some recommendation! We will build a model that takes a user and a movie as input and outputs a predicted rating. We will be taking advantage of embeddings to represent users and movies. That means that each movie and user will have an abstract representation in a continuous vector space. The model will learn these representations based on the ratings."
   ]
  },
  {
   "cell_type": "markdown",
   "metadata": {},
   "source": [
    "## Predictive ratings  as a regression problem\n",
    "\n",
    "The following code implements the following architecture:\n",
    "\n",
    "<img src=\"https://raw.githubusercontent.com/UofT-DSI/deep_learning/main/notebooks/images/rec_archi_1.svg\" style=\"width: 600px;\" />"
   ]
  },
  {
   "cell_type": "code",
   "execution_count": 26,
   "metadata": {},
   "outputs": [],
   "source": [
    "from keras.layers import Embedding, Flatten, Dense, Dropout\n",
    "from keras.layers import Dot\n",
    "from keras.models import Model"
   ]
  },
  {
   "cell_type": "code",
   "execution_count": 27,
   "metadata": {},
   "outputs": [
    {
     "name": "stderr",
     "output_type": "stream",
     "text": [
      "/opt/homebrew/Caskroom/miniforge/base/envs/tf/lib/python3.9/site-packages/keras/src/layers/core/embedding.py:90: UserWarning: Argument `input_length` is deprecated. Just remove it.\n",
      "  warnings.warn(\n"
     ]
    }
   ],
   "source": [
    "# For each sample we input the integer identifiers\n",
    "# of a single user and a single item\n",
    "class RegressionModel(Model):\n",
    "    def __init__(self, embedding_size, max_user_id, max_item_id):\n",
    "        super().__init__()\n",
    "        \n",
    "        self.user_embedding = Embedding(output_dim=embedding_size,\n",
    "                                        input_dim=max_user_id + 1,\n",
    "                                        input_length=1,\n",
    "                                        name='user_embedding')\n",
    "        self.item_embedding = Embedding(output_dim=embedding_size,\n",
    "                                        input_dim=max_item_id + 1,\n",
    "                                        input_length=1,\n",
    "                                        name='item_embedding')\n",
    "        \n",
    "        # The following two layers don't have parameters.\n",
    "        self.flatten = Flatten()\n",
    "        self.dot = Dot(axes=1)\n",
    "        \n",
    "    def call(self, inputs):\n",
    "        user_inputs = inputs[0]\n",
    "        item_inputs = inputs[1]\n",
    "        \n",
    "        user_vecs = self.flatten(self.user_embedding(user_inputs))\n",
    "        item_vecs = self.flatten(self.item_embedding(item_inputs))\n",
    "        \n",
    "        y = self.dot([user_vecs, item_vecs])\n",
    "        return y\n",
    "\n",
    "\n",
    "model = RegressionModel(embedding_size=64, max_user_id=all_ratings['user_id'].max(), max_item_id=all_ratings['item_id'].max())\n",
    "model.compile(optimizer=\"adam\", loss='mae')"
   ]
  },
  {
   "cell_type": "markdown",
   "metadata": {},
   "source": [
    "### Monitoring runs\n",
    "\n",
    "When training a model with Keras, we get a `history` object back that contains lots of information about the training run. We can use this to plot the training and validation loss to see how the model has improved during training."
   ]
  },
  {
   "cell_type": "code",
   "execution_count": 28,
   "metadata": {},
   "outputs": [
    {
     "name": "stdout",
     "output_type": "stream",
     "text": [
      "Epoch 1/10\n",
      "\u001b[1m1125/1125\u001b[0m \u001b[32m━━━━━━━━━━━━━━━━━━━━\u001b[0m\u001b[37m\u001b[0m \u001b[1m1s\u001b[0m 908us/step - loss: 3.3106 - val_loss: 1.0445\n",
      "Epoch 2/10\n",
      "\u001b[1m1125/1125\u001b[0m \u001b[32m━━━━━━━━━━━━━━━━━━━━\u001b[0m\u001b[37m\u001b[0m \u001b[1m1s\u001b[0m 886us/step - loss: 0.9043 - val_loss: 0.7867\n",
      "Epoch 3/10\n",
      "\u001b[1m1125/1125\u001b[0m \u001b[32m━━━━━━━━━━━━━━━━━━━━\u001b[0m\u001b[37m\u001b[0m \u001b[1m1s\u001b[0m 990us/step - loss: 0.7548 - val_loss: 0.7576\n",
      "Epoch 4/10\n",
      "\u001b[1m1125/1125\u001b[0m \u001b[32m━━━━━━━━━━━━━━━━━━━━\u001b[0m\u001b[37m\u001b[0m \u001b[1m1s\u001b[0m 868us/step - loss: 0.7217 - val_loss: 0.7520\n",
      "Epoch 5/10\n",
      "\u001b[1m1125/1125\u001b[0m \u001b[32m━━━━━━━━━━━━━━━━━━━━\u001b[0m\u001b[37m\u001b[0m \u001b[1m1s\u001b[0m 878us/step - loss: 0.7039 - val_loss: 0.7450\n",
      "Epoch 6/10\n",
      "\u001b[1m1125/1125\u001b[0m \u001b[32m━━━━━━━━━━━━━━━━━━━━\u001b[0m\u001b[37m\u001b[0m \u001b[1m1s\u001b[0m 938us/step - loss: 0.6849 - val_loss: 0.7397\n",
      "Epoch 7/10\n",
      "\u001b[1m1125/1125\u001b[0m \u001b[32m━━━━━━━━━━━━━━━━━━━━\u001b[0m\u001b[37m\u001b[0m \u001b[1m1s\u001b[0m 888us/step - loss: 0.6636 - val_loss: 0.7412\n",
      "Epoch 8/10\n",
      "\u001b[1m1125/1125\u001b[0m \u001b[32m━━━━━━━━━━━━━━━━━━━━\u001b[0m\u001b[37m\u001b[0m \u001b[1m1s\u001b[0m 876us/step - loss: 0.6410 - val_loss: 0.7365\n",
      "Epoch 9/10\n",
      "\u001b[1m1125/1125\u001b[0m \u001b[32m━━━━━━━━━━━━━━━━━━━━\u001b[0m\u001b[37m\u001b[0m \u001b[1m1s\u001b[0m 865us/step - loss: 0.6236 - val_loss: 0.7387\n",
      "Epoch 10/10\n",
      "\u001b[1m1125/1125\u001b[0m \u001b[32m━━━━━━━━━━━━━━━━━━━━\u001b[0m\u001b[37m\u001b[0m \u001b[1m1s\u001b[0m 865us/step - loss: 0.5911 - val_loss: 0.7389\n",
      "CPU times: user 13.4 s, sys: 4.07 s, total: 17.4 s\n",
      "Wall time: 10.6 s\n"
     ]
    }
   ],
   "source": [
    "%%time\n",
    "\n",
    "# Training the model\n",
    "history = model.fit([user_id_train, item_id_train], rating_train,\n",
    "                    batch_size=64, epochs=10, validation_split=0.1,\n",
    "                    shuffle=True)"
   ]
  },
  {
   "cell_type": "code",
   "execution_count": 29,
   "metadata": {},
   "outputs": [
    {
     "data": {
      "image/png": "[encoded data removed]",
      "text/plain": [
       "<Figure size 640x480 with 1 Axes>"
      ]
     },
     "metadata": {},
     "output_type": "display_data"
    }
   ],
   "source": [
    "plt.plot(history.history['loss'], label='train')\n",
    "plt.plot(history.history['val_loss'], label='validation')\n",
    "plt.ylim(0, 2)\n",
    "plt.legend(loc='best')\n",
    "plt.title('Loss');"
   ]
  },
  {
   "cell_type": "markdown",
   "metadata": {},
   "source": [
    "**Questions**:\n",
    "\n",
    "- Does it look like our model has overfit? Why or why not?\n",
    "- Suggest something we could do to prevent overfitting.\n",
    "\n",
    "\n",
    "Now that the model is trained, let's check out the quality of predictions:"
   ]
  },
  {
   "cell_type": "markdown",
   "metadata": {},
   "source": [
    "No, it does not appear that the model has overfit. Validation loss is slightly higher than train loss, but train loss does not improve signifantly from epoch=2 to epoch=10, suggesting waste of effort and potentially unpredictive features."
   ]
  },
  {
   "cell_type": "code",
   "execution_count": 30,
   "metadata": {},
   "outputs": [],
   "source": [
    "def plot_predictions(y_true, y_pred):\n",
    "    plt.figure(figsize=(4, 4))\n",
    "    plt.xlim(-1, 6)\n",
    "    plt.xlabel(\"True rating\")\n",
    "    plt.ylim(-1, 6)\n",
    "    plt.ylabel(\"Predicted rating\")\n",
    "    plt.scatter(y_true, y_pred, s=60, alpha=0.01)"
   ]
  },
  {
   "cell_type": "code",
   "execution_count": 31,
   "metadata": {},
   "outputs": [
    {
     "name": "stdout",
     "output_type": "stream",
     "text": [
      "\u001b[1m625/625\u001b[0m \u001b[32m━━━━━━━━━━━━━━━━━━━━\u001b[0m\u001b[37m\u001b[0m \u001b[1m0s\u001b[0m 397us/step\n",
      "Final test MSE: 0.922\n",
      "Final test MAE: 0.740\n"
     ]
    },
    {
     "data": {
      "image/png": "[encoded data removed]",
      "text/plain": [
       "<Figure size 400x400 with 1 Axes>"
      ]
     },
     "metadata": {},
     "output_type": "display_data"
    }
   ],
   "source": [
    "from sklearn.metrics import mean_squared_error\n",
    "from sklearn.metrics import mean_absolute_error\n",
    "\n",
    "test_preds = model.predict([user_id_test, item_id_test])\n",
    "print(\"Final test MSE: %0.3f\" % mean_squared_error(test_preds, rating_test))\n",
    "print(\"Final test MAE: %0.3f\" % mean_absolute_error(test_preds, rating_test))\n",
    "plot_predictions(rating_test, test_preds)"
   ]
  },
  {
   "cell_type": "markdown",
   "metadata": {
    "collapsed": false
   },
   "source": [
    "This graph shows us the range of predicted ratings our model gives, organized by the true rating. We can see that generally, the higher the true rating the higher the predicted rating, although there is quite a range of predictions for each instance. That's okay - our model is very simple, and human preferences are very complex!\n",
    "\n",
    "Taking a look at the Mean Absolute Error, hopefully you got something around 0.75. This means that, on average, our predicted ratings are about 0.75 stars off from the true ratings. This is a pretty good result for a first attempt. We could probably do better with a more complex model, but we'll leave that for another time."
   ]
  },
  {
   "cell_type": "markdown",
   "metadata": {},
   "source": [
    "### Model Embeddings\n",
    "\n",
    "Our model was built with two embedding layers. These layers have learned a representation of both the users and the movies in our dataset. We can extract these representations and use them to find similar movies or users. We can also do interesting exploratory analysis, like finding the most popular movies among our users, or finding the users that are most interested in a given movie."
   ]
  },
  {
   "cell_type": "code",
   "execution_count": 32,
   "metadata": {},
   "outputs": [
    {
     "data": {
      "text/plain": [
       "[(944, 64), (1683, 64)]"
      ]
     },
     "execution_count": 32,
     "metadata": {},
     "output_type": "execute_result"
    }
   ],
   "source": [
    "# weights and shape\n",
    "weights = model.get_weights()\n",
    "[w.shape for w in weights]"
   ]
  },
  {
   "cell_type": "code",
   "execution_count": 33,
   "metadata": {},
   "outputs": [],
   "source": [
    "user_embeddings = weights[0]\n",
    "item_embeddings = weights[1]"
   ]
  },
  {
   "cell_type": "code",
   "execution_count": 34,
   "metadata": {},
   "outputs": [
    {
     "name": "stdout",
     "output_type": "stream",
     "text": [
      "Title for item_id=11: Seven (Se7en) (1995)\n"
     ]
    }
   ],
   "source": [
    "item_id = 11\n",
    "print(f\"Title for item_id={item_id}: {indexed_items['title'][item_id]}\")"
   ]
  },
  {
   "cell_type": "code",
   "execution_count": 35,
   "metadata": {},
   "outputs": [
    {
     "name": "stdout",
     "output_type": "stream",
     "text": [
      "Embedding vector for item_id=11\n",
      "[-0.30523863 -0.32749653 -0.32906374  0.2349686  -0.12985575 -0.39554608\n",
      "  0.23782246  0.14720552  0.40501013 -0.2645736  -0.46876928 -0.49571425\n",
      "  0.39463922 -0.31600693 -0.23461728  0.32806     0.21445793 -0.12023398\n",
      " -0.2904939  -0.40648097  0.3121797   0.0727315   0.09336434 -0.03988437\n",
      "  0.2965822   0.18902232  0.1451559  -0.29130104  0.19905469  0.36887687\n",
      "  0.2085474   0.25965673  0.06719134 -0.24238317  0.05835394 -0.18597972\n",
      "  0.2821172   0.38558486 -0.33680215  0.0229846   0.17243513  0.14033669\n",
      " -0.3485023   0.24734889  0.08862611  0.30291992 -0.37480053 -0.31952682\n",
      " -0.29937017  0.32082754  0.15234238  0.36523244  0.06491048  0.21930295\n",
      " -0.3407661   0.4066532  -0.25411493  0.14424743  0.3294129  -0.32236665\n",
      " -0.3637983   0.16584939 -0.22843735  0.21054047]\n",
      "shape: (64,)\n"
     ]
    }
   ],
   "source": [
    "print(f\"Embedding vector for item_id={item_id}\")\n",
    "print(item_embeddings[item_id])\n",
    "print(\"shape:\", item_embeddings[item_id].shape)"
   ]
  },
  {
   "cell_type": "markdown",
   "metadata": {
    "collapsed": false
   },
   "source": [
    "As we discussed in lecture, our embeddings are not directly interpretable - we can't look at, say, a value of 0.297 in the embedding vector and say \"this means that the movie is a drama\". As an aside, there is a field of research dedicated to making _interpretable_ embeddings, but it's not something we'll cover in this course. "
   ]
  },
  {
   "cell_type": "markdown",
   "metadata": {},
   "source": [
    "### Finding our most similar items\n",
    "\n",
    "Now we can have some fun, investigating the embeddings we've learned. We can start by finding the most similar items to a given item. We can do this by computing the cosine similarity between the item's embedding and the embedding of every other item. We can use the `cosine_similarity` function from `sklearn` to do this."
   ]
  },
  {
   "cell_type": "code",
   "execution_count": 36,
   "metadata": {
    "collapsed": false
   },
   "outputs": [],
   "source": [
    "from sklearn.metrics.pairwise import cosine_similarity\n",
    "\n",
    "def cosine(a, b):\n",
    "    # Reshape to the shape our function expects\n",
    "    a = a.reshape(1, -1)\n",
    "    b = b.reshape(1, -1)\n",
    "    return cosine_similarity(a, b)[0, 0]"
   ]
  },
  {
   "cell_type": "code",
   "execution_count": 37,
   "metadata": {},
   "outputs": [
    {
     "name": "stdout",
     "output_type": "stream",
     "text": [
      "Star Wars (1977)\n",
      "Return of the Jedi (1983)\n",
      "Cosine similarity: 0.901\n"
     ]
    }
   ],
   "source": [
    "def print_similarity(item_a, item_b, item_embeddings, titles):\n",
    "    print(titles[item_a])\n",
    "    print(titles[item_b])\n",
    "    similarity = cosine(item_embeddings[item_a],\n",
    "                        item_embeddings[item_b])\n",
    "    print(f\"Cosine similarity: {similarity:.3}\")\n",
    "    \n",
    "print_similarity(50, 181, item_embeddings, indexed_items[\"title\"])"
   ]
  },
  {
   "cell_type": "markdown",
   "metadata": {
    "collapsed": false
   },
   "source": [
    "It makes sense that the original Star Wars, and its later sequel Return of the Jedi have a high similarity. Let's try some other examples:"
   ]
  },
  {
   "cell_type": "code",
   "execution_count": 38,
   "metadata": {},
   "outputs": [
    {
     "name": "stdout",
     "output_type": "stream",
     "text": [
      "Return of the Jedi (1983)\n",
      "Scream (1996)\n",
      "Cosine similarity: 0.674\n"
     ]
    }
   ],
   "source": [
    "print_similarity(181, 288, item_embeddings, indexed_items[\"title\"])"
   ]
  },
  {
   "cell_type": "code",
   "execution_count": 39,
   "metadata": {},
   "outputs": [
    {
     "name": "stdout",
     "output_type": "stream",
     "text": [
      "Return of the Jedi (1983)\n",
      "Toy Story (1995)\n",
      "Cosine similarity: 0.779\n"
     ]
    }
   ],
   "source": [
    "print_similarity(181, 1, item_embeddings, indexed_items[\"title\"])"
   ]
  },
  {
   "cell_type": "code",
   "execution_count": 40,
   "metadata": {},
   "outputs": [
    {
     "name": "stdout",
     "output_type": "stream",
     "text": [
      "Return of the Jedi (1983)\n",
      "Return of the Jedi (1983)\n",
      "Cosine similarity: 1.0\n"
     ]
    }
   ],
   "source": [
    "print_similarity(181, 181, item_embeddings, indexed_items[\"title\"])"
   ]
  },
  {
   "cell_type": "markdown",
   "metadata": {
    "collapsed": false
   },
   "source": [
    "*Quick Exercise*:\n",
    "\n",
    "- Find some other films and compare their similarity. Do the results make sense to you? Can you find a pair of films that are very _dissimilar_?"
   ]
  },
  {
   "cell_type": "code",
   "execution_count": 41,
   "metadata": {
    "collapsed": false
   },
   "outputs": [
    {
     "name": "stdout",
     "output_type": "stream",
     "text": [
      "Psycho (1960)\n",
      "Mission: Impossible (1996)\n",
      "Cosine similarity: 0.556\n"
     ]
    }
   ],
   "source": [
    "# Code to help you search for a movie title\n",
    "partial_title = \"titanic\"\n",
    "indexed_items[indexed_items['title'].str.lower().str.contains(partial_title)]\n",
    "\n",
    "# print_similarity(127,313, item_embeddings, indexed_items['title'])\n",
    "# print_similarity(511,405, item_embeddings, indexed_items['title'])\n",
    "print_similarity(185,405, item_embeddings, indexed_items['title'])"
   ]
  },
  {
   "cell_type": "markdown",
   "metadata": {
    "collapsed": false
   },
   "source": [
    "Sometimes, even without knowing anything about a user, we can recommend films by asking them about a film that they do like. The code below compares the similarity of a given film to all others, and returns the most similar films."
   ]
  },
  {
   "cell_type": "code",
   "execution_count": 42,
   "metadata": {},
   "outputs": [
    {
     "data": {
      "text/plain": [
       "[(405, 'Mission: Impossible (1996)', 1.0),\n",
       " (742, 'Ransom (1996)', 0.86762273),\n",
       " (597, 'Eraser (1996)', 0.85423917),\n",
       " (274, 'Sabrina (1995)', 0.84235406),\n",
       " (117, 'Rock, The (1996)', 0.84169436),\n",
       " (105, 'Sgt. Bilko (1996)', 0.8386044),\n",
       " (118, 'Twister (1996)', 0.8359809),\n",
       " (763, 'Happy Gilmore (1996)', 0.83499146),\n",
       " (1615, 'Warriors of Virtue (1997)', 0.83343655),\n",
       " (161, 'Top Gun (1986)', 0.83218026)]"
      ]
     },
     "execution_count": 42,
     "metadata": {},
     "output_type": "execute_result"
    }
   ],
   "source": [
    "def most_similar(item_id, item_embeddings, titles,\n",
    "                 top_n=30):\n",
    "    # Compute the cosine similarity between the item and all other items\n",
    "    sims = cosine_similarity(item_embeddings[item_id].reshape(1, -1),\n",
    "                             item_embeddings).ravel()\n",
    "    \n",
    "    # [::-1] makes it possible to reverse the order of a numpy\n",
    "    # array, this is required because most similar items have\n",
    "    # a larger cosine similarity value\n",
    "    sorted_indexes = np.argsort(sims)[::-1]\n",
    "    idxs = sorted_indexes[0:top_n]\n",
    "    return list(zip(idxs, titles[idxs], sims[idxs]))\n",
    "\n",
    "# Find the most similar films to \"Star Wars\"\n",
    "most_similar(405, item_embeddings, indexed_items[\"title\"], top_n=10)"
   ]
  },
  {
   "cell_type": "code",
   "execution_count": 43,
   "metadata": {},
   "outputs": [
    {
     "data": {
      "text/plain": [
       "[(227, 'Star Trek VI: The Undiscovered Country (1991)', 0.99999994),\n",
       " (578, 'Demolition Man (1993)', 0.9036176),\n",
       " (560, \"Kid in King Arthur's Court, A (1995)\", 0.9034378),\n",
       " (2, 'GoldenEye (1995)', 0.89595306),\n",
       " (210, 'Indiana Jones and the Last Crusade (1989)', 0.89393044),\n",
       " (1596, 'Nemesis 2: Nebula (1995)', 0.8899232),\n",
       " (228, 'Star Trek: The Wrath of Khan (1982)', 0.88505554),\n",
       " (755, 'Jumanji (1995)', 0.88064307),\n",
       " (230, 'Star Trek IV: The Voyage Home (1986)', 0.8805196),\n",
       " (1615, 'Warriors of Virtue (1997)', 0.87715226)]"
      ]
     },
     "execution_count": 43,
     "metadata": {},
     "output_type": "execute_result"
    }
   ],
   "source": [
    "# Find the most similar films to \"Star Trek VI: The Undiscovered Country\"\n",
    "most_similar(227, item_embeddings, indexed_items[\"title\"], top_n=10)"
   ]
  },
  {
   "cell_type": "markdown",
   "metadata": {},
   "source": [
    "The similarities do not always make sense: the number of ratings is low and the embedding  does not automatically capture semantic relationships in that context. Better representations arise with higher number of ratings, and less overfitting  in models or maybe better loss function, such as those based on implicit feedback."
   ]
  },
  {
   "cell_type": "markdown",
   "metadata": {},
   "source": [
    "### Visualizing embeddings using TSNE\n",
    "\n",
    "The [t-SNE](https://en.wikipedia.org/wiki/T-distributed_stochastic_neighbor_embedding) algorithm enables us to visualize high dimensional vectors in a 2D space by preserving local neighborhoods. We can use it to get a 2D visualization of the item embeddings and see if similar items are close in the embedding space."
   ]
  },
  {
   "cell_type": "code",
   "execution_count": 44,
   "metadata": {},
   "outputs": [],
   "source": [
    "from sklearn.manifold import TSNE\n",
    "\n",
    "item_tsne = TSNE(learning_rate=\"auto\", init=\"pca\", perplexity=30).fit_transform(item_embeddings)"
   ]
  },
  {
   "cell_type": "code",
   "execution_count": 45,
   "metadata": {},
   "outputs": [
    {
     "data": {
      "image/png": "[encoded data removed]",
      "text/plain": [
       "<Figure size 1000x1000 with 1 Axes>"
      ]
     },
     "metadata": {},
     "output_type": "display_data"
    }
   ],
   "source": [
    "import matplotlib.pyplot as plt\n",
    "\n",
    "plt.figure(figsize=(10, 10))\n",
    "plt.scatter(item_tsne[:, 0], item_tsne[:, 1]);\n",
    "plt.xticks(()); plt.yticks(());\n",
    "plt.show()"
   ]
  },
  {
   "cell_type": "code",
   "execution_count": 46,
   "metadata": {},
   "outputs": [],
   "source": [
    "# !pip install plotly\n",
    "# !pip install nbformat\n",
    "# !pip list"
   ]
  },
  {
   "cell_type": "code",
   "execution_count": 47,
   "metadata": {
    "tags": []
   },
   "outputs": [
    {
     "data": {
      "application/vnd.plotly.v1+json": {
       "config": {
        "plotlyServerURL": "https://plot.ly"
       },
       "data": [
        {
         "customdata": [
          [
           1,
           "Toy Story (1995)",
           452
          ],
          [
           2,
           "GoldenEye (1995)",
           131
          ],
          [
           3,
           "Four Rooms (1995)",
           90
          ],
          [
           4,
           "Get Shorty (1995)",
           209
          ],
          [
           5,
           "Copycat (1995)",
           86
          ],
          [
           6,
           "Shanghai Triad (Yao a yao yao dao waipo qiao) (1995)",
           26
          ],
          [
           7,
           "Twelve Monkeys (1995)",
           392
          ],
          [
           8,
           "Babe (1995)",
           219
          ],
          [
           9,
           "Dead Man Walking (1995)",
           299
          ],
          [
           10,
           "Richard III (1995)",
           89
          ],
          [
           11,
           "Seven (Se7en) (1995)",
           236
          ],
          [
           12,
           "Usual Suspects, The (1995)",
           267
          ],
          [
           13,
           "Mighty Aphrodite (1995)",
           184
          ],
          [
           14,
           "Postino, Il (1994)",
           183
          ],
          [
           15,
           "Mr. Holland's Opus (1995)",
           293
          ],
          [
           16,
           "French Twist (Gazon maudit) (1995)",
           39
          ],
          [
           17,
           "From Dusk Till Dawn (1996)",
           92
          ],
          [
           18,
           "White Balloon, The (1995)",
           10
          ],
          [
           19,
           "Antonia's Line (1995)",
           69
          ],
          [
           20,
           "Angels and Insects (1995)",
           72
          ],
          [
           21,
           "Muppet Treasure Island (1996)",
           84
          ],
          [
           22,
           "Braveheart (1995)",
           297
          ],
          [
           23,
           "Taxi Driver (1976)",
           182
          ],
          [
           24,
           "Rumble in the Bronx (1995)",
           174
          ],
          [
           25,
           "Birdcage, The (1996)",
           293
          ],
          [
           26,
           "Brothers McMullen, The (1995)",
           73
          ],
          [
           27,
           "Bad Boys (1995)",
           57
          ],
          [
           28,
           "Apollo 13 (1995)",
           276
          ],
          [
           29,
           "Batman Forever (1995)",
           114
          ],
          [
           30,
           "Belle de jour (1967)",
           37
          ],
          [
           31,
           "Crimson Tide (1995)",
           154
          ],
          [
           32,
           "Crumb (1994)",
           81
          ],
          [
           33,
           "Desperado (1995)",
           97
          ],
          [
           34,
           "Doom Generation, The (1995)",
           7
          ],
          [
           35,
           "Free Willy 2: The Adventure Home (1995)",
           11
          ],
          [
           36,
           "Mad Love (1995)",
           13
          ],
          [
           37,
           "Nadja (1994)",
           8
          ],
          [
           38,
           "Net, The (1995)",
           120
          ],
          [
           39,
           "Strange Days (1995)",
           87
          ],
          [
           40,
           "To Wong Foo, Thanks for Everything! Julie Newmar (1995)",
           57
          ],
          [
           41,
           "Billy Madison (1995)",
           37
          ],
          [
           42,
           "Clerks (1994)",
           148
          ],
          [
           43,
           "Disclosure (1994)",
           40
          ],
          [
           44,
           "Dolores Claiborne (1994)",
           79
          ],
          [
           45,
           "Eat Drink Man Woman (1994)",
           80
          ],
          [
           46,
           "Exotica (1994)",
           27
          ],
          [
           47,
           "Ed Wood (1994)",
           133
          ],
          [
           48,
           "Hoop Dreams (1994)",
           117
          ],
          [
           49,
           "I.Q. (1994)",
           81
          ],
          [
           50,
           "Star Wars (1977)",
           583
          ],
          [
           51,
           "Legends of the Fall (1994)",
           81
          ],
          [
           52,
           "Madness of King George, The (1994)",
           91
          ],
          [
           53,
           "Natural Born Killers (1994)",
           128
          ],
          [
           54,
           "Outbreak (1995)",
           104
          ],
          [
           55,
           "Professional, The (1994)",
           149
          ],
          [
           56,
           "Pulp Fiction (1994)",
           394
          ],
          [
           57,
           "Priest (1994)",
           40
          ],
          [
           58,
           "Quiz Show (1994)",
           175
          ],
          [
           59,
           "Three Colors: Red (1994)",
           83
          ],
          [
           60,
           "Three Colors: Blue (1993)",
           64
          ],
          [
           61,
           "Three Colors: White (1994)",
           59
          ],
          [
           62,
           "Stargate (1994)",
           127
          ],
          [
           63,
           "Santa Clause, The (1994)",
           82
          ],
          [
           64,
           "Shawshank Redemption, The (1994)",
           283
          ],
          [
           65,
           "What's Eating Gilbert Grape (1993)",
           115
          ],
          [
           66,
           "While You Were Sleeping (1995)",
           162
          ],
          [
           67,
           "Ace Ventura: Pet Detective (1994)",
           103
          ],
          [
           68,
           "Crow, The (1994)",
           134
          ],
          [
           69,
           "Forrest Gump (1994)",
           321
          ],
          [
           70,
           "Four Weddings and a Funeral (1994)",
           251
          ],
          [
           71,
           "Lion King, The (1994)",
           220
          ],
          [
           72,
           "Mask, The (1994)",
           129
          ],
          [
           73,
           "Maverick (1994)",
           128
          ],
          [
           74,
           "Faster Pussycat! Kill! Kill! (1965)",
           7
          ],
          [
           75,
           "Brother Minister: The Assassination of Malcolm X (1994)",
           5
          ],
          [
           76,
           "Carlito's Way (1993)",
           54
          ],
          [
           77,
           "Firm, The (1993)",
           151
          ],
          [
           78,
           "Free Willy (1993)",
           33
          ],
          [
           79,
           "Fugitive, The (1993)",
           336
          ],
          [
           80,
           "Hot Shots! Part Deux (1993)",
           68
          ],
          [
           81,
           "Hudsucker Proxy, The (1994)",
           110
          ],
          [
           82,
           "Jurassic Park (1993)",
           261
          ],
          [
           83,
           "Much Ado About Nothing (1993)",
           176
          ],
          [
           84,
           "Robert A. Heinlein's The Puppet Masters (1994)",
           18
          ],
          [
           85,
           "Ref, The (1994)",
           58
          ],
          [
           86,
           "Remains of the Day, The (1993)",
           150
          ],
          [
           87,
           "Searching for Bobby Fischer (1993)",
           138
          ],
          [
           88,
           "Sleepless in Seattle (1993)",
           213
          ],
          [
           89,
           "Blade Runner (1982)",
           275
          ],
          [
           90,
           "So I Married an Axe Murderer (1993)",
           95
          ],
          [
           91,
           "Nightmare Before Christmas, The (1993)",
           143
          ],
          [
           92,
           "True Romance (1993)",
           104
          ],
          [
           93,
           "Welcome to the Dollhouse (1995)",
           112
          ],
          [
           94,
           "Home Alone (1990)",
           137
          ],
          [
           95,
           "Aladdin (1992)",
           219
          ],
          [
           96,
           "Terminator 2: Judgment Day (1991)",
           295
          ],
          [
           97,
           "Dances with Wolves (1990)",
           256
          ],
          [
           98,
           "Silence of the Lambs, The (1991)",
           390
          ],
          [
           99,
           "Snow White and the Seven Dwarfs (1937)",
           172
          ],
          [
           100,
           "Fargo (1996)",
           508
          ],
          [
           101,
           "Heavy Metal (1981)",
           73
          ],
          [
           102,
           "Aristocats, The (1970)",
           54
          ],
          [
           103,
           "All Dogs Go to Heaven 2 (1996)",
           15
          ],
          [
           104,
           "Theodore Rex (1995)",
           5
          ],
          [
           105,
           "Sgt. Bilko (1996)",
           74
          ],
          [
           106,
           "Diabolique (1996)",
           71
          ],
          [
           107,
           "Moll Flanders (1996)",
           42
          ],
          [
           108,
           "Kids in the Hall: Brain Candy (1996)",
           65
          ],
          [
           109,
           "Mystery Science Theater 3000: The Movie (1996)",
           130
          ],
          [
           110,
           "Operation Dumbo Drop (1995)",
           31
          ],
          [
           111,
           "Truth About Cats & Dogs, The (1996)",
           272
          ],
          [
           112,
           "Flipper (1996)",
           20
          ],
          [
           113,
           "Horseman on the Roof, The (Hussard sur le toit, Le) (1995)",
           9
          ],
          [
           114,
           "Wallace & Gromit: The Best of Aardman Animation (1996)",
           67
          ],
          [
           115,
           "Haunted World of Edward D. Wood Jr., The (1995)",
           15
          ],
          [
           116,
           "Cold Comfort Farm (1995)",
           125
          ],
          [
           117,
           "Rock, The (1996)",
           378
          ],
          [
           118,
           "Twister (1996)",
           293
          ],
          [
           119,
           "Maya Lin: A Strong Clear Vision (1994)",
           4
          ],
          [
           120,
           "Striptease (1996)",
           67
          ],
          [
           121,
           "Independence Day (ID4) (1996)",
           429
          ],
          [
           122,
           "Cable Guy, The (1996)",
           106
          ],
          [
           123,
           "Frighteners, The (1996)",
           115
          ],
          [
           124,
           "Lone Star (1996)",
           187
          ],
          [
           125,
           "Phenomenon (1996)",
           244
          ],
          [
           126,
           "Spitfire Grill, The (1996)",
           97
          ],
          [
           127,
           "Godfather, The (1972)",
           413
          ],
          [
           128,
           "Supercop (1992)",
           65
          ],
          [
           129,
           "Bound (1996)",
           129
          ],
          [
           130,
           "Kansas City (1996)",
           23
          ],
          [
           131,
           "Breakfast at Tiffany's (1961)",
           95
          ],
          [
           132,
           "Wizard of Oz, The (1939)",
           246
          ],
          [
           133,
           "Gone with the Wind (1939)",
           171
          ],
          [
           134,
           "Citizen Kane (1941)",
           198
          ],
          [
           135,
           "2001: A Space Odyssey (1968)",
           259
          ],
          [
           136,
           "Mr. Smith Goes to Washington (1939)",
           105
          ],
          [
           137,
           "Big Night (1996)",
           171
          ],
          [
           138,
           "D3: The Mighty Ducks (1996)",
           19
          ],
          [
           139,
           "Love Bug, The (1969)",
           50
          ],
          [
           140,
           "Homeward Bound: The Incredible Journey (1993)",
           61
          ],
          [
           141,
           "20,000 Leagues Under the Sea (1954)",
           72
          ],
          [
           142,
           "Bedknobs and Broomsticks (1971)",
           57
          ],
          [
           143,
           "Sound of Music, The (1965)",
           222
          ],
          [
           144,
           "Die Hard (1988)",
           243
          ],
          [
           145,
           "Lawnmower Man, The (1992)",
           65
          ],
          [
           146,
           "Unhook the Stars (1996)",
           10
          ],
          [
           147,
           "Long Kiss Goodnight, The (1996)",
           185
          ],
          [
           148,
           "Ghost and the Darkness, The (1996)",
           128
          ],
          [
           149,
           "Jude (1996)",
           23
          ],
          [
           150,
           "Swingers (1996)",
           157
          ],
          [
           151,
           "Willy Wonka and the Chocolate Factory (1971)",
           326
          ],
          [
           152,
           "Sleeper (1973)",
           82
          ],
          [
           153,
           "Fish Called Wanda, A (1988)",
           247
          ],
          [
           154,
           "Monty Python's Life of Brian (1979)",
           174
          ],
          [
           155,
           "Dirty Dancing (1987)",
           98
          ],
          [
           156,
           "Reservoir Dogs (1992)",
           148
          ],
          [
           157,
           "Platoon (1986)",
           127
          ],
          [
           158,
           "Weekend at Bernie's (1989)",
           60
          ],
          [
           159,
           "Basic Instinct (1992)",
           101
          ],
          [
           160,
           "Glengarry Glen Ross (1992)",
           69
          ],
          [
           161,
           "Top Gun (1986)",
           220
          ],
          [
           162,
           "On Golden Pond (1981)",
           106
          ],
          [
           163,
           "Return of the Pink Panther, The (1974)",
           92
          ],
          [
           164,
           "Abyss, The (1989)",
           151
          ],
          [
           165,
           "Jean de Florette (1986)",
           64
          ],
          [
           166,
           "Manon of the Spring (Manon des sources) (1986)",
           58
          ],
          [
           167,
           "Private Benjamin (1980)",
           67
          ],
          [
           168,
           "Monty Python and the Holy Grail (1974)",
           316
          ],
          [
           169,
           "Wrong Trousers, The (1993)",
           118
          ],
          [
           170,
           "Cinema Paradiso (1988)",
           121
          ],
          [
           171,
           "Delicatessen (1991)",
           65
          ],
          [
           172,
           "Empire Strikes Back, The (1980)",
           367
          ],
          [
           173,
           "Princess Bride, The (1987)",
           324
          ],
          [
           174,
           "Raiders of the Lost Ark (1981)",
           420
          ],
          [
           175,
           "Brazil (1985)",
           208
          ],
          [
           176,
           "Aliens (1986)",
           284
          ],
          [
           177,
           "Good, The Bad and The Ugly, The (1966)",
           137
          ],
          [
           178,
           "12 Angry Men (1957)",
           125
          ],
          [
           179,
           "Clockwork Orange, A (1971)",
           221
          ],
          [
           180,
           "Apocalypse Now (1979)",
           221
          ],
          [
           181,
           "Return of the Jedi (1983)",
           507
          ],
          [
           182,
           "GoodFellas (1990)",
           226
          ],
          [
           183,
           "Alien (1979)",
           291
          ],
          [
           184,
           "Army of Darkness (1993)",
           116
          ],
          [
           185,
           "Psycho (1960)",
           239
          ],
          [
           186,
           "Blues Brothers, The (1980)",
           251
          ],
          [
           187,
           "Godfather: Part II, The (1974)",
           209
          ],
          [
           188,
           "Full Metal Jacket (1987)",
           170
          ],
          [
           189,
           "Grand Day Out, A (1992)",
           66
          ],
          [
           190,
           "Henry V (1989)",
           124
          ],
          [
           191,
           "Amadeus (1984)",
           276
          ],
          [
           192,
           "Raging Bull (1980)",
           116
          ],
          [
           193,
           "Right Stuff, The (1983)",
           157
          ],
          [
           194,
           "Sting, The (1973)",
           241
          ],
          [
           195,
           "Terminator, The (1984)",
           301
          ],
          [
           196,
           "Dead Poets Society (1989)",
           251
          ],
          [
           197,
           "Graduate, The (1967)",
           239
          ],
          [
           198,
           "Nikita (La Femme Nikita) (1990)",
           127
          ],
          [
           199,
           "Bridge on the River Kwai, The (1957)",
           165
          ],
          [
           200,
           "Shining, The (1980)",
           206
          ],
          [
           201,
           "Evil Dead II (1987)",
           89
          ],
          [
           202,
           "Groundhog Day (1993)",
           280
          ],
          [
           203,
           "Unforgiven (1992)",
           182
          ],
          [
           204,
           "Back to the Future (1985)",
           350
          ],
          [
           205,
           "Patton (1970)",
           136
          ],
          [
           206,
           "Akira (1988)",
           50
          ],
          [
           207,
           "Cyrano de Bergerac (1990)",
           66
          ],
          [
           208,
           "Young Frankenstein (1974)",
           200
          ],
          [
           209,
           "This Is Spinal Tap (1984)",
           191
          ],
          [
           210,
           "Indiana Jones and the Last Crusade (1989)",
           331
          ],
          [
           211,
           "M*A*S*H (1970)",
           206
          ],
          [
           212,
           "Unbearable Lightness of Being, The (1988)",
           92
          ],
          [
           213,
           "Room with a View, A (1986)",
           134
          ],
          [
           214,
           "Pink Floyd - The Wall (1982)",
           114
          ],
          [
           215,
           "Field of Dreams (1989)",
           212
          ],
          [
           216,
           "When Harry Met Sally... (1989)",
           290
          ],
          [
           217,
           "Bram Stoker's Dracula (1992)",
           120
          ],
          [
           218,
           "Cape Fear (1991)",
           171
          ],
          [
           219,
           "Nightmare on Elm Street, A (1984)",
           111
          ],
          [
           220,
           "Mirror Has Two Faces, The (1996)",
           66
          ],
          [
           221,
           "Breaking the Waves (1996)",
           74
          ],
          [
           222,
           "Star Trek: First Contact (1996)",
           365
          ],
          [
           223,
           "Sling Blade (1996)",
           136
          ],
          [
           224,
           "Ridicule (1996)",
           44
          ],
          [
           225,
           "101 Dalmatians (1996)",
           109
          ],
          [
           226,
           "Die Hard 2 (1990)",
           166
          ],
          [
           227,
           "Star Trek VI: The Undiscovered Country (1991)",
           161
          ],
          [
           228,
           "Star Trek: The Wrath of Khan (1982)",
           244
          ],
          [
           229,
           "Star Trek III: The Search for Spock (1984)",
           171
          ],
          [
           230,
           "Star Trek IV: The Voyage Home (1986)",
           199
          ],
          [
           231,
           "Batman Returns (1992)",
           142
          ],
          [
           232,
           "Young Guns (1988)",
           101
          ],
          [
           233,
           "Under Siege (1992)",
           124
          ],
          [
           234,
           "Jaws (1975)",
           280
          ],
          [
           235,
           "Mars Attacks! (1996)",
           217
          ],
          [
           236,
           "Citizen Ruth (1996)",
           45
          ],
          [
           237,
           "Jerry Maguire (1996)",
           384
          ],
          [
           238,
           "Raising Arizona (1987)",
           256
          ],
          [
           239,
           "Sneakers (1992)",
           150
          ],
          [
           240,
           "Beavis and Butt-head Do America (1996)",
           156
          ],
          [
           241,
           "Last of the Mohicans, The (1992)",
           128
          ],
          [
           242,
           "Kolya (1996)",
           117
          ],
          [
           243,
           "Jungle2Jungle (1997)",
           132
          ],
          [
           244,
           "Smilla's Sense of Snow (1997)",
           48
          ],
          [
           245,
           "Devil's Own, The (1997)",
           240
          ],
          [
           246,
           "Chasing Amy (1997)",
           124
          ],
          [
           247,
           "Turbo: A Power Rangers Movie (1997)",
           5
          ],
          [
           248,
           "Grosse Pointe Blank (1997)",
           160
          ],
          [
           249,
           "Austin Powers: International Man of Mystery (1997)",
           130
          ],
          [
           250,
           "Fifth Element, The (1997)",
           197
          ],
          [
           251,
           "Shall We Dance? (1996)",
           46
          ],
          [
           252,
           "Lost World: Jurassic Park, The (1997)",
           158
          ],
          [
           253,
           "Pillow Book, The (1995)",
           26
          ],
          [
           254,
           "Batman & Robin (1997)",
           62
          ],
          [
           255,
           "My Best Friend's Wedding (1997)",
           172
          ],
          [
           256,
           "When the Cats Away (Chacun cherche son chat) (1996)",
           16
          ],
          [
           257,
           "Men in Black (1997)",
           303
          ],
          [
           258,
           "Contact (1997)",
           509
          ],
          [
           259,
           "George of the Jungle (1997)",
           162
          ],
          [
           260,
           "Event Horizon (1997)",
           127
          ],
          [
           261,
           "Air Bud (1997)",
           43
          ],
          [
           262,
           "In the Company of Men (1997)",
           66
          ],
          [
           263,
           "Steel (1997)",
           19
          ],
          [
           264,
           "Mimic (1997)",
           101
          ],
          [
           265,
           "Hunt for Red October, The (1990)",
           227
          ],
          [
           266,
           "Kull the Conqueror (1997)",
           35
          ],
          [
           268,
           "Chasing Amy (1997)",
           255
          ],
          [
           269,
           "Full Monty, The (1997)",
           315
          ],
          [
           270,
           "Gattaca (1997)",
           136
          ],
          [
           271,
           "Starship Troopers (1997)",
           211
          ],
          [
           272,
           "Good Will Hunting (1997)",
           198
          ],
          [
           273,
           "Heat (1995)",
           223
          ],
          [
           274,
           "Sabrina (1995)",
           190
          ],
          [
           275,
           "Sense and Sensibility (1995)",
           268
          ],
          [
           276,
           "Leaving Las Vegas (1995)",
           298
          ],
          [
           277,
           "Restoration (1995)",
           71
          ],
          [
           278,
           "Bed of Roses (1996)",
           60
          ],
          [
           279,
           "Once Upon a Time... When We Were Colored (1995)",
           28
          ],
          [
           280,
           "Up Close and Personal (1996)",
           85
          ],
          [
           281,
           "River Wild, The (1994)",
           146
          ],
          [
           282,
           "Time to Kill, A (1996)",
           232
          ],
          [
           283,
           "Emma (1996)",
           177
          ],
          [
           284,
           "Tin Cup (1996)",
           193
          ],
          [
           285,
           "Secrets & Lies (1996)",
           162
          ],
          [
           286,
           "English Patient, The (1996)",
           481
          ],
          [
           287,
           "Marvin's Room (1996)",
           78
          ],
          [
           288,
           "Scream (1996)",
           478
          ],
          [
           289,
           "Evita (1996)",
           259
          ],
          [
           290,
           "Fierce Creatures (1997)",
           96
          ],
          [
           291,
           "Absolute Power (1997)",
           127
          ],
          [
           292,
           "Rosewood (1997)",
           114
          ],
          [
           293,
           "Donnie Brasco (1997)",
           147
          ],
          [
           294,
           "Liar Liar (1997)",
           485
          ],
          [
           295,
           "Breakdown (1997)",
           77
          ],
          [
           296,
           "Promesse, La (1996)",
           6
          ],
          [
           297,
           "Ulee's Gold (1997)",
           50
          ],
          [
           298,
           "Face/Off (1997)",
           194
          ],
          [
           299,
           "Hoodlum (1997)",
           73
          ],
          [
           300,
           "Air Force One (1997)",
           431
          ],
          [
           301,
           "In & Out (1997)",
           230
          ],
          [
           302,
           "L.A. Confidential (1997)",
           297
          ],
          [
           303,
           "Ulee's Gold (1997)",
           134
          ],
          [
           304,
           "Fly Away Home (1996)",
           149
          ],
          [
           305,
           "Ice Storm, The (1997)",
           87
          ],
          [
           306,
           "Mrs. Brown (Her Majesty, Mrs. Brown) (1997)",
           96
          ],
          [
           307,
           "Devil's Advocate, The (1997)",
           188
          ],
          [
           308,
           "FairyTale: A True Story (1997)",
           30
          ],
          [
           309,
           "Deceiver (1997)",
           28
          ],
          [
           310,
           "Rainmaker, The (1997)",
           145
          ],
          [
           311,
           "Wings of the Dove, The (1997)",
           75
          ],
          [
           312,
           "Midnight in the Garden of Good and Evil (1997)",
           80
          ],
          [
           313,
           "Titanic (1997)",
           350
          ],
          [
           314,
           "3 Ninjas: High Noon At Mega Mountain (1998)",
           5
          ],
          [
           315,
           "Apt Pupil (1998)",
           160
          ],
          [
           316,
           "As Good As It Gets (1997)",
           112
          ],
          [
           317,
           "In the Name of the Father (1993)",
           102
          ],
          [
           318,
           "Schindler's List (1993)",
           298
          ],
          [
           319,
           "Everyone Says I Love You (1996)",
           168
          ],
          [
           320,
           "Paradise Lost: The Child Murders at Robin Hood Hills (1996)",
           20
          ],
          [
           321,
           "Mother (1996)",
           169
          ],
          [
           322,
           "Murder at 1600 (1997)",
           218
          ],
          [
           323,
           "Dante's Peak (1997)",
           240
          ],
          [
           324,
           "Lost Highway (1997)",
           125
          ],
          [
           325,
           "Crash (1996)",
           128
          ],
          [
           326,
           "G.I. Jane (1997)",
           175
          ],
          [
           327,
           "Cop Land (1997)",
           175
          ],
          [
           328,
           "Conspiracy Theory (1997)",
           295
          ],
          [
           329,
           "Desperate Measures (1998)",
           45
          ],
          [
           330,
           "187 (1997)",
           41
          ],
          [
           331,
           "Edge, The (1997)",
           113
          ],
          [
           332,
           "Kiss the Girls (1997)",
           143
          ],
          [
           333,
           "Game, The (1997)",
           251
          ],
          [
           334,
           "U Turn (1997)",
           64
          ],
          [
           335,
           "How to Be a Player (1997)",
           21
          ],
          [
           336,
           "Playing God (1997)",
           43
          ],
          [
           337,
           "House of Yes, The (1997)",
           18
          ],
          [
           338,
           "Bean (1997)",
           91
          ],
          [
           339,
           "Mad City (1997)",
           47
          ],
          [
           340,
           "Boogie Nights (1997)",
           189
          ],
          [
           341,
           "Critical Care (1997)",
           11
          ],
          [
           342,
           "Man Who Knew Too Little, The (1997)",
           52
          ],
          [
           343,
           "Alien: Resurrection (1997)",
           124
          ],
          [
           344,
           "Apostle, The (1997)",
           55
          ],
          [
           345,
           "Deconstructing Harry (1997)",
           65
          ],
          [
           346,
           "Jackie Brown (1997)",
           126
          ],
          [
           347,
           "Wag the Dog (1997)",
           137
          ],
          [
           348,
           "Desperate Measures (1998)",
           27
          ],
          [
           349,
           "Hard Rain (1998)",
           31
          ],
          [
           350,
           "Fallen (1998)",
           41
          ],
          [
           351,
           "Prophecy II, The (1998)",
           20
          ],
          [
           352,
           "Spice World (1997)",
           26
          ],
          [
           353,
           "Deep Rising (1998)",
           14
          ],
          [
           354,
           "Wedding Singer, The (1998)",
           72
          ],
          [
           355,
           "Sphere (1998)",
           41
          ],
          [
           356,
           "Client, The (1994)",
           97
          ],
          [
           357,
           "One Flew Over the Cuckoo's Nest (1975)",
           264
          ],
          [
           358,
           "Spawn (1997)",
           143
          ],
          [
           359,
           "Assignment, The (1997)",
           18
          ],
          [
           360,
           "Wonderland (1997)",
           10
          ],
          [
           361,
           "Incognito (1997)",
           10
          ],
          [
           362,
           "Blues Brothers 2000 (1998)",
           28
          ],
          [
           363,
           "Sudden Death (1995)",
           47
          ],
          [
           364,
           "Ace Ventura: When Nature Calls (1995)",
           37
          ],
          [
           365,
           "Powder (1995)",
           48
          ],
          [
           366,
           "Dangerous Minds (1995)",
           47
          ],
          [
           367,
           "Clueless (1995)",
           170
          ],
          [
           368,
           "Bio-Dome (1996)",
           31
          ],
          [
           369,
           "Black Sheep (1996)",
           55
          ],
          [
           370,
           "Mary Reilly (1996)",
           39
          ],
          [
           371,
           "Bridges of Madison County, The (1995)",
           67
          ],
          [
           372,
           "Jeffrey (1995)",
           34
          ],
          [
           373,
           "Judge Dredd (1995)",
           39
          ],
          [
           374,
           "Mighty Morphin Power Rangers: The Movie (1995)",
           11
          ],
          [
           375,
           "Showgirls (1995)",
           23
          ],
          [
           376,
           "Houseguest (1994)",
           24
          ],
          [
           377,
           "Heavyweights (1994)",
           13
          ],
          [
           378,
           "Miracle on 34th Street (1994)",
           101
          ],
          [
           379,
           "Tales From the Crypt Presents: Demon Knight (1995)",
           43
          ],
          [
           380,
           "Star Trek: Generations (1994)",
           116
          ],
          [
           381,
           "Muriel's Wedding (1994)",
           100
          ],
          [
           382,
           "Adventures of Priscilla, Queen of the Desert, The (1994)",
           111
          ],
          [
           383,
           "Flintstones, The (1994)",
           31
          ],
          [
           384,
           "Naked Gun 33 1/3: The Final Insult (1994)",
           69
          ],
          [
           385,
           "True Lies (1994)",
           208
          ],
          [
           386,
           "Addams Family Values (1993)",
           87
          ],
          [
           387,
           "Age of Innocence, The (1993)",
           65
          ],
          [
           388,
           "Beverly Hills Cop III (1994)",
           28
          ],
          [
           389,
           "Black Beauty (1994)",
           27
          ],
          [
           390,
           "Fear of a Black Hat (1993)",
           10
          ],
          [
           391,
           "Last Action Hero (1993)",
           59
          ],
          [
           392,
           "Man Without a Face, The (1993)",
           68
          ],
          [
           393,
           "Mrs. Doubtfire (1993)",
           192
          ],
          [
           394,
           "Radioland Murders (1994)",
           12
          ],
          [
           395,
           "Robin Hood: Men in Tights (1993)",
           56
          ],
          [
           396,
           "Serial Mom (1994)",
           54
          ],
          [
           397,
           "Striking Distance (1993)",
           12
          ],
          [
           398,
           "Super Mario Bros. (1993)",
           26
          ],
          [
           399,
           "Three Musketeers, The (1993)",
           89
          ],
          [
           400,
           "Little Rascals, The (1994)",
           18
          ],
          [
           401,
           "Brady Bunch Movie, The (1995)",
           76
          ],
          [
           402,
           "Ghost (1990)",
           170
          ],
          [
           403,
           "Batman (1989)",
           201
          ],
          [
           404,
           "Pinocchio (1940)",
           101
          ],
          [
           405,
           "Mission: Impossible (1996)",
           344
          ],
          [
           406,
           "Thinner (1996)",
           49
          ],
          [
           407,
           "Spy Hard (1996)",
           43
          ],
          [
           408,
           "Close Shave, A (1995)",
           112
          ],
          [
           409,
           "Jack (1996)",
           70
          ],
          [
           410,
           "Kingpin (1996)",
           162
          ],
          [
           411,
           "Nutty Professor, The (1996)",
           163
          ],
          [
           412,
           "Very Brady Sequel, A (1996)",
           93
          ],
          [
           413,
           "Tales from the Crypt Presents: Bordello of Blood (1996)",
           55
          ],
          [
           414,
           "My Favorite Year (1982)",
           62
          ],
          [
           415,
           "Apple Dumpling Gang, The (1975)",
           25
          ],
          [
           416,
           "Old Yeller (1957)",
           64
          ],
          [
           417,
           "Parent Trap, The (1961)",
           73
          ],
          [
           418,
           "Cinderella (1950)",
           129
          ],
          [
           419,
           "Mary Poppins (1964)",
           178
          ],
          [
           420,
           "Alice in Wonderland (1951)",
           81
          ],
          [
           421,
           "William Shakespeare's Romeo and Juliet (1996)",
           106
          ],
          [
           422,
           "Aladdin and the King of Thieves (1996)",
           26
          ],
          [
           423,
           "E.T. the Extra-Terrestrial (1982)",
           300
          ],
          [
           424,
           "Children of the Corn: The Gathering (1996)",
           19
          ],
          [
           425,
           "Bob Roberts (1992)",
           85
          ],
          [
           426,
           "Transformers: The Movie, The (1986)",
           32
          ],
          [
           427,
           "To Kill a Mockingbird (1962)",
           219
          ],
          [
           428,
           "Harold and Maude (1971)",
           121
          ],
          [
           429,
           "Day the Earth Stood Still, The (1951)",
           97
          ],
          [
           430,
           "Duck Soup (1933)",
           93
          ],
          [
           431,
           "Highlander (1986)",
           153
          ],
          [
           432,
           "Fantasia (1940)",
           174
          ],
          [
           433,
           "Heathers (1989)",
           171
          ],
          [
           434,
           "Forbidden Planet (1956)",
           67
          ],
          [
           435,
           "Butch Cassidy and the Sundance Kid (1969)",
           216
          ],
          [
           436,
           "American Werewolf in London, An (1981)",
           99
          ],
          [
           437,
           "Amityville 1992: It's About Time (1992)",
           5
          ],
          [
           438,
           "Amityville 3-D (1983)",
           6
          ],
          [
           439,
           "Amityville: A New Generation (1993)",
           5
          ],
          [
           440,
           "Amityville II: The Possession (1982)",
           14
          ],
          [
           441,
           "Amityville Horror, The (1979)",
           53
          ],
          [
           442,
           "Amityville Curse, The (1990)",
           4
          ],
          [
           443,
           "Birds, The (1963)",
           162
          ],
          [
           444,
           "Blob, The (1958)",
           46
          ],
          [
           445,
           "Body Snatcher, The (1945)",
           22
          ],
          [
           446,
           "Burnt Offerings (1976)",
           9
          ],
          [
           447,
           "Carrie (1976)",
           121
          ],
          [
           448,
           "Omen, The (1976)",
           85
          ],
          [
           449,
           "Star Trek: The Motion Picture (1979)",
           117
          ],
          [
           450,
           "Star Trek V: The Final Frontier (1989)",
           63
          ],
          [
           451,
           "Grease (1978)",
           170
          ],
          [
           452,
           "Jaws 2 (1978)",
           66
          ],
          [
           453,
           "Jaws 3-D (1983)",
           16
          ],
          [
           454,
           "Bastard Out of Carolina (1996)",
           16
          ],
          [
           455,
           "Jackie Chan's First Strike (1996)",
           145
          ],
          [
           456,
           "Beverly Hills Ninja (1997)",
           48
          ],
          [
           457,
           "Free Willy 3: The Rescue (1997)",
           27
          ],
          [
           458,
           "Nixon (1995)",
           90
          ],
          [
           459,
           "Cry, the Beloved Country (1995)",
           24
          ],
          [
           460,
           "Crossing Guard, The (1995)",
           28
          ],
          [
           461,
           "Smoke (1995)",
           74
          ],
          [
           462,
           "Like Water For Chocolate (Como agua para chocolate) (1992)",
           148
          ],
          [
           463,
           "Secret of Roan Inish, The (1994)",
           71
          ],
          [
           464,
           "Vanya on 42nd Street (1994)",
           27
          ],
          [
           465,
           "Jungle Book, The (1994)",
           85
          ],
          [
           466,
           "Red Rock West (1992)",
           52
          ],
          [
           467,
           "Bronx Tale, A (1993)",
           48
          ],
          [
           468,
           "Rudy (1993)",
           64
          ],
          [
           469,
           "Short Cuts (1993)",
           67
          ],
          [
           470,
           "Tombstone (1993)",
           108
          ],
          [
           471,
           "Courage Under Fire (1996)",
           221
          ],
          [
           472,
           "Dragonheart (1996)",
           158
          ],
          [
           473,
           "James and the Giant Peach (1996)",
           126
          ],
          [
           474,
           "Dr. Strangelove or: How I Learned to Stop Worrying and Love the Bomb (1963)",
           194
          ],
          [
           475,
           "Trainspotting (1996)",
           250
          ],
          [
           476,
           "First Wives Club, The (1996)",
           160
          ],
          [
           477,
           "Matilda (1996)",
           95
          ],
          [
           478,
           "Philadelphia Story, The (1940)",
           104
          ],
          [
           479,
           "Vertigo (1958)",
           179
          ],
          [
           480,
           "North by Northwest (1959)",
           179
          ],
          [
           481,
           "Apartment, The (1960)",
           63
          ],
          [
           482,
           "Some Like It Hot (1959)",
           128
          ],
          [
           483,
           "Casablanca (1942)",
           243
          ],
          [
           484,
           "Maltese Falcon, The (1941)",
           138
          ],
          [
           485,
           "My Fair Lady (1964)",
           125
          ],
          [
           486,
           "Sabrina (1954)",
           64
          ],
          [
           487,
           "Roman Holiday (1953)",
           68
          ],
          [
           488,
           "Sunset Blvd. (1950)",
           65
          ],
          [
           489,
           "Notorious (1946)",
           52
          ],
          [
           490,
           "To Catch a Thief (1955)",
           50
          ],
          [
           491,
           "Adventures of Robin Hood, The (1938)",
           67
          ],
          [
           492,
           "East of Eden (1955)",
           59
          ],
          [
           493,
           "Thin Man, The (1934)",
           60
          ],
          [
           494,
           "His Girl Friday (1940)",
           56
          ],
          [
           495,
           "Around the World in 80 Days (1956)",
           59
          ],
          [
           496,
           "It's a Wonderful Life (1946)",
           231
          ],
          [
           497,
           "Bringing Up Baby (1938)",
           68
          ],
          [
           498,
           "African Queen, The (1951)",
           152
          ],
          [
           499,
           "Cat on a Hot Tin Roof (1958)",
           62
          ],
          [
           500,
           "Fly Away Home (1996)",
           31
          ],
          [
           501,
           "Dumbo (1941)",
           123
          ],
          [
           502,
           "Bananas (1971)",
           57
          ],
          [
           503,
           "Candidate, The (1972)",
           39
          ],
          [
           504,
           "Bonnie and Clyde (1967)",
           122
          ],
          [
           505,
           "Dial M for Murder (1954)",
           68
          ],
          [
           506,
           "Rebel Without a Cause (1955)",
           90
          ],
          [
           507,
           "Streetcar Named Desire, A (1951)",
           98
          ],
          [
           508,
           "People vs. Larry Flynt, The (1996)",
           215
          ],
          [
           509,
           "My Left Foot (1989)",
           121
          ],
          [
           510,
           "Magnificent Seven, The (1954)",
           121
          ],
          [
           511,
           "Lawrence of Arabia (1962)",
           173
          ],
          [
           512,
           "Wings of Desire (1987)",
           57
          ],
          [
           513,
           "Third Man, The (1949)",
           72
          ],
          [
           514,
           "Annie Hall (1977)",
           180
          ],
          [
           515,
           "Boot, Das (1981)",
           201
          ],
          [
           516,
           "Local Hero (1983)",
           63
          ],
          [
           517,
           "Manhattan (1979)",
           91
          ],
          [
           518,
           "Miller's Crossing (1990)",
           89
          ],
          [
           519,
           "Treasure of the Sierra Madre, The (1948)",
           80
          ],
          [
           520,
           "Great Escape, The (1963)",
           124
          ],
          [
           521,
           "Deer Hunter, The (1978)",
           120
          ],
          [
           522,
           "Down by Law (1986)",
           35
          ],
          [
           523,
           "Cool Hand Luke (1967)",
           164
          ],
          [
           524,
           "Great Dictator, The (1940)",
           46
          ],
          [
           525,
           "Big Sleep, The (1946)",
           73
          ],
          [
           526,
           "Ben-Hur (1959)",
           124
          ],
          [
           527,
           "Gandhi (1982)",
           195
          ],
          [
           528,
           "Killing Fields, The (1984)",
           121
          ],
          [
           529,
           "My Life as a Dog (Mitt liv som hund) (1985)",
           93
          ],
          [
           530,
           "Man Who Would Be King, The (1975)",
           80
          ],
          [
           531,
           "Shine (1996)",
           129
          ],
          [
           532,
           "Kama Sutra: A Tale of Love (1996)",
           22
          ],
          [
           533,
           "Daytrippers, The (1996)",
           15
          ],
          [
           534,
           "Traveller (1997)",
           13
          ],
          [
           535,
           "Addicted to Love (1997)",
           54
          ],
          [
           536,
           "Ponette (1996)",
           10
          ],
          [
           537,
           "My Own Private Idaho (1991)",
           30
          ],
          [
           538,
           "Anastasia (1997)",
           66
          ],
          [
           539,
           "Mouse Hunt (1997)",
           44
          ],
          [
           540,
           "Money Train (1995)",
           43
          ],
          [
           541,
           "Mortal Kombat (1995)",
           49
          ],
          [
           542,
           "Pocahontas (1995)",
           51
          ],
          [
           543,
           "Misérables, Les (1995)",
           21
          ],
          [
           544,
           "Things to Do in Denver when You're Dead (1995)",
           71
          ],
          [
           545,
           "Vampire in Brooklyn (1995)",
           12
          ],
          [
           546,
           "Broken Arrow (1996)",
           254
          ],
          [
           547,
           "Young Poisoner's Handbook, The (1995)",
           41
          ],
          [
           548,
           "NeverEnding Story III, The (1994)",
           12
          ],
          [
           549,
           "Rob Roy (1995)",
           92
          ],
          [
           550,
           "Die Hard: With a Vengeance (1995)",
           151
          ],
          [
           551,
           "Lord of Illusions (1995)",
           24
          ],
          [
           552,
           "Species (1995)",
           45
          ],
          [
           553,
           "Walk in the Clouds, A (1995)",
           63
          ],
          [
           554,
           "Waterworld (1995)",
           102
          ],
          [
           555,
           "White Man's Burden (1995)",
           10
          ],
          [
           556,
           "Wild Bill (1995)",
           12
          ],
          [
           557,
           "Farinelli: il castrato (1994)",
           17
          ],
          [
           558,
           "Heavenly Creatures (1994)",
           70
          ],
          [
           559,
           "Interview with the Vampire (1994)",
           137
          ],
          [
           560,
           "Kid in King Arthur's Court, A (1995)",
           22
          ],
          [
           561,
           "Mary Shelley's Frankenstein (1994)",
           59
          ],
          [
           562,
           "Quick and the Dead, The (1995)",
           48
          ],
          [
           563,
           "Stephen King's The Langoliers (1995)",
           29
          ],
          [
           564,
           "Tales from the Hood (1995)",
           27
          ],
          [
           565,
           "Village of the Damned (1995)",
           22
          ],
          [
           566,
           "Clear and Present Danger (1994)",
           179
          ],
          [
           567,
           "Wes Craven's New Nightmare (1994)",
           35
          ],
          [
           568,
           "Speed (1994)",
           230
          ],
          [
           569,
           "Wolf (1994)",
           67
          ],
          [
           570,
           "Wyatt Earp (1994)",
           50
          ],
          [
           571,
           "Another Stakeout (1993)",
           28
          ],
          [
           572,
           "Blown Away (1994)",
           29
          ],
          [
           573,
           "Body Snatchers (1993)",
           33
          ],
          [
           574,
           "Boxing Helena (1993)",
           15
          ],
          [
           575,
           "City Slickers II: The Legend of Curly's Gold (1994)",
           44
          ],
          [
           576,
           "Cliffhanger (1993)",
           93
          ],
          [
           577,
           "Coneheads (1993)",
           41
          ],
          [
           578,
           "Demolition Man (1993)",
           92
          ],
          [
           579,
           "Fatal Instinct (1993)",
           19
          ],
          [
           580,
           "Englishman Who Went Up a Hill, But Came Down a Mountain, The (1995)",
           32
          ],
          [
           581,
           "Kalifornia (1993)",
           59
          ],
          [
           582,
           "Piano, The (1993)",
           168
          ],
          [
           583,
           "Romeo Is Bleeding (1993)",
           37
          ],
          [
           584,
           "Secret Garden, The (1993)",
           79
          ],
          [
           585,
           "Son in Law (1993)",
           39
          ],
          [
           586,
           "Terminal Velocity (1994)",
           34
          ],
          [
           587,
           "Hour of the Pig, The (1993)",
           14
          ],
          [
           588,
           "Beauty and the Beast (1991)",
           202
          ],
          [
           589,
           "Wild Bunch, The (1969)",
           43
          ],
          [
           590,
           "Hellraiser: Bloodline (1996)",
           18
          ],
          [
           591,
           "Primal Fear (1996)",
           178
          ],
          [
           592,
           "True Crime (1995)",
           9
          ],
          [
           593,
           "Stalingrad (1993)",
           12
          ],
          [
           594,
           "Heavy (1995)",
           5
          ],
          [
           595,
           "Fan, The (1996)",
           64
          ],
          [
           596,
           "Hunchback of Notre Dame, The (1996)",
           127
          ],
          [
           597,
           "Eraser (1996)",
           206
          ],
          [
           598,
           "Big Squeeze, The (1996)",
           4
          ],
          [
           599,
           "Police Story 4: Project S (Chao ji ji hua) (1993)",
           1
          ],
          [
           600,
           "Daniel Defoe's Robinson Crusoe (1996)",
           2
          ],
          [
           601,
           "For Whom the Bell Tolls (1943)",
           20
          ],
          [
           602,
           "American in Paris, An (1951)",
           50
          ],
          [
           603,
           "Rear Window (1954)",
           209
          ],
          [
           604,
           "It Happened One Night (1934)",
           81
          ],
          [
           605,
           "Meet Me in St. Louis (1944)",
           31
          ],
          [
           606,
           "All About Eve (1950)",
           66
          ],
          [
           607,
           "Rebecca (1940)",
           66
          ],
          [
           608,
           "Spellbound (1945)",
           30
          ],
          [
           609,
           "Father of the Bride (1950)",
           60
          ],
          [
           610,
           "Gigi (1958)",
           41
          ],
          [
           611,
           "Laura (1944)",
           40
          ],
          [
           612,
           "Lost Horizon (1937)",
           34
          ],
          [
           613,
           "My Man Godfrey (1936)",
           27
          ],
          [
           614,
           "Giant (1956)",
           51
          ],
          [
           615,
           "39 Steps, The (1935)",
           59
          ],
          [
           616,
           "Night of the Living Dead (1968)",
           64
          ],
          [
           617,
           "Blue Angel, The (Blaue Engel, Der) (1930)",
           18
          ],
          [
           618,
           "Picnic (1955)",
           18
          ],
          [
           619,
           "Extreme Measures (1996)",
           64
          ],
          [
           620,
           "Chamber, The (1996)",
           43
          ],
          [
           621,
           "Davy Crockett, King of the Wild Frontier (1955)",
           11
          ],
          [
           622,
           "Swiss Family Robinson (1960)",
           39
          ],
          [
           623,
           "Angels in the Outfield (1994)",
           39
          ],
          [
           624,
           "Three Caballeros, The (1945)",
           22
          ],
          [
           625,
           "Sword in the Stone, The (1963)",
           82
          ],
          [
           626,
           "So Dear to My Heart (1949)",
           4
          ],
          [
           627,
           "Robin Hood: Prince of Thieves (1991)",
           75
          ],
          [
           628,
           "Sleepers (1996)",
           169
          ],
          [
           629,
           "Victor/Victoria (1982)",
           77
          ],
          [
           630,
           "Great Race, The (1965)",
           31
          ],
          [
           631,
           "Crying Game, The (1992)",
           119
          ],
          [
           632,
           "Sophie's Choice (1982)",
           58
          ],
          [
           633,
           "Christmas Carol, A (1938)",
           69
          ],
          [
           634,
           "Microcosmos: Le peuple de l'herbe (1996)",
           24
          ],
          [
           635,
           "Fog, The (1980)",
           23
          ],
          [
           636,
           "Escape from New York (1981)",
           91
          ],
          [
           637,
           "Howling, The (1981)",
           38
          ],
          [
           638,
           "Return of Martin Guerre, The (Retour de Martin Guerre, Le) (1982)",
           44
          ],
          [
           639,
           "Tin Drum, The (Blechtrommel, Die) (1979)",
           40
          ],
          [
           640,
           "Cook the Thief His Wife & Her Lover, The (1989)",
           82
          ],
          [
           641,
           "Paths of Glory (1957)",
           33
          ],
          [
           642,
           "Grifters, The (1990)",
           89
          ],
          [
           643,
           "The Innocent (1994)",
           4
          ],
          [
           644,
           "Thin Blue Line, The (1988)",
           35
          ],
          [
           645,
           "Paris Is Burning (1990)",
           27
          ],
          [
           646,
           "Once Upon a Time in the West (1969)",
           38
          ],
          [
           647,
           "Ran (1985)",
           70
          ],
          [
           648,
           "Quiet Man, The (1952)",
           67
          ],
          [
           649,
           "Once Upon a Time in America (1984)",
           50
          ],
          [
           650,
           "Seventh Seal, The (Sjunde inseglet, Det) (1957)",
           72
          ],
          [
           651,
           "Glory (1989)",
           171
          ],
          [
           652,
           "Rosencrantz and Guildenstern Are Dead (1990)",
           90
          ],
          [
           653,
           "Touch of Evil (1958)",
           34
          ],
          [
           654,
           "Chinatown (1974)",
           147
          ],
          [
           655,
           "Stand by Me (1986)",
           227
          ],
          [
           656,
           "M (1931)",
           44
          ],
          [
           657,
           "Manchurian Candidate, The (1962)",
           131
          ],
          [
           658,
           "Pump Up the Volume (1990)",
           79
          ],
          [
           659,
           "Arsenic and Old Lace (1944)",
           115
          ],
          [
           660,
           "Fried Green Tomatoes (1991)",
           153
          ],
          [
           661,
           "High Noon (1952)",
           88
          ],
          [
           662,
           "Somewhere in Time (1980)",
           82
          ],
          [
           663,
           "Being There (1979)",
           116
          ],
          [
           664,
           "Paris, Texas (1984)",
           46
          ],
          [
           665,
           "Alien 3 (1992)",
           100
          ],
          [
           666,
           "Blood For Dracula (Andy Warhol's Dracula) (1974)",
           5
          ],
          [
           667,
           "Audrey Rose (1977)",
           12
          ],
          [
           668,
           "Blood Beach (1981)",
           6
          ],
          [
           669,
           "Body Parts (1991)",
           13
          ],
          [
           670,
           "Body Snatchers (1993)",
           36
          ],
          [
           671,
           "Bride of Frankenstein (1935)",
           46
          ],
          [
           672,
           "Candyman (1992)",
           65
          ],
          [
           673,
           "Cape Fear (1962)",
           86
          ],
          [
           674,
           "Cat People (1982)",
           48
          ],
          [
           675,
           "Nosferatu (Nosferatu, eine Symphonie des Grauens) (1922)",
           54
          ],
          [
           676,
           "Crucible, The (1996)",
           77
          ],
          [
           677,
           "Fire on the Mountain (1996)",
           1
          ],
          [
           678,
           "Volcano (1997)",
           219
          ],
          [
           679,
           "Conan the Barbarian (1981)",
           107
          ],
          [
           680,
           "Kull the Conqueror (1997)",
           34
          ],
          [
           681,
           "Wishmaster (1997)",
           27
          ],
          [
           682,
           "I Know What You Did Last Summer (1997)",
           100
          ],
          [
           683,
           "Rocket Man (1997)",
           49
          ],
          [
           684,
           "In the Line of Fire (1993)",
           169
          ],
          [
           685,
           "Executive Decision (1996)",
           157
          ],
          [
           686,
           "Perfect World, A (1993)",
           50
          ],
          [
           687,
           "McHale's Navy (1997)",
           69
          ],
          [
           688,
           "Leave It to Beaver (1997)",
           44
          ],
          [
           689,
           "Jackal, The (1997)",
           87
          ],
          [
           690,
           "Seven Years in Tibet (1997)",
           155
          ],
          [
           691,
           "Dark City (1998)",
           16
          ],
          [
           692,
           "American President, The (1995)",
           164
          ],
          [
           693,
           "Casino (1995)",
           91
          ],
          [
           694,
           "Persuasion (1995)",
           44
          ],
          [
           695,
           "Kicking and Screaming (1995)",
           13
          ],
          [
           696,
           "City Hall (1996)",
           79
          ],
          [
           697,
           "Basketball Diaries, The (1995)",
           40
          ],
          [
           698,
           "Browning Version, The (1994)",
           10
          ],
          [
           699,
           "Little Women (1994)",
           102
          ],
          [
           700,
           "Miami Rhapsody (1995)",
           15
          ],
          [
           701,
           "Wonderful, Horrible Life of Leni Riefenstahl, The (1993)",
           10
          ],
          [
           702,
           "Barcelona (1994)",
           53
          ],
          [
           703,
           "Widows' Peak (1994)",
           19
          ],
          [
           704,
           "House of the Spirits, The (1993)",
           24
          ],
          [
           705,
           "Singin' in the Rain (1952)",
           137
          ],
          [
           706,
           "Bad Moon (1996)",
           6
          ],
          [
           707,
           "Enchanted April (1991)",
           70
          ],
          [
           708,
           "Sex, Lies, and Videotape (1989)",
           101
          ],
          [
           709,
           "Strictly Ballroom (1992)",
           104
          ],
          [
           710,
           "Better Off Dead... (1985)",
           79
          ],
          [
           711,
           "Substance of Fire, The (1996)",
           1
          ],
          [
           712,
           "Tin Men (1987)",
           51
          ],
          [
           713,
           "Othello (1995)",
           72
          ],
          [
           714,
           "Carrington (1995)",
           13
          ],
          [
           715,
           "To Die For (1995)",
           87
          ],
          [
           716,
           "Home for the Holidays (1995)",
           58
          ],
          [
           717,
           "Juror, The (1996)",
           82
          ],
          [
           718,
           "In the Bleak Midwinter (1995)",
           16
          ],
          [
           719,
           "Canadian Bacon (1994)",
           29
          ],
          [
           720,
           "First Knight (1995)",
           86
          ],
          [
           721,
           "Mallrats (1995)",
           54
          ],
          [
           722,
           "Nine Months (1995)",
           58
          ],
          [
           723,
           "Boys on the Side (1995)",
           34
          ],
          [
           724,
           "Circle of Friends (1995)",
           76
          ],
          [
           725,
           "Exit to Eden (1994)",
           16
          ],
          [
           726,
           "Fluke (1995)",
           14
          ],
          [
           727,
           "Immortal Beloved (1994)",
           63
          ],
          [
           728,
           "Junior (1994)",
           45
          ],
          [
           729,
           "Nell (1994)",
           81
          ],
          [
           730,
           "Queen Margot (Reine Margot, La) (1994)",
           24
          ],
          [
           731,
           "Corrina, Corrina (1994)",
           39
          ],
          [
           732,
           "Dave (1993)",
           180
          ],
          [
           733,
           "Go Fish (1994)",
           15
          ],
          [
           734,
           "Made in America (1993)",
           27
          ],
          [
           735,
           "Philadelphia (1993)",
           137
          ],
          [
           736,
           "Shadowlands (1993)",
           78
          ],
          [
           737,
           "Sirens (1994)",
           59
          ],
          [
           738,
           "Threesome (1994)",
           31
          ],
          [
           739,
           "Pretty Woman (1990)",
           164
          ],
          [
           740,
           "Jane Eyre (1996)",
           63
          ],
          [
           741,
           "Last Supper, The (1995)",
           58
          ],
          [
           742,
           "Ransom (1996)",
           267
          ],
          [
           743,
           "Crow: City of Angels, The (1996)",
           39
          ],
          [
           744,
           "Michael Collins (1996)",
           92
          ],
          [
           745,
           "Ruling Class, The (1972)",
           16
          ],
          [
           746,
           "Real Genius (1985)",
           119
          ],
          [
           747,
           "Benny & Joon (1993)",
           102
          ],
          [
           748,
           "Saint, The (1997)",
           316
          ],
          [
           749,
           "MatchMaker, The (1997)",
           51
          ],
          [
           750,
           "Amistad (1997)",
           124
          ],
          [
           751,
           "Tomorrow Never Dies (1997)",
           180
          ],
          [
           752,
           "Replacement Killers, The (1998)",
           39
          ],
          [
           753,
           "Burnt By the Sun (1994)",
           24
          ],
          [
           754,
           "Red Corner (1997)",
           57
          ],
          [
           755,
           "Jumanji (1995)",
           96
          ],
          [
           756,
           "Father of the Bride Part II (1995)",
           128
          ],
          [
           757,
           "Across the Sea of Time (1995)",
           4
          ],
          [
           758,
           "Lawnmower Man 2: Beyond Cyberspace (1996)",
           21
          ],
          [
           759,
           "Fair Game (1995)",
           11
          ],
          [
           760,
           "Screamers (1995)",
           46
          ],
          [
           761,
           "Nick of Time (1995)",
           44
          ],
          [
           762,
           "Beautiful Girls (1996)",
           115
          ],
          [
           763,
           "Happy Gilmore (1996)",
           149
          ],
          [
           764,
           "If Lucy Fell (1996)",
           29
          ],
          [
           765,
           "Boomerang (1992)",
           32
          ],
          [
           766,
           "Man of the Year (1995)",
           9
          ],
          [
           767,
           "Addiction, The (1995)",
           11
          ],
          [
           768,
           "Casper (1995)",
           52
          ],
          [
           769,
           "Congo (1995)",
           42
          ],
          [
           770,
           "Devil in a Blue Dress (1995)",
           57
          ],
          [
           771,
           "Johnny Mnemonic (1995)",
           41
          ],
          [
           772,
           "Kids (1995)",
           49
          ],
          [
           773,
           "Mute Witness (1994)",
           17
          ],
          [
           774,
           "Prophecy, The (1995)",
           32
          ],
          [
           775,
           "Something to Talk About (1995)",
           26
          ],
          [
           776,
           "Three Wishes (1995)",
           9
          ],
          [
           777,
           "Castle Freak (1995)",
           4
          ],
          [
           778,
           "Don Juan DeMarco (1995)",
           76
          ],
          [
           779,
           "Drop Zone (1994)",
           31
          ],
          [
           780,
           "Dumb & Dumber (1994)",
           69
          ],
          [
           781,
           "French Kiss (1995)",
           84
          ],
          [
           782,
           "Little Odessa (1994)",
           10
          ],
          [
           783,
           "Milk Money (1994)",
           37
          ],
          [
           784,
           "Beyond Bedlam (1993)",
           2
          ],
          [
           785,
           "Only You (1994)",
           39
          ],
          [
           786,
           "Perez Family, The (1995)",
           14
          ],
          [
           787,
           "Roommates (1995)",
           13
          ],
          [
           788,
           "Relative Fear (1994)",
           3
          ],
          [
           789,
           "Swimming with Sharks (1995)",
           47
          ],
          [
           790,
           "Tommy Boy (1995)",
           66
          ],
          [
           791,
           "Baby-Sitters Club, The (1995)",
           10
          ],
          [
           792,
           "Bullets Over Broadway (1994)",
           86
          ],
          [
           793,
           "Crooklyn (1994)",
           10
          ],
          [
           794,
           "It Could Happen to You (1994)",
           46
          ],
          [
           795,
           "Richie Rich (1994)",
           21
          ],
          [
           796,
           "Speechless (1994)",
           36
          ],
          [
           797,
           "Timecop (1994)",
           31
          ],
          [
           798,
           "Bad Company (1995)",
           9
          ],
          [
           799,
           "Boys Life (1995)",
           5
          ],
          [
           800,
           "In the Mouth of Madness (1995)",
           26
          ],
          [
           801,
           "Air Up There, The (1994)",
           16
          ],
          [
           802,
           "Hard Target (1993)",
           40
          ],
          [
           803,
           "Heaven & Earth (1993)",
           9
          ],
          [
           804,
           "Jimmy Hollywood (1994)",
           8
          ],
          [
           805,
           "Manhattan Murder Mystery (1993)",
           27
          ],
          [
           806,
           "Menace II Society (1993)",
           50
          ],
          [
           807,
           "Poetic Justice (1993)",
           9
          ],
          [
           808,
           "Program, The (1993)",
           31
          ],
          [
           809,
           "Rising Sun (1993)",
           43
          ],
          [
           810,
           "Shadow, The (1994)",
           45
          ],
          [
           811,
           "Thirty-Two Short Films About Glenn Gould (1993)",
           18
          ],
          [
           812,
           "Andre (1994)",
           18
          ],
          [
           813,
           "Celluloid Closet, The (1995)",
           56
          ],
          [
           814,
           "Great Day in Harlem, A (1994)",
           1
          ],
          [
           815,
           "One Fine Day (1996)",
           112
          ],
          [
           816,
           "Candyman: Farewell to the Flesh (1995)",
           21
          ],
          [
           817,
           "Frisk (1995)",
           3
          ],
          [
           818,
           "Girl 6 (1996)",
           25
          ],
          [
           819,
           "Eddie (1996)",
           40
          ],
          [
           820,
           "Space Jam (1996)",
           93
          ],
          [
           821,
           "Mrs. Winterbourne (1996)",
           22
          ],
          [
           822,
           "Faces (1968)",
           4
          ],
          [
           823,
           "Mulholland Falls (1996)",
           82
          ],
          [
           824,
           "Great White Hype, The (1996)",
           49
          ],
          [
           825,
           "Arrival, The (1996)",
           83
          ],
          [
           826,
           "Phantom, The (1996)",
           80
          ],
          [
           827,
           "Daylight (1996)",
           57
          ],
          [
           828,
           "Alaska (1996)",
           13
          ],
          [
           829,
           "Fled (1996)",
           34
          ],
          [
           830,
           "Power 98 (1995)",
           1
          ],
          [
           831,
           "Escape from L.A. (1996)",
           91
          ],
          [
           832,
           "Bogus (1996)",
           22
          ],
          [
           833,
           "Bulletproof (1996)",
           49
          ],
          [
           834,
           "Halloween: The Curse of Michael Myers (1995)",
           25
          ],
          [
           835,
           "Gay Divorcee, The (1934)",
           15
          ],
          [
           836,
           "Ninotchka (1939)",
           26
          ],
          [
           837,
           "Meet John Doe (1941)",
           25
          ],
          [
           838,
           "In the Line of Duty 2 (1987)",
           4
          ],
          [
           839,
           "Loch Ness (1995)",
           4
          ],
          [
           840,
           "Last Man Standing (1996)",
           53
          ],
          [
           841,
           "Glimmer Man, The (1996)",
           48
          ],
          [
           842,
           "Pollyanna (1960)",
           27
          ],
          [
           843,
           "Shaggy Dog, The (1959)",
           30
          ],
          [
           844,
           "Freeway (1996)",
           42
          ],
          [
           845,
           "That Thing You Do! (1996)",
           176
          ],
          [
           846,
           "To Gillian on Her 37th Birthday (1996)",
           44
          ],
          [
           847,
           "Looking for Richard (1996)",
           55
          ],
          [
           848,
           "Murder, My Sweet (1944)",
           9
          ],
          [
           849,
           "Days of Thunder (1990)",
           53
          ],
          [
           850,
           "Perfect Candidate, A (1996)",
           4
          ],
          [
           851,
           "Two or Three Things I Know About Her (1966)",
           4
          ],
          [
           852,
           "Bloody Child, The (1996)",
           1
          ],
          [
           853,
           "Braindead (1992)",
           14
          ],
          [
           854,
           "Bad Taste (1987)",
           16
          ],
          [
           855,
           "Diva (1981)",
           66
          ],
          [
           856,
           "Night on Earth (1991)",
           36
          ],
          [
           857,
           "Paris Was a Woman (1995)",
           1
          ],
          [
           858,
           "Amityville: Dollhouse (1996)",
           3
          ],
          [
           859,
           "April Fool's Day (1986)",
           15
          ],
          [
           860,
           "Believers, The (1987)",
           16
          ],
          [
           861,
           "Nosferatu a Venezia (1986)",
           3
          ],
          [
           862,
           "Jingle All the Way (1996)",
           18
          ],
          [
           863,
           "Garden of Finzi-Contini, The (Giardino dei Finzi-Contini, Il) (1970)",
           24
          ],
          [
           864,
           "My Fellow Americans (1996)",
           86
          ],
          [
           865,
           "Ice Storm, The (1997)",
           21
          ],
          [
           866,
           "Michael (1996)",
           119
          ],
          [
           867,
           "Whole Wide World, The (1996)",
           6
          ],
          [
           868,
           "Hearts and Minds (1996)",
           5
          ],
          [
           869,
           "Fools Rush In (1997)",
           24
          ],
          [
           870,
           "Touch (1997)",
           9
          ],
          [
           871,
           "Vegas Vacation (1997)",
           75
          ],
          [
           872,
           "Love Jones (1997)",
           42
          ],
          [
           873,
           "Picture Perfect (1997)",
           81
          ],
          [
           874,
           "Career Girls (1997)",
           39
          ],
          [
           875,
           "She's So Lovely (1997)",
           53
          ],
          [
           876,
           "Money Talks (1997)",
           47
          ],
          [
           877,
           "Excess Baggage (1997)",
           52
          ],
          [
           878,
           "That Darn Cat! (1997)",
           33
          ],
          [
           879,
           "Peacemaker, The (1997)",
           136
          ],
          [
           880,
           "Soul Food (1997)",
           59
          ],
          [
           881,
           "Money Talks (1997)",
           45
          ],
          [
           882,
           "Washington Square (1997)",
           34
          ],
          [
           883,
           "Telling Lies in America (1997)",
           13
          ],
          [
           884,
           "Year of the Horse (1997)",
           7
          ],
          [
           885,
           "Phantoms (1998)",
           13
          ],
          [
           886,
           "Life Less Ordinary, A (1997)",
           53
          ],
          [
           887,
           "Eve's Bayou (1997)",
           64
          ],
          [
           888,
           "One Night Stand (1997)",
           15
          ],
          [
           889,
           "Tango Lesson, The (1997)",
           13
          ],
          [
           890,
           "Mortal Kombat: Annihilation (1997)",
           43
          ],
          [
           891,
           "Bent (1997)",
           6
          ],
          [
           892,
           "Flubber (1997)",
           53
          ],
          [
           893,
           "For Richer or Poorer (1997)",
           14
          ],
          [
           894,
           "Home Alone 3 (1997)",
           19
          ],
          [
           895,
           "Scream 2 (1997)",
           106
          ],
          [
           896,
           "Sweet Hereafter, The (1997)",
           44
          ],
          [
           897,
           "Time Tracers (1995)",
           2
          ],
          [
           898,
           "Postman, The (1997)",
           58
          ],
          [
           899,
           "Winter Guest, The (1997)",
           9
          ],
          [
           900,
           "Kundun (1997)",
           42
          ],
          [
           901,
           "Mr. Magoo (1997)",
           12
          ],
          [
           902,
           "Big Lebowski, The (1998)",
           42
          ],
          [
           903,
           "Afterglow (1997)",
           18
          ],
          [
           904,
           "Ma vie en rose (My Life in Pink) (1997)",
           20
          ],
          [
           905,
           "Great Expectations (1998)",
           27
          ],
          [
           906,
           "Oscar & Lucinda (1997)",
           21
          ],
          [
           907,
           "Vermin (1998)",
           2
          ],
          [
           908,
           "Half Baked (1998)",
           20
          ],
          [
           909,
           "Dangerous Beauty (1998)",
           13
          ],
          [
           910,
           "Nil By Mouth (1997)",
           4
          ],
          [
           911,
           "Twilight (1998)",
           4
          ],
          [
           912,
           "U.S. Marshalls (1998)",
           9
          ],
          [
           913,
           "Love and Death on Long Island (1997)",
           2
          ],
          [
           914,
           "Wild Things (1998)",
           11
          ],
          [
           915,
           "Primary Colors (1998)",
           13
          ],
          [
           916,
           "Lost in Space (1998)",
           18
          ],
          [
           917,
           "Mercury Rising (1998)",
           7
          ],
          [
           918,
           "City of Angels (1998)",
           8
          ],
          [
           919,
           "City of Lost Children, The (1995)",
           96
          ],
          [
           920,
           "Two Bits (1995)",
           5
          ],
          [
           921,
           "Farewell My Concubine (1993)",
           46
          ],
          [
           922,
           "Dead Man (1995)",
           34
          ],
          [
           923,
           "Raise the Red Lantern (1991)",
           58
          ],
          [
           924,
           "White Squall (1996)",
           85
          ],
          [
           925,
           "Unforgettable (1996)",
           34
          ],
          [
           926,
           "Down Periscope (1996)",
           101
          ],
          [
           927,
           "Flower of My Secret, The (Flor de mi secreto, La) (1995)",
           6
          ],
          [
           928,
           "Craft, The (1996)",
           104
          ],
          [
           929,
           "Harriet the Spy (1996)",
           40
          ],
          [
           930,
           "Chain Reaction (1996)",
           80
          ],
          [
           931,
           "Island of Dr. Moreau, The (1996)",
           57
          ],
          [
           932,
           "First Kid (1996)",
           40
          ],
          [
           933,
           "Funeral, The (1996)",
           21
          ],
          [
           934,
           "Preacher's Wife, The (1996)",
           68
          ],
          [
           935,
           "Paradise Road (1997)",
           7
          ],
          [
           936,
           "Brassed Off (1996)",
           32
          ],
          [
           937,
           "Thousand Acres, A (1997)",
           37
          ],
          [
           938,
           "Smile Like Yours, A (1997)",
           25
          ],
          [
           939,
           "Murder in the First (1995)",
           60
          ],
          [
           940,
           "Airheads (1994)",
           32
          ],
          [
           941,
           "With Honors (1994)",
           46
          ],
          [
           942,
           "What's Love Got to Do with It (1993)",
           45
          ],
          [
           943,
           "Killing Zoe (1994)",
           40
          ],
          [
           944,
           "Renaissance Man (1994)",
           43
          ],
          [
           945,
           "Charade (1963)",
           40
          ],
          [
           946,
           "Fox and the Hound, The (1981)",
           61
          ],
          [
           947,
           "Big Blue, The (Grand bleu, Le) (1988)",
           17
          ],
          [
           948,
           "Booty Call (1997)",
           48
          ],
          [
           949,
           "How to Make an American Quilt (1995)",
           71
          ],
          [
           950,
           "Georgia (1995)",
           30
          ],
          [
           951,
           "Indian in the Cupboard, The (1995)",
           39
          ],
          [
           952,
           "Blue in the Face (1995)",
           45
          ],
          [
           953,
           "Unstrung Heroes (1995)",
           22
          ],
          [
           954,
           "Unzipped (1995)",
           11
          ],
          [
           955,
           "Before Sunrise (1995)",
           49
          ],
          [
           956,
           "Nobody's Fool (1994)",
           46
          ],
          [
           957,
           "Pushing Hands (1992)",
           2
          ],
          [
           958,
           "To Live (Huozhe) (1994)",
           14
          ],
          [
           959,
           "Dazed and Confused (1993)",
           64
          ],
          [
           960,
           "Naked (1993)",
           25
          ],
          [
           961,
           "Orlando (1993)",
           34
          ],
          [
           962,
           "Ruby in Paradise (1993)",
           23
          ],
          [
           963,
           "Some Folks Call It a Sling Blade (1993)",
           41
          ],
          [
           964,
           "Month by the Lake, A (1995)",
           9
          ],
          [
           965,
           "Funny Face (1957)",
           21
          ],
          [
           966,
           "Affair to Remember, An (1957)",
           26
          ],
          [
           967,
           "Little Lord Fauntleroy (1936)",
           12
          ],
          [
           968,
           "Inspector General, The (1949)",
           18
          ],
          [
           969,
           "Winnie the Pooh and the Blustery Day (1968)",
           75
          ],
          [
           970,
           "Hear My Song (1991)",
           8
          ],
          [
           971,
           "Mediterraneo (1991)",
           34
          ],
          [
           972,
           "Passion Fish (1992)",
           28
          ],
          [
           973,
           "Grateful Dead (1995)",
           4
          ],
          [
           974,
           "Eye for an Eye (1996)",
           32
          ],
          [
           975,
           "Fear (1996)",
           44
          ],
          [
           976,
           "Solo (1996)",
           12
          ],
          [
           977,
           "Substitute, The (1996)",
           49
          ],
          [
           978,
           "Heaven's Prisoners (1996)",
           27
          ],
          [
           979,
           "Trigger Effect, The (1996)",
           35
          ],
          [
           980,
           "Mother Night (1996)",
           22
          ],
          [
           981,
           "Dangerous Ground (1997)",
           8
          ],
          [
           982,
           "Maximum Risk (1996)",
           20
          ],
          [
           983,
           "Rich Man's Wife, The (1996)",
           15
          ],
          [
           984,
           "Shadow Conspiracy (1997)",
           44
          ],
          [
           985,
           "Blood & Wine (1997)",
           22
          ],
          [
           986,
           "Turbulence (1997)",
           23
          ],
          [
           987,
           "Underworld (1997)",
           4
          ],
          [
           988,
           "Beautician and the Beast, The (1997)",
           86
          ],
          [
           989,
           "Cats Don't Dance (1997)",
           32
          ],
          [
           990,
           "Anna Karenina (1997)",
           33
          ],
          [
           991,
           "Keys to Tulsa (1997)",
           25
          ],
          [
           992,
           "Head Above Water (1996)",
           4
          ],
          [
           993,
           "Hercules (1997)",
           66
          ],
          [
           994,
           "Last Time I Committed Suicide, The (1997)",
           7
          ],
          [
           995,
           "Kiss Me, Guido (1997)",
           31
          ],
          [
           996,
           "Big Green, The (1995)",
           14
          ],
          [
           997,
           "Stuart Saves His Family (1995)",
           16
          ],
          [
           998,
           "Cabin Boy (1994)",
           16
          ],
          [
           999,
           "Clean Slate (1994)",
           10
          ],
          [
           1000,
           "Lightning Jack (1994)",
           10
          ],
          [
           1001,
           "Stupids, The (1996)",
           17
          ],
          [
           1002,
           "Pest, The (1997)",
           8
          ],
          [
           1003,
           "That Darn Cat! (1997)",
           8
          ],
          [
           1004,
           "Geronimo: An American Legend (1993)",
           9
          ],
          [
           1005,
           "Double vie de Véronique, La (Double Life of Veronique, The) (1991)",
           22
          ],
          [
           1006,
           "Until the End of the World (Bis ans Ende der Welt) (1991)",
           23
          ],
          [
           1007,
           "Waiting for Guffman (1996)",
           47
          ],
          [
           1008,
           "I Shot Andy Warhol (1996)",
           37
          ],
          [
           1009,
           "Stealing Beauty (1996)",
           64
          ],
          [
           1010,
           "Basquiat (1996)",
           44
          ],
          [
           1011,
           "2 Days in the Valley (1996)",
           93
          ],
          [
           1012,
           "Private Parts (1997)",
           100
          ],
          [
           1013,
           "Anaconda (1997)",
           38
          ],
          [
           1014,
           "Romy and Michele's High School Reunion (1997)",
           98
          ],
          [
           1015,
           "Shiloh (1997)",
           12
          ],
          [
           1016,
           "Con Air (1997)",
           137
          ],
          [
           1017,
           "Trees Lounge (1996)",
           50
          ],
          [
           1018,
           "Tie Me Up! Tie Me Down! (1990)",
           32
          ],
          [
           1019,
           "Die xue shuang xiong (Killer, The) (1989)",
           31
          ],
          [
           1020,
           "Gaslight (1944)",
           35
          ],
          [
           1021,
           "8 1/2 (1963)",
           38
          ],
          [
           1022,
           "Fast, Cheap & Out of Control (1997)",
           32
          ],
          [
           1023,
           "Fathers' Day (1997)",
           31
          ],
          [
           1024,
           "Mrs. Dalloway (1997)",
           15
          ],
          [
           1025,
           "Fire Down Below (1997)",
           44
          ],
          [
           1026,
           "Lay of the Land, The (1997)",
           4
          ],
          [
           1027,
           "Shooter, The (1995)",
           3
          ],
          [
           1028,
           "Grumpier Old Men (1995)",
           148
          ],
          [
           1029,
           "Jury Duty (1995)",
           14
          ],
          [
           1030,
           "Beverly Hillbillies, The (1993)",
           20
          ],
          [
           1031,
           "Lassie (1994)",
           7
          ],
          [
           1032,
           "Little Big League (1994)",
           16
          ],
          [
           1033,
           "Homeward Bound II: Lost in San Francisco (1996)",
           32
          ],
          [
           1034,
           "Quest, The (1996)",
           27
          ],
          [
           1035,
           "Cool Runnings (1993)",
           68
          ],
          [
           1036,
           "Drop Dead Fred (1991)",
           24
          ],
          [
           1037,
           "Grease 2 (1982)",
           24
          ],
          [
           1038,
           "Switchback (1997)",
           17
          ],
          [
           1039,
           "Hamlet (1996)",
           90
          ],
          [
           1040,
           "Two if by Sea (1996)",
           25
          ],
          [
           1041,
           "Forget Paris (1995)",
           62
          ],
          [
           1042,
           "Just Cause (1995)",
           28
          ],
          [
           1043,
           "Rent-a-Kid (1995)",
           8
          ],
          [
           1044,
           "Paper, The (1994)",
           40
          ],
          [
           1045,
           "Fearless (1993)",
           25
          ],
          [
           1046,
           "Malice (1993)",
           46
          ],
          [
           1047,
           "Multiplicity (1996)",
           134
          ],
          [
           1048,
           "She's the One (1996)",
           73
          ],
          [
           1049,
           "House Arrest (1996)",
           25
          ],
          [
           1050,
           "Ghost and Mrs. Muir, The (1947)",
           43
          ],
          [
           1051,
           "Associate, The (1996)",
           41
          ],
          [
           1052,
           "Dracula: Dead and Loving It (1995)",
           25
          ],
          [
           1053,
           "Now and Then (1995)",
           24
          ],
          [
           1054,
           "Mr. Wrong (1996)",
           23
          ],
          [
           1055,
           "Simple Twist of Fate, A (1994)",
           10
          ],
          [
           1056,
           "Cronos (1992)",
           10
          ],
          [
           1057,
           "Pallbearer, The (1996)",
           22
          ],
          [
           1058,
           "War, The (1994)",
           15
          ],
          [
           1059,
           "Don't Be a Menace to South Central While Drinking Your Juice in the Hood (1996)",
           35
          ],
          [
           1060,
           "Adventures of Pinocchio, The (1996)",
           39
          ],
          [
           1061,
           "Evening Star, The (1996)",
           29
          ],
          [
           1062,
           "Four Days in September (1997)",
           12
          ],
          [
           1063,
           "Little Princess, A (1995)",
           41
          ],
          [
           1064,
           "Crossfire (1947)",
           4
          ],
          [
           1065,
           "Koyaanisqatsi (1983)",
           53
          ],
          [
           1066,
           "Balto (1995)",
           16
          ],
          [
           1067,
           "Bottle Rocket (1996)",
           44
          ],
          [
           1068,
           "Star Maker, The (Uomo delle stelle, L') (1995)",
           12
          ],
          [
           1069,
           "Amateur (1994)",
           18
          ],
          [
           1070,
           "Living in Oblivion (1995)",
           27
          ],
          [
           1071,
           "Party Girl (1995)",
           16
          ],
          [
           1072,
           "Pyromaniac's Love Story, A (1995)",
           7
          ],
          [
           1073,
           "Shallow Grave (1994)",
           66
          ],
          [
           1074,
           "Reality Bites (1994)",
           77
          ],
          [
           1075,
           "Man of No Importance, A (1994)",
           7
          ],
          [
           1076,
           "Pagemaster, The (1994)",
           12
          ],
          [
           1077,
           "Love and a .45 (1994)",
           8
          ],
          [
           1078,
           "Oliver & Company (1988)",
           22
          ],
          [
           1079,
           "Joe's Apartment (1996)",
           45
          ],
          [
           1080,
           "Celestial Clockwork (1994)",
           2
          ],
          [
           1081,
           "Curdled (1996)",
           8
          ],
          [
           1082,
           "Female Perversions (1996)",
           8
          ],
          [
           1083,
           "Albino Alligator (1996)",
           6
          ],
          [
           1084,
           "Anne Frank Remembered (1995)",
           21
          ],
          [
           1085,
           "Carried Away (1996)",
           11
          ],
          [
           1086,
           "It's My Party (1995)",
           21
          ],
          [
           1087,
           "Bloodsport 2 (1995)",
           10
          ],
          [
           1088,
           "Double Team (1997)",
           13
          ],
          [
           1089,
           "Speed 2: Cruise Control (1997)",
           38
          ],
          [
           1090,
           "Sliver (1993)",
           37
          ],
          [
           1091,
           "Pete's Dragon (1977)",
           43
          ],
          [
           1092,
           "Dear God (1996)",
           12
          ],
          [
           1093,
           "Live Nude Girls (1995)",
           23
          ],
          [
           1094,
           "Thin Line Between Love and Hate, A (1996)",
           12
          ],
          [
           1095,
           "High School High (1996)",
           29
          ],
          [
           1096,
           "Commandments (1997)",
           3
          ],
          [
           1097,
           "Hate (Haine, La) (1995)",
           18
          ],
          [
           1098,
           "Flirting With Disaster (1996)",
           42
          ],
          [
           1099,
           "Red Firecracker, Green Firecracker (1994)",
           13
          ],
          [
           1100,
           "What Happened Was... (1994)",
           8
          ],
          [
           1101,
           "Six Degrees of Separation (1993)",
           74
          ],
          [
           1102,
           "Two Much (1996)",
           7
          ],
          [
           1103,
           "Trust (1990)",
           19
          ],
          [
           1104,
           "C'est arrivé près de chez vous (1992)",
           4
          ],
          [
           1105,
           "Firestorm (1998)",
           18
          ],
          [
           1106,
           "Newton Boys, The (1998)",
           4
          ],
          [
           1107,
           "Beyond Rangoon (1995)",
           18
          ],
          [
           1108,
           "Feast of July (1995)",
           5
          ],
          [
           1109,
           "Death and the Maiden (1994)",
           28
          ],
          [
           1110,
           "Tank Girl (1995)",
           41
          ],
          [
           1111,
           "Double Happiness (1994)",
           7
          ],
          [
           1112,
           "Cobb (1994)",
           15
          ],
          [
           1113,
           "Mrs. Parker and the Vicious Circle (1994)",
           22
          ],
          [
           1114,
           "Faithful (1996)",
           10
          ],
          [
           1115,
           "Twelfth Night (1996)",
           29
          ],
          [
           1116,
           "Mark of Zorro, The (1940)",
           13
          ],
          [
           1117,
           "Surviving Picasso (1996)",
           19
          ],
          [
           1118,
           "Up in Smoke (1978)",
           47
          ],
          [
           1119,
           "Some Kind of Wonderful (1987)",
           59
          ],
          [
           1120,
           "I'm Not Rappaport (1996)",
           17
          ],
          [
           1121,
           "Umbrellas of Cherbourg, The (Parapluies de Cherbourg, Les) (1964)",
           21
          ],
          [
           1122,
           "They Made Me a Criminal (1939)",
           1
          ],
          [
           1123,
           "Last Time I Saw Paris, The (1954)",
           3
          ],
          [
           1124,
           "Farewell to Arms, A (1932)",
           12
          ],
          [
           1125,
           "Innocents, The (1961)",
           4
          ],
          [
           1126,
           "Old Man and the Sea, The (1958)",
           32
          ],
          [
           1127,
           "Truman Show, The (1998)",
           11
          ],
          [
           1128,
           "Heidi Fleiss: Hollywood Madam (1995) ",
           13
          ],
          [
           1129,
           "Chungking Express (1994)",
           28
          ],
          [
           1130,
           "Jupiter's Wife (1994)",
           1
          ],
          [
           1131,
           "Safe (1995)",
           13
          ],
          [
           1132,
           "Feeling Minnesota (1996)",
           32
          ],
          [
           1133,
           "Escape to Witch Mountain (1975)",
           30
          ],
          [
           1134,
           "Get on the Bus (1996)",
           38
          ],
          [
           1135,
           "Doors, The (1991)",
           46
          ],
          [
           1136,
           "Ghosts of Mississippi (1996)",
           29
          ],
          [
           1137,
           "Beautiful Thing (1996)",
           29
          ],
          [
           1138,
           "Best Men (1997)",
           5
          ],
          [
           1139,
           "Hackers (1995)",
           33
          ],
          [
           1140,
           "Road to Wellville, The (1994)",
           17
          ],
          [
           1141,
           "War Room, The (1993)",
           9
          ],
          [
           1142,
           "When We Were Kings (1996)",
           44
          ],
          [
           1143,
           "Hard Eight (1996)",
           15
          ],
          [
           1144,
           "Quiet Room, The (1996)",
           3
          ],
          [
           1145,
           "Blue Chips (1994)",
           9
          ],
          [
           1146,
           "Calendar Girl (1993)",
           3
          ],
          [
           1147,
           "My Family (1995)",
           21
          ],
          [
           1148,
           "Tom & Viv (1994)",
           9
          ],
          [
           1149,
           "Walkabout (1971)",
           26
          ],
          [
           1150,
           "Last Dance (1996)",
           9
          ],
          [
           1151,
           "Original Gangstas (1996)",
           7
          ],
          [
           1152,
           "In Love and War (1996)",
           28
          ],
          [
           1153,
           "Backbeat (1993)",
           19
          ],
          [
           1154,
           "Alphaville (1965)",
           12
          ],
          [
           1155,
           "Rendezvous in Paris (Rendez-vous de Paris, Les) (1995)",
           3
          ],
          [
           1156,
           "Cyclo (1995)",
           1
          ],
          [
           1157,
           "Relic, The (1997)",
           25
          ],
          [
           1158,
           "Fille seule, La (A Single Girl) (1995)",
           4
          ],
          [
           1159,
           "Stalker (1979)",
           11
          ],
          [
           1160,
           "Love! Valour! Compassion! (1997)",
           26
          ],
          [
           1161,
           "Palookaville (1996)",
           13
          ],
          [
           1162,
           "Phat Beach (1996)",
           5
          ],
          [
           1163,
           "Portrait of a Lady, The (1996)",
           25
          ],
          [
           1164,
           "Zeus and Roxanne (1997)",
           6
          ],
          [
           1165,
           "Big Bully (1996)",
           14
          ],
          [
           1166,
           "Love & Human Remains (1993)",
           12
          ],
          [
           1167,
           "Sum of Us, The (1994)",
           11
          ],
          [
           1168,
           "Little Buddha (1993)",
           22
          ],
          [
           1169,
           "Fresh (1994)",
           10
          ],
          [
           1170,
           "Spanking the Monkey (1994)",
           27
          ],
          [
           1171,
           "Wild Reeds (1994)",
           14
          ],
          [
           1172,
           "Women, The (1939)",
           15
          ],
          [
           1173,
           "Bliss (1997)",
           7
          ],
          [
           1174,
           "Caught (1996)",
           8
          ],
          [
           1175,
           "Hugo Pool (1997)",
           5
          ],
          [
           1176,
           "Welcome To Sarajevo (1997)",
           22
          ],
          [
           1177,
           "Dunston Checks In (1996)",
           7
          ],
          [
           1178,
           "Major Payne (1994)",
           19
          ],
          [
           1179,
           "Man of the House (1995)",
           9
          ],
          [
           1180,
           "I Love Trouble (1994)",
           10
          ],
          [
           1181,
           "Low Down Dirty Shame, A (1994)",
           10
          ],
          [
           1182,
           "Cops and Robbersons (1994)",
           13
          ],
          [
           1183,
           "Cowboy Way, The (1994)",
           19
          ],
          [
           1184,
           "Endless Summer 2, The (1994)",
           10
          ],
          [
           1185,
           "In the Army Now (1994)",
           18
          ],
          [
           1186,
           "Inkwell, The (1994)",
           3
          ],
          [
           1187,
           "Switchblade Sisters (1975)",
           13
          ],
          [
           1188,
           "Young Guns II (1990)",
           44
          ],
          [
           1189,
           "Prefontaine (1997)",
           3
          ],
          [
           1190,
           "That Old Feeling (1997)",
           11
          ],
          [
           1191,
           "Letter From Death Row, A (1998)",
           3
          ],
          [
           1192,
           "Boys of St. Vincent, The (1993)",
           13
          ],
          [
           1193,
           "Before the Rain (Pred dozhdot) (1994)",
           10
          ],
          [
           1194,
           "Once Were Warriors (1994)",
           31
          ],
          [
           1195,
           "Strawberry and Chocolate (Fresa y chocolate) (1993)",
           11
          ],
          [
           1196,
           "Savage Nights (Nuits fauves, Les) (1992)",
           3
          ],
          [
           1197,
           "Family Thing, A (1996)",
           45
          ],
          [
           1198,
           "Purple Noon (1960)",
           7
          ],
          [
           1199,
           "Cemetery Man (Dellamorte Dellamore) (1994)",
           23
          ],
          [
           1200,
           "Kim (1950)",
           7
          ],
          [
           1201,
           "Marlene Dietrich: Shadow and Light (1996) ",
           1
          ],
          [
           1202,
           "Maybe, Maybe Not (Bewegte Mann, Der) (1994)",
           8
          ],
          [
           1203,
           "Top Hat (1935)",
           21
          ],
          [
           1204,
           "To Be or Not to Be (1942)",
           18
          ],
          [
           1205,
           "Secret Agent, The (1996)",
           6
          ],
          [
           1206,
           "Amos & Andrew (1993)",
           19
          ],
          [
           1207,
           "Jade (1995)",
           17
          ],
          [
           1208,
           "Kiss of Death (1995)",
           20
          ],
          [
           1209,
           "Mixed Nuts (1994)",
           15
          ],
          [
           1210,
           "Virtuosity (1995)",
           38
          ],
          [
           1211,
           "Blue Sky (1994)",
           12
          ],
          [
           1212,
           "Flesh and Bone (1993)",
           6
          ],
          [
           1213,
           "Guilty as Sin (1993)",
           6
          ],
          [
           1214,
           "In the Realm of the Senses (Ai no corrida) (1976)",
           9
          ],
          [
           1215,
           "Barb Wire (1996)",
           30
          ],
          [
           1216,
           "Kissed (1996)",
           6
          ],
          [
           1217,
           "Assassins (1995)",
           39
          ],
          [
           1218,
           "Friday (1995)",
           26
          ],
          [
           1219,
           "Goofy Movie, A (1995)",
           20
          ],
          [
           1220,
           "Higher Learning (1995)",
           30
          ],
          [
           1221,
           "When a Man Loves a Woman (1994)",
           39
          ],
          [
           1222,
           "Judgment Night (1993)",
           25
          ],
          [
           1223,
           "King of the Hill (1993)",
           4
          ],
          [
           1224,
           "Scout, The (1994)",
           12
          ],
          [
           1225,
           "Angus (1995)",
           14
          ],
          [
           1226,
           "Night Falls on Manhattan (1997)",
           32
          ],
          [
           1227,
           "Awfully Big Adventure, An (1995)",
           8
          ],
          [
           1228,
           "Under Siege 2: Dark Territory (1995)",
           48
          ],
          [
           1229,
           "Poison Ivy II (1995)",
           13
          ],
          [
           1230,
           "Ready to Wear (Pret-A-Porter) (1994)",
           18
          ],
          [
           1231,
           "Marked for Death (1990)",
           22
          ],
          [
           1232,
           "Madonna: Truth or Dare (1991)",
           17
          ],
          [
           1233,
           "Nénette et Boni (1996)",
           6
          ],
          [
           1234,
           "Chairman of the Board (1998)",
           8
          ],
          [
           1235,
           "Big Bang Theory, The (1994)",
           1
          ],
          [
           1236,
           "Other Voices, Other Rooms (1997)",
           1
          ],
          [
           1237,
           "Twisted (1996)",
           6
          ],
          [
           1238,
           "Full Speed (1996)",
           8
          ],
          [
           1239,
           "Cutthroat Island (1995)",
           18
          ],
          [
           1240,
           "Ghost in the Shell (Kokaku kidotai) (1995)",
           26
          ],
          [
           1241,
           "Van, The (1996)",
           6
          ],
          [
           1242,
           "Old Lady Who Walked in the Sea, The (Vieille qui marchait dans la mer, La) (1991)",
           5
          ],
          [
           1243,
           "Night Flier (1997)",
           7
          ],
          [
           1244,
           "Metro (1997)",
           36
          ],
          [
           1245,
           "Gridlock'd (1997)",
           19
          ],
          [
           1246,
           "Bushwhacked (1995)",
           7
          ],
          [
           1247,
           "Bad Girls (1994)",
           6
          ],
          [
           1248,
           "Blink (1994)",
           19
          ],
          [
           1249,
           "For Love or Money (1993)",
           12
          ],
          [
           1250,
           "Best of the Best 3: No Turning Back (1995)",
           6
          ],
          [
           1251,
           "A Chef in Love (1996)",
           8
          ],
          [
           1252,
           "Contempt (Mépris, Le) (1963)",
           9
          ],
          [
           1253,
           "Tie That Binds, The (1995)",
           7
          ],
          [
           1254,
           "Gone Fishin' (1997)",
           11
          ],
          [
           1255,
           "Broken English (1996)",
           8
          ],
          [
           1256,
           "Designated Mourner, The (1997)",
           3
          ],
          [
           1257,
           "Designated Mourner, The (1997)",
           4
          ],
          [
           1258,
           "Trial and Error (1997)",
           23
          ],
          [
           1259,
           "Pie in the Sky (1995)",
           4
          ],
          [
           1260,
           "Total Eclipse (1995)",
           4
          ],
          [
           1261,
           "Run of the Country, The (1995)",
           4
          ],
          [
           1262,
           "Walking and Talking (1996)",
           8
          ],
          [
           1263,
           "Foxfire (1996)",
           15
          ],
          [
           1264,
           "Nothing to Lose (1994)",
           7
          ],
          [
           1265,
           "Star Maps (1997)",
           19
          ],
          [
           1266,
           "Bread and Chocolate (Pane e cioccolata) (1973)",
           12
          ],
          [
           1267,
           "Clockers (1995)",
           33
          ],
          [
           1268,
           "Bitter Moon (1992)",
           10
          ],
          [
           1269,
           "Love in the Afternoon (1957)",
           10
          ],
          [
           1270,
           "Life with Mikey (1993)",
           7
          ],
          [
           1271,
           "North (1994)",
           7
          ],
          [
           1272,
           "Talking About Sex (1994)",
           5
          ],
          [
           1273,
           "Color of Night (1994)",
           15
          ],
          [
           1274,
           "Robocop 3 (1993)",
           11
          ],
          [
           1275,
           "Killer (Bulletproof Heart) (1994)",
           4
          ],
          [
           1276,
           "Sunset Park (1996)",
           8
          ],
          [
           1277,
           "Set It Off (1996)",
           19
          ],
          [
           1278,
           "Selena (1997)",
           16
          ],
          [
           1279,
           "Wild America (1997)",
           9
          ],
          [
           1280,
           "Gang Related (1997)",
           16
          ],
          [
           1281,
           "Manny & Lo (1996)",
           13
          ],
          [
           1282,
           "Grass Harp, The (1995)",
           9
          ],
          [
           1283,
           "Out to Sea (1997)",
           19
          ],
          [
           1284,
           "Before and After (1996)",
           26
          ],
          [
           1285,
           "Princess Caraboo (1994)",
           15
          ],
          [
           1286,
           "Shall We Dance? (1937)",
           17
          ],
          [
           1287,
           "Ed (1996)",
           6
          ],
          [
           1288,
           "Denise Calls Up (1995)",
           7
          ],
          [
           1289,
           "Jack and Sarah (1995)",
           7
          ],
          [
           1290,
           "Country Life (1994)",
           2
          ],
          [
           1291,
           "Celtic Pride (1996)",
           15
          ],
          [
           1292,
           "Simple Wish, A (1997)",
           3
          ],
          [
           1293,
           "Star Kid (1997)",
           3
          ],
          [
           1294,
           "Ayn Rand: A Sense of Life (1997)",
           7
          ],
          [
           1295,
           "Kicked in the Head (1997)",
           7
          ],
          [
           1296,
           "Indian Summer (1996)",
           20
          ],
          [
           1297,
           "Love Affair (1994)",
           12
          ],
          [
           1298,
           "Band Wagon, The (1953)",
           9
          ],
          [
           1299,
           "Penny Serenade (1941)",
           8
          ],
          [
           1300,
           "'Til There Was You (1997)",
           9
          ],
          [
           1301,
           "Stripes (1981)",
           5
          ],
          [
           1302,
           "Late Bloomers (1996)",
           5
          ],
          [
           1303,
           "Getaway, The (1994)",
           18
          ],
          [
           1304,
           "New York Cop (1996)",
           2
          ],
          [
           1305,
           "National Lampoon's Senior Trip (1995)",
           7
          ],
          [
           1306,
           "Delta of Venus (1994)",
           2
          ],
          [
           1307,
           "Carmen Miranda: Bananas Is My Business (1994)",
           2
          ],
          [
           1308,
           "Babyfever (1994)",
           2
          ],
          [
           1309,
           "Very Natural Thing, A (1974)",
           1
          ],
          [
           1310,
           "Walk in the Sun, A (1945)",
           1
          ],
          [
           1311,
           "Waiting to Exhale (1995)",
           16
          ],
          [
           1312,
           "Pompatus of Love, The (1996)",
           7
          ],
          [
           1313,
           "Palmetto (1998)",
           14
          ],
          [
           1314,
           "Surviving the Game (1994)",
           11
          ],
          [
           1315,
           "Inventing the Abbotts (1997)",
           23
          ],
          [
           1316,
           "Horse Whisperer, The (1998)",
           7
          ],
          [
           1317,
           "Journey of August King, The (1995)",
           4
          ],
          [
           1318,
           "Catwalk (1995)",
           3
          ],
          [
           1319,
           "Neon Bible, The (1995)",
           4
          ],
          [
           1320,
           "Homage (1995)",
           1
          ],
          [
           1321,
           "Open Season (1996)",
           2
          ],
          [
           1322,
           "Metisse (Café au Lait) (1993)",
           6
          ],
          [
           1323,
           "Wooden Man's Bride, The (Wu Kui) (1994)",
           3
          ],
          [
           1324,
           "Loaded (1994)",
           5
          ],
          [
           1325,
           "August (1996)",
           1
          ],
          [
           1326,
           "Boys (1996)",
           6
          ],
          [
           1327,
           "Captives (1994)",
           3
          ],
          [
           1328,
           "Of Love and Shadows (1994)",
           6
          ],
          [
           1329,
           "Low Life, The (1994)",
           1
          ],
          [
           1330,
           "An Unforgettable Summer (1994)",
           4
          ],
          [
           1331,
           "Last Klezmer: Leopold Kozlowski, His Life and Music, The (1995)",
           4
          ],
          [
           1332,
           "My Life and Times With Antonin Artaud (En compagnie d'Antonin Artaud) (1993)",
           2
          ],
          [
           1333,
           "Midnight Dancers (Sibak) (1994)",
           5
          ],
          [
           1334,
           "Somebody to Love (1994)",
           2
          ],
          [
           1335,
           "American Buffalo (1996)",
           11
          ],
          [
           1336,
           "Kazaam (1996)",
           10
          ],
          [
           1337,
           "Larger Than Life (1996)",
           9
          ],
          [
           1338,
           "Two Deaths (1995)",
           4
          ],
          [
           1339,
           "Stefano Quantestorie (1993)",
           1
          ],
          [
           1340,
           "Crude Oasis, The (1995)",
           1
          ],
          [
           1341,
           "Hedd Wyn (1992)",
           1
          ],
          [
           1342,
           "Convent, The (Convento, O) (1995)",
           2
          ],
          [
           1343,
           "Lotto Land (1995)",
           1
          ],
          [
           1344,
           "Story of Xinghua, The (1993)",
           5
          ],
          [
           1345,
           "Day the Sun Turned Cold, The (Tianguo niezi) (1994)",
           2
          ],
          [
           1346,
           "Dingo (1992)",
           5
          ],
          [
           1347,
           "Ballad of Narayama, The (Narayama Bushiko) (1958)",
           4
          ],
          [
           1348,
           "Every Other Weekend (1990)",
           1
          ],
          [
           1349,
           "Mille bolle blu (1993)",
           1
          ],
          [
           1350,
           "Crows and Sparrows (1949)",
           2
          ],
          [
           1351,
           "Lover's Knot (1996)",
           3
          ],
          [
           1352,
           "Shadow of Angels (Schatten der Engel) (1976)",
           1
          ],
          [
           1353,
           "1-900 (1994)",
           5
          ],
          [
           1354,
           "Venice/Venice (1992)",
           2
          ],
          [
           1355,
           "Infinity (1996)",
           6
          ],
          [
           1356,
           "Ed's Next Move (1996)",
           3
          ],
          [
           1357,
           "For the Moment (1994)",
           3
          ],
          [
           1358,
           "The Deadly Cure (1996)",
           2
          ],
          [
           1359,
           "Boys in Venice (1996)",
           2
          ],
          [
           1360,
           "Sexual Life of the Belgians, The (1994)",
           2
          ],
          [
           1361,
           "Search for One-eye Jimmy, The (1996)",
           3
          ],
          [
           1362,
           "American Strays (1996)",
           2
          ],
          [
           1363,
           "Leopard Son, The (1996)",
           1
          ],
          [
           1364,
           "Bird of Prey (1996)",
           1
          ],
          [
           1365,
           "Johnny 100 Pesos (1993)",
           2
          ],
          [
           1366,
           "JLG/JLG - autoportrait de décembre (1994)",
           1
          ],
          [
           1367,
           "Faust (1994)",
           5
          ],
          [
           1368,
           "Mina Tannenbaum (1994)",
           6
          ],
          [
           1369,
           "Forbidden Christ, The (Cristo proibito, Il) (1950)",
           4
          ],
          [
           1370,
           "I Can't Sleep (J'ai pas sommeil) (1994)",
           3
          ],
          [
           1371,
           "Machine, The (1994)",
           2
          ],
          [
           1372,
           "Stranger, The (1994)",
           3
          ],
          [
           1373,
           "Good Morning (1971)",
           1
          ],
          [
           1374,
           "Falling in Love Again (1980)",
           2
          ],
          [
           1375,
           "Cement Garden, The (1993)",
           10
          ],
          [
           1376,
           "Meet Wally Sparks (1997)",
           7
          ],
          [
           1377,
           "Hotel de Love (1996)",
           4
          ],
          [
           1378,
           "Rhyme & Reason (1997)",
           5
          ],
          [
           1379,
           "Love and Other Catastrophes (1996)",
           7
          ],
          [
           1380,
           "Hollow Reed (1996)",
           6
          ],
          [
           1381,
           "Losing Chase (1996)",
           8
          ],
          [
           1382,
           "Bonheur, Le (1965)",
           4
          ],
          [
           1383,
           "Second Jungle Book: Mowgli & Baloo, The (1997)",
           6
          ],
          [
           1384,
           "Squeeze (1996)",
           3
          ],
          [
           1385,
           "Roseanna's Grave (For Roseanna) (1997)",
           5
          ],
          [
           1386,
           "Tetsuo II: Body Hammer (1992)",
           6
          ],
          [
           1387,
           "Fall (1997)",
           3
          ],
          [
           1388,
           "Gabbeh (1996)",
           6
          ],
          [
           1389,
           "Mondo (1996)",
           3
          ],
          [
           1390,
           "Innocent Sleep, The (1995)",
           2
          ],
          [
           1391,
           "For Ever Mozart (1996)",
           3
          ],
          [
           1392,
           "Locusts, The (1997)",
           5
          ],
          [
           1393,
           "Stag (1997)",
           9
          ],
          [
           1394,
           "Swept from the Sea (1997)",
           7
          ],
          [
           1395,
           "Hurricane Streets (1998)",
           6
          ],
          [
           1396,
           "Stonewall (1995)",
           5
          ],
          [
           1397,
           "Of Human Bondage (1934)",
           5
          ],
          [
           1398,
           "Anna (1996)",
           2
          ],
          [
           1399,
           "Stranger in the House (1997)",
           7
          ],
          [
           1400,
           "Picture Bride (1995)",
           10
          ],
          [
           1401,
           "M. Butterfly (1993)",
           18
          ],
          [
           1402,
           "Ciao, Professore! (1993)",
           4
          ],
          [
           1403,
           "Caro Diario (Dear Diary) (1994)",
           4
          ],
          [
           1404,
           "Withnail and I (1987)",
           13
          ],
          [
           1405,
           "Boy's Life 2 (1997)",
           6
          ],
          [
           1406,
           "When Night Is Falling (1995)",
           5
          ],
          [
           1407,
           "Specialist, The (1994)",
           20
          ],
          [
           1408,
           "Gordy (1995)",
           3
          ],
          [
           1409,
           "Swan Princess, The (1994)",
           7
          ],
          [
           1410,
           "Harlem (1993)",
           4
          ],
          [
           1411,
           "Barbarella (1968)",
           28
          ],
          [
           1412,
           "Land Before Time III: The Time of the Great Giving (1995) (V)",
           6
          ],
          [
           1413,
           "Street Fighter (1994)",
           8
          ],
          [
           1414,
           "Coldblooded (1995)",
           1
          ],
          [
           1415,
           "Next Karate Kid, The (1994)",
           9
          ],
          [
           1416,
           "No Escape (1994)",
           5
          ],
          [
           1417,
           "Turning, The (1992)",
           2
          ],
          [
           1418,
           "Joy Luck Club, The (1993)",
           3
          ],
          [
           1419,
           "Highlander III: The Sorcerer (1994)",
           16
          ],
          [
           1420,
           "Gilligan's Island: The Movie (1998)",
           3
          ],
          [
           1421,
           "My Crazy Life (Mi vida loca) (1993)",
           11
          ],
          [
           1422,
           "Suture (1993)",
           4
          ],
          [
           1423,
           "Walking Dead, The (1995)",
           4
          ],
          [
           1424,
           "I Like It Like That (1994)",
           3
          ],
          [
           1425,
           "I'll Do Anything (1994)",
           10
          ],
          [
           1426,
           "Grace of My Heart (1996)",
           8
          ],
          [
           1427,
           "Drunks (1995)",
           5
          ],
          [
           1428,
           "SubUrbia (1997)",
           12
          ],
          [
           1429,
           "Sliding Doors (1998)",
           4
          ],
          [
           1430,
           "Ill Gotten Gains (1997)",
           3
          ],
          [
           1431,
           "Legal Deceit (1997)",
           5
          ],
          [
           1432,
           "Mighty, The (1998)",
           3
          ],
          [
           1433,
           "Men of Means (1998)",
           2
          ],
          [
           1434,
           "Shooting Fish (1997)",
           10
          ],
          [
           1435,
           "Steal Big, Steal Little (1995)",
           7
          ],
          [
           1436,
           "Mr. Jones (1993)",
           2
          ],
          [
           1437,
           "House Party 3 (1994)",
           9
          ],
          [
           1438,
           "Panther (1995)",
           5
          ],
          [
           1439,
           "Jason's Lyric (1994)",
           8
          ],
          [
           1440,
           "Above the Rim (1994)",
           5
          ],
          [
           1441,
           "Moonlight and Valentino (1995)",
           7
          ],
          [
           1442,
           "Scarlet Letter, The (1995)",
           5
          ],
          [
           1443,
           "8 Seconds (1994)",
           4
          ],
          [
           1444,
           "That Darn Cat! (1965)",
           19
          ],
          [
           1445,
           "Ladybird Ladybird (1994)",
           4
          ],
          [
           1446,
           "Bye Bye, Love (1995)",
           15
          ],
          [
           1447,
           "Century (1993)",
           1
          ],
          [
           1448,
           "My Favorite Season (1993)",
           3
          ],
          [
           1449,
           "Pather Panchali (1955)",
           8
          ],
          [
           1450,
           "Golden Earrings (1947)",
           2
          ],
          [
           1451,
           "Foreign Correspondent (1940)",
           15
          ],
          [
           1452,
           "Lady of Burlesque (1943)",
           1
          ],
          [
           1453,
           "Angel on My Shoulder (1946)",
           1
          ],
          [
           1454,
           "Angel and the Badman (1947)",
           6
          ],
          [
           1455,
           "Outlaw, The (1943)",
           2
          ],
          [
           1456,
           "Beat the Devil (1954)",
           7
          ],
          [
           1457,
           "Love Is All There Is (1996)",
           1
          ],
          [
           1458,
           "Damsel in Distress, A (1937)",
           1
          ],
          [
           1459,
           "Madame Butterfly (1995)",
           7
          ],
          [
           1460,
           "Sleepover (1995)",
           1
          ],
          [
           1461,
           "Here Comes Cookie (1935)",
           1
          ],
          [
           1462,
           "Thieves (Voleurs, Les) (1996)",
           7
          ],
          [
           1463,
           "Boys, Les (1997)",
           3
          ],
          [
           1464,
           "Stars Fell on Henrietta, The (1995)",
           3
          ],
          [
           1465,
           "Last Summer in the Hamptons (1995)",
           3
          ],
          [
           1466,
           "Margaret's Museum (1995)",
           6
          ],
          [
           1467,
           "Saint of Fort Washington, The (1993)",
           2
          ],
          [
           1468,
           "Cure, The (1995)",
           6
          ],
          [
           1469,
           "Tom and Huck (1995)",
           12
          ],
          [
           1470,
           "Gumby: The Movie (1995)",
           5
          ],
          [
           1471,
           "Hideaway (1995)",
           9
          ],
          [
           1472,
           "Visitors, The (Visiteurs, Les) (1993)",
           2
          ],
          [
           1473,
           "Little Princess, The (1939)",
           9
          ],
          [
           1474,
           "Nina Takes a Lover (1994)",
           6
          ],
          [
           1475,
           "Bhaji on the Beach (1993)",
           8
          ],
          [
           1476,
           "Raw Deal (1948)",
           1
          ],
          [
           1477,
           "Nightwatch (1997)",
           2
          ],
          [
           1478,
           "Dead Presidents (1995)",
           18
          ],
          [
           1479,
           "Reckless (1995)",
           8
          ],
          [
           1480,
           "Herbie Rides Again (1974)",
           11
          ],
          [
           1481,
           "S.F.W. (1994)",
           2
          ],
          [
           1482,
           "Gate of Heavenly Peace, The (1995)",
           1
          ],
          [
           1483,
           "Man in the Iron Mask, The (1998)",
           12
          ],
          [
           1484,
           "Jerky Boys, The (1994)",
           3
          ],
          [
           1485,
           "Colonel Chabert, Le (1994)",
           4
          ],
          [
           1486,
           "Girl in the Cadillac (1995)",
           1
          ],
          [
           1487,
           "Even Cowgirls Get the Blues (1993)",
           5
          ],
          [
           1488,
           "Germinal (1993)",
           4
          ],
          [
           1489,
           "Chasers (1994)",
           5
          ],
          [
           1490,
           "Fausto (1993)",
           3
          ],
          [
           1491,
           "Tough and Deadly (1995)",
           2
          ],
          [
           1492,
           "Window to Paris (1994)",
           1
          ],
          [
           1493,
           "Modern Affair, A (1995)",
           1
          ],
          [
           1494,
           "Mostro, Il (1994)",
           1
          ],
          [
           1495,
           "Flirt (1995)",
           5
          ],
          [
           1496,
           "Carpool (1996)",
           5
          ],
          [
           1497,
           "Line King: Al Hirschfeld, The (1996)",
           2
          ],
          [
           1498,
           "Farmer & Chase (1995)",
           1
          ],
          [
           1499,
           "Grosse Fatigue (1994)",
           4
          ],
          [
           1500,
           "Santa with Muscles (1996)",
           2
          ],
          [
           1501,
           "Prisoner of the Mountains (Kavkazsky Plennik) (1996)",
           5
          ],
          [
           1502,
           "Naked in New York (1994)",
           2
          ],
          [
           1503,
           "Gold Diggers: The Secret of Bear Mountain (1995)",
           10
          ],
          [
           1504,
           "Bewegte Mann, Der (1994)",
           3
          ],
          [
           1505,
           "Killer: A Journal of Murder (1995)",
           1
          ],
          [
           1506,
           "Nelly & Monsieur Arnaud (1995)",
           3
          ],
          [
           1507,
           "Three Lives and Only One Death (1996)",
           1
          ],
          [
           1508,
           "Babysitter, The (1995)",
           3
          ],
          [
           1509,
           "Getting Even with Dad (1994)",
           5
          ],
          [
           1510,
           "Mad Dog Time (1996)",
           1
          ],
          [
           1511,
           "Children of the Revolution (1996)",
           5
          ],
          [
           1512,
           "World of Apu, The (Apur Sansar) (1959)",
           6
          ],
          [
           1513,
           "Sprung (1997)",
           3
          ],
          [
           1514,
           "Dream With the Fishes (1997)",
           7
          ],
          [
           1515,
           "Wings of Courage (1995)",
           1
          ],
          [
           1516,
           "Wedding Gift, The (1994)",
           3
          ],
          [
           1517,
           "Race the Sun (1996)",
           5
          ],
          [
           1518,
           "Losing Isaiah (1995)",
           12
          ],
          [
           1519,
           "New Jersey Drive (1995)",
           2
          ],
          [
           1520,
           "Fear, The (1995)",
           1
          ],
          [
           1521,
           "Mr. Wonderful (1993)",
           4
          ],
          [
           1522,
           "Trial by Jury (1994)",
           7
          ],
          [
           1523,
           "Good Man in Africa, A (1994)",
           2
          ],
          [
           1524,
           "Kaspar Hauser (1993)",
           8
          ],
          [
           1525,
           "Object of My Affection, The (1998)",
           1
          ],
          [
           1526,
           "Witness (1985)",
           1
          ],
          [
           1527,
           "Senseless (1998)",
           7
          ],
          [
           1528,
           "Nowhere (1997)",
           3
          ],
          [
           1529,
           "Underground (1995)",
           5
          ],
          [
           1530,
           "Jefferson in Paris (1995)",
           5
          ],
          [
           1531,
           "Far From Home: The Adventures of Yellow Dog (1995)",
           7
          ],
          [
           1532,
           "Foreign Student (1994)",
           2
          ],
          [
           1533,
           "I Don't Want to Talk About It (De eso no se habla) (1993)",
           1
          ],
          [
           1534,
           "Twin Town (1997)",
           6
          ],
          [
           1535,
           "Enfer, L' (1994)",
           4
          ],
          [
           1536,
           "Aiqing wansui (1994)",
           1
          ],
          [
           1537,
           "Cosi (1996)",
           4
          ],
          [
           1538,
           "All Over Me (1997)",
           3
          ],
          [
           1539,
           "Being Human (1993)",
           4
          ],
          [
           1540,
           "Amazing Panda Adventure, The (1995)",
           10
          ],
          [
           1541,
           "Beans of Egypt, Maine, The (1994)",
           2
          ],
          [
           1542,
           "Scarlet Letter, The (1926)",
           2
          ],
          [
           1543,
           "Johns (1996)",
           1
          ],
          [
           1544,
           "It Takes Two (1995)",
           3
          ],
          [
           1545,
           "Frankie Starlight (1995)",
           4
          ],
          [
           1546,
           "Shadows (Cienie) (1988)",
           1
          ],
          [
           1547,
           "Show, The (1995)",
           2
          ],
          [
           1548,
           "The Courtyard (1995)",
           1
          ],
          [
           1549,
           "Dream Man (1995)",
           2
          ],
          [
           1550,
           "Destiny Turns on the Radio (1995)",
           2
          ],
          [
           1551,
           "Glass Shield, The (1994)",
           2
          ],
          [
           1552,
           "Hunted, The (1995)",
           3
          ],
          [
           1553,
           "Underneath, The (1995)",
           4
          ],
          [
           1554,
           "Safe Passage (1994)",
           2
          ],
          [
           1555,
           "Secret Adventures of Tom Thumb, The (1993)",
           5
          ],
          [
           1556,
           "Condition Red (1995)",
           2
          ],
          [
           1557,
           "Yankee Zulu (1994)",
           1
          ],
          [
           1558,
           "Aparajito (1956)",
           7
          ],
          [
           1559,
           "Hostile Intentions (1994)",
           1
          ],
          [
           1560,
           "Clean Slate (Coup de Torchon) (1981)",
           4
          ],
          [
           1561,
           "Tigrero: A Film That Was Never Made (1994)",
           1
          ],
          [
           1562,
           "Eye of Vichy, The (Oeil de Vichy, L') (1993)",
           1
          ],
          [
           1563,
           "Promise, The (Versprechen, Das) (1994)",
           1
          ],
          [
           1564,
           "To Cross the Rubicon (1991)",
           1
          ],
          [
           1565,
           "Daens (1992)",
           1
          ],
          [
           1566,
           "Man from Down Under, The (1943)",
           1
          ],
          [
           1567,
           "Careful (1992)",
           1
          ],
          [
           1568,
           "Vermont Is For Lovers (1992)",
           1
          ],
          [
           1569,
           "Vie est belle, La (Life is Rosey) (1987)",
           1
          ],
          [
           1570,
           "Quartier Mozart (1992)",
           1
          ],
          [
           1571,
           "Touki Bouki (Journey of the Hyena) (1973)",
           1
          ],
          [
           1572,
           "Wend Kuuni (God's Gift) (1982)",
           1
          ],
          [
           1573,
           "Spirits of the Dead (Tre passi nel delirio) (1968)",
           2
          ],
          [
           1574,
           "Pharaoh's Army (1995)",
           1
          ],
          [
           1575,
           "I, Worst of All (Yo, la peor de todas) (1990)",
           1
          ],
          [
           1576,
           "Hungarian Fairy Tale, A (1987)",
           1
          ],
          [
           1577,
           "Death in the Garden (Mort en ce jardin, La) (1956)",
           1
          ],
          [
           1578,
           "Collectionneuse, La (1967)",
           2
          ],
          [
           1579,
           "Baton Rouge (1988)",
           1
          ],
          [
           1580,
           "Liebelei (1933)",
           1
          ],
          [
           1581,
           "Woman in Question, The (1950)",
           1
          ],
          [
           1582,
           "T-Men (1947)",
           1
          ],
          [
           1583,
           "Invitation, The (Zaproszenie) (1986)",
           1
          ],
          [
           1584,
           "Symphonie pastorale, La (1946)",
           1
          ],
          [
           1585,
           "American Dream (1990)",
           2
          ],
          [
           1586,
           "Lashou shentan (1992)",
           1
          ],
          [
           1587,
           "Terror in a Texas Town (1958)",
           1
          ],
          [
           1588,
           "Salut cousin! (1996)",
           2
          ],
          [
           1589,
           "Schizopolis (1996)",
           4
          ],
          [
           1590,
           "To Have, or Not (1995)",
           2
          ],
          [
           1591,
           "Duoluo tianshi (1995)",
           6
          ],
          [
           1592,
           "Magic Hour, The (1998)",
           5
          ],
          [
           1593,
           "Death in Brunswick (1991)",
           1
          ],
          [
           1594,
           "Everest (1998)",
           2
          ],
          [
           1595,
           "Shopping (1994)",
           1
          ],
          [
           1596,
           "Nemesis 2: Nebula (1995)",
           1
          ],
          [
           1597,
           "Romper Stomper (1992)",
           5
          ],
          [
           1598,
           "City of Industry (1997)",
           6
          ],
          [
           1599,
           "Someone Else's America (1995)",
           1
          ],
          [
           1600,
           "Guantanamera (1994)",
           4
          ],
          [
           1601,
           "Office Killer (1997)",
           1
          ],
          [
           1602,
           "Price Above Rubies, A (1998)",
           3
          ],
          [
           1603,
           "Angela (1995)",
           1
          ],
          [
           1604,
           "He Walked by Night (1948)",
           1
          ],
          [
           1605,
           "Love Serenade (1996)",
           4
          ],
          [
           1606,
           "Deceiver (1997)",
           1
          ],
          [
           1607,
           "Hurricane Streets (1998)",
           3
          ],
          [
           1608,
           "Buddy (1997)",
           4
          ],
          [
           1609,
           "B*A*P*S (1997)",
           3
          ],
          [
           1610,
           "Truth or Consequences, N.M. (1997)",
           3
          ],
          [
           1611,
           "Intimate Relations (1996)",
           2
          ],
          [
           1612,
           "Leading Man, The (1996)",
           4
          ],
          [
           1613,
           "Tokyo Fist (1995)",
           1
          ],
          [
           1614,
           "Reluctant Debutante, The (1958)",
           1
          ],
          [
           1615,
           "Warriors of Virtue (1997)",
           10
          ],
          [
           1616,
           "Desert Winds (1995)",
           1
          ],
          [
           1617,
           "Hugo Pool (1997)",
           2
          ],
          [
           1618,
           "King of New York (1990)",
           1
          ],
          [
           1619,
           "All Things Fair (1996)",
           1
          ],
          [
           1620,
           "Sixth Man, The (1997)",
           9
          ],
          [
           1621,
           "Butterfly Kiss (1995)",
           1
          ],
          [
           1622,
           "Paris, France (1993)",
           3
          ],
          [
           1623,
           "Cérémonie, La (1995)",
           3
          ],
          [
           1624,
           "Hush (1998)",
           1
          ],
          [
           1625,
           "Nightwatch (1997)",
           1
          ],
          [
           1626,
           "Nobody Loves Me (Keiner liebt mich) (1994)",
           1
          ],
          [
           1627,
           "Wife, The (1995)",
           1
          ],
          [
           1628,
           "Lamerica (1994)",
           4
          ],
          [
           1629,
           "Nico Icon (1995)",
           2
          ],
          [
           1630,
           "Silence of the Palace, The (Saimt el Qusur) (1994)",
           1
          ],
          [
           1631,
           "Slingshot, The (1993)",
           2
          ],
          [
           1632,
           "Land and Freedom (Tierra y libertad) (1995)",
           1
          ],
          [
           1633,
           "Á köldum klaka (Cold Fever) (1994)",
           1
          ],
          [
           1634,
           "Etz Hadomim Tafus (Under the Domin Tree) (1994)",
           1
          ],
          [
           1635,
           "Two Friends (1986) ",
           1
          ],
          [
           1636,
           "Brothers in Trouble (1995)",
           1
          ],
          [
           1637,
           "Girls Town (1996)",
           1
          ],
          [
           1638,
           "Normal Life (1996)",
           1
          ],
          [
           1639,
           "Bitter Sugar (Azucar Amargo) (1996)",
           3
          ],
          [
           1640,
           "Eighth Day, The (1996)",
           1
          ],
          [
           1641,
           "Dadetown (1995)",
           1
          ],
          [
           1642,
           "Some Mother's Son (1996)",
           2
          ],
          [
           1643,
           "Angel Baby (1995)",
           4
          ],
          [
           1644,
           "Sudden Manhattan (1996)",
           2
          ],
          [
           1645,
           "Butcher Boy, The (1998)",
           1
          ],
          [
           1646,
           "Men With Guns (1997)",
           2
          ],
          [
           1647,
           "Hana-bi (1997)",
           1
          ],
          [
           1648,
           "Niagara, Niagara (1997)",
           1
          ],
          [
           1649,
           "Big One, The (1997)",
           1
          ],
          [
           1650,
           "Butcher Boy, The (1998)",
           1
          ],
          [
           1651,
           "Spanish Prisoner, The (1997)",
           1
          ],
          [
           1652,
           "Temptress Moon (Feng Yue) (1996)",
           3
          ],
          [
           1653,
           "Entertaining Angels: The Dorothy Day Story (1996)",
           1
          ],
          [
           1654,
           "Chairman of the Board (1998)",
           1
          ],
          [
           1655,
           "Favor, The (1994)",
           1
          ],
          [
           1656,
           "Little City (1998)",
           2
          ],
          [
           1657,
           "Target (1995)",
           1
          ],
          [
           1658,
           "Substance of Fire, The (1996)",
           3
          ],
          [
           1659,
           "Getting Away With Murder (1996)",
           1
          ],
          [
           1660,
           "Small Faces (1995)",
           1
          ],
          [
           1661,
           "New Age, The (1994)",
           1
          ],
          [
           1662,
           "Rough Magic (1995)",
           2
          ],
          [
           1663,
           "Nothing Personal (1995)",
           1
          ],
          [
           1664,
           "8 Heads in a Duffel Bag (1997)",
           4
          ],
          [
           1665,
           "Brother's Kiss, A (1997)",
           1
          ],
          [
           1666,
           "Ripe (1996)",
           1
          ],
          [
           1667,
           "Next Step, The (1995)",
           1
          ],
          [
           1668,
           "Wedding Bell Blues (1996)",
           1
          ],
          [
           1669,
           "MURDER and murder (1996)",
           1
          ],
          [
           1670,
           "Tainted (1998)",
           1
          ],
          [
           1671,
           "Further Gesture, A (1996)",
           1
          ],
          [
           1672,
           "Kika (1993)",
           2
          ],
          [
           1673,
           "Mirage (1995)",
           1
          ],
          [
           1674,
           "Mamma Roma (1962)",
           1
          ],
          [
           1675,
           "Sunchaser, The (1996)",
           1
          ],
          [
           1676,
           "War at Home, The (1996)",
           1
          ],
          [
           1677,
           "Sweet Nothing (1995)",
           1
          ],
          [
           1678,
           "Mat' i syn (1997)",
           1
          ],
          [
           1679,
           "B. Monkey (1998)",
           1
          ],
          [
           1680,
           "Sliding Doors (1998)",
           1
          ],
          [
           1681,
           "You So Crazy (1994)",
           1
          ],
          [
           1682,
           "Scream of Stone (Schrei aus Stein) (1991)",
           1
          ]
         ],
         "hovertemplate": "tsne_1=%{x}<br>tsne_2=%{y}<br>item_id=%{customdata[0]}<br>title=%{customdata[1]}<br>popularity=%{marker.color}<extra></extra>",
         "legendgroup": "",
         "marker": {
          "color": [
           452,
           131,
           90,
           209,
           86,
           26,
           392,
           219,
           299,
           89,
           236,
           267,
           184,
           183,
           293,
           39,
           92,
           10,
           69,
           72,
           84,
           297,
           182,
           174,
           293,
           73,
           57,
           276,
           114,
           37,
           154,
           81,
           97,
           7,
           11,
           13,
           8,
           120,
           87,
           57,
           37,
           148,
           40,
           79,
           80,
           27,
           133,
           117,
           81,
           583,
           81,
           91,
           128,
           104,
           149,
           394,
           40,
           175,
           83,
           64,
           59,
           127,
           82,
           283,
           115,
           162,
           103,
           134,
           321,
           251,
           220,
           129,
           128,
           7,
           5,
           54,
           151,
           33,
           336,
           68,
           110,
           261,
           176,
           18,
           58,
           150,
           138,
           213,
           275,
           95,
           143,
           104,
           112,
           137,
           219,
           295,
           256,
           390,
           172,
           508,
           73,
           54,
           15,
           5,
           74,
           71,
           42,
           65,
           130,
           31,
           272,
           20,
           9,
           67,
           15,
           125,
           378,
           293,
           4,
           67,
           429,
           106,
           115,
           187,
           244,
           97,
           413,
           65,
           129,
           23,
           95,
           246,
           171,
           198,
           259,
           105,
           171,
           19,
           50,
           61,
           72,
           57,
           222,
           243,
           65,
           10,
           185,
           128,
           23,
           157,
           326,
           82,
           247,
           174,
           98,
           148,
           127,
           60,
           101,
           69,
           220,
           106,
           92,
           151,
           64,
           58,
           67,
           316,
           118,
           121,
           65,
           367,
           324,
           420,
           208,
           284,
           137,
           125,
           221,
           221,
           507,
           226,
           291,
           116,
           239,
           251,
           209,
           170,
           66,
           124,
           276,
           116,
           157,
           241,
           301,
           251,
           239,
           127,
           165,
           206,
           89,
           280,
           182,
           350,
           136,
           50,
           66,
           200,
           191,
           331,
           206,
           92,
           134,
           114,
           212,
           290,
           120,
           171,
           111,
           66,
           74,
           365,
           136,
           44,
           109,
           166,
           161,
           244,
           171,
           199,
           142,
           101,
           124,
           280,
           217,
           45,
           384,
           256,
           150,
           156,
           128,
           117,
           132,
           48,
           240,
           124,
           5,
           160,
           130,
           197,
           46,
           158,
           26,
           62,
           172,
           16,
           303,
           509,
           162,
           127,
           43,
           66,
           19,
           101,
           227,
           35,
           255,
           315,
           136,
           211,
           198,
           223,
           190,
           268,
           298,
           71,
           60,
           28,
           85,
           146,
           232,
           177,
           193,
           162,
           481,
           78,
           478,
           259,
           96,
           127,
           114,
           147,
           485,
           77,
           6,
           50,
           194,
           73,
           431,
           230,
           297,
           134,
           149,
           87,
           96,
           188,
           30,
           28,
           145,
           75,
           80,
           350,
           5,
           160,
           112,
           102,
           298,
           168,
           20,
           169,
           218,
           240,
           125,
           128,
           175,
           175,
           295,
           45,
           41,
           113,
           143,
           251,
           64,
           21,
           43,
           18,
           91,
           47,
           189,
           11,
           52,
           124,
           55,
           65,
           126,
           137,
           27,
           31,
           41,
           20,
           26,
           14,
           72,
           41,
           97,
           264,
           143,
           18,
           10,
           10,
           28,
           47,
           37,
           48,
           47,
           170,
           31,
           55,
           39,
           67,
           34,
           39,
           11,
           23,
           24,
           13,
           101,
           43,
           116,
           100,
           111,
           31,
           69,
           208,
           87,
           65,
           28,
           27,
           10,
           59,
           68,
           192,
           12,
           56,
           54,
           12,
           26,
           89,
           18,
           76,
           170,
           201,
           101,
           344,
           49,
           43,
           112,
           70,
           162,
           163,
           93,
           55,
           62,
           25,
           64,
           73,
           129,
           178,
           81,
           106,
           26,
           300,
           19,
           85,
           32,
           219,
           121,
           97,
           93,
           153,
           174,
           171,
           67,
           216,
           99,
           5,
           6,
           5,
           14,
           53,
           4,
           162,
           46,
           22,
           9,
           121,
           85,
           117,
           63,
           170,
           66,
           16,
           16,
           145,
           48,
           27,
           90,
           24,
           28,
           74,
           148,
           71,
           27,
           85,
           52,
           48,
           64,
           67,
           108,
           221,
           158,
           126,
           194,
           250,
           160,
           95,
           104,
           179,
           179,
           63,
           128,
           243,
           138,
           125,
           64,
           68,
           65,
           52,
           50,
           67,
           59,
           60,
           56,
           59,
           231,
           68,
           152,
           62,
           31,
           123,
           57,
           39,
           122,
           68,
           90,
           98,
           215,
           121,
           121,
           173,
           57,
           72,
           180,
           201,
           63,
           91,
           89,
           80,
           124,
           120,
           35,
           164,
           46,
           73,
           124,
           195,
           121,
           93,
           80,
           129,
           22,
           15,
           13,
           54,
           10,
           30,
           66,
           44,
           43,
           49,
           51,
           21,
           71,
           12,
           254,
           41,
           12,
           92,
           151,
           24,
           45,
           63,
           102,
           10,
           12,
           17,
           70,
           137,
           22,
           59,
           48,
           29,
           27,
           22,
           179,
           35,
           230,
           67,
           50,
           28,
           29,
           33,
           15,
           44,
           93,
           41,
           92,
           19,
           32,
           59,
           168,
           37,
           79,
           39,
           34,
           14,
           202,
           43,
           18,
           178,
           9,
           12,
           5,
           64,
           127,
           206,
           4,
           1,
           2,
           20,
           50,
           209,
           81,
           31,
           66,
           66,
           30,
           60,
           41,
           40,
           34,
           27,
           51,
           59,
           64,
           18,
           18,
           64,
           43,
           11,
           39,
           39,
           22,
           82,
           4,
           75,
           169,
           77,
           31,
           119,
           58,
           69,
           24,
           23,
           91,
           38,
           44,
           40,
           82,
           33,
           89,
           4,
           35,
           27,
           38,
           70,
           67,
           50,
           72,
           171,
           90,
           34,
           147,
           227,
           44,
           131,
           79,
           115,
           153,
           88,
           82,
           116,
           46,
           100,
           5,
           12,
           6,
           13,
           36,
           46,
           65,
           86,
           48,
           54,
           77,
           1,
           219,
           107,
           34,
           27,
           100,
           49,
           169,
           157,
           50,
           69,
           44,
           87,
           155,
           16,
           164,
           91,
           44,
           13,
           79,
           40,
           10,
           102,
           15,
           10,
           53,
           19,
           24,
           137,
           6,
           70,
           101,
           104,
           79,
           1,
           51,
           72,
           13,
           87,
           58,
           82,
           16,
           29,
           86,
           54,
           58,
           34,
           76,
           16,
           14,
           63,
           45,
           81,
           24,
           39,
           180,
           15,
           27,
           137,
           78,
           59,
           31,
           164,
           63,
           58,
           267,
           39,
           92,
           16,
           119,
           102,
           316,
           51,
           124,
           180,
           39,
           24,
           57,
           96,
           128,
           4,
           21,
           11,
           46,
           44,
           115,
           149,
           29,
           32,
           9,
           11,
           52,
           42,
           57,
           41,
           49,
           17,
           32,
           26,
           9,
           4,
           76,
           31,
           69,
           84,
           10,
           37,
           2,
           39,
           14,
           13,
           3,
           47,
           66,
           10,
           86,
           10,
           46,
           21,
           36,
           31,
           9,
           5,
           26,
           16,
           40,
           9,
           8,
           27,
           50,
           9,
           31,
           43,
           45,
           18,
           18,
           56,
           1,
           112,
           21,
           3,
           25,
           40,
           93,
           22,
           4,
           82,
           49,
           83,
           80,
           57,
           13,
           34,
           1,
           91,
           22,
           49,
           25,
           15,
           26,
           25,
           4,
           4,
           53,
           48,
           27,
           30,
           42,
           176,
           44,
           55,
           9,
           53,
           4,
           4,
           1,
           14,
           16,
           66,
           36,
           1,
           3,
           15,
           16,
           3,
           18,
           24,
           86,
           21,
           119,
           6,
           5,
           24,
           9,
           75,
           42,
           81,
           39,
           53,
           47,
           52,
           33,
           136,
           59,
           45,
           34,
           13,
           7,
           13,
           53,
           64,
           15,
           13,
           43,
           6,
           53,
           14,
           19,
           106,
           44,
           2,
           58,
           9,
           42,
           12,
           42,
           18,
           20,
           27,
           21,
           2,
           20,
           13,
           4,
           4,
           9,
           2,
           11,
           13,
           18,
           7,
           8,
           96,
           5,
           46,
           34,
           58,
           85,
           34,
           101,
           6,
           104,
           40,
           80,
           57,
           40,
           21,
           68,
           7,
           32,
           37,
           25,
           60,
           32,
           46,
           45,
           40,
           43,
           40,
           61,
           17,
           48,
           71,
           30,
           39,
           45,
           22,
           11,
           49,
           46,
           2,
           14,
           64,
           25,
           34,
           23,
           41,
           9,
           21,
           26,
           12,
           18,
           75,
           8,
           34,
           28,
           4,
           32,
           44,
           12,
           49,
           27,
           35,
           22,
           8,
           20,
           15,
           44,
           22,
           23,
           4,
           86,
           32,
           33,
           25,
           4,
           66,
           7,
           31,
           14,
           16,
           16,
           10,
           10,
           17,
           8,
           8,
           9,
           22,
           23,
           47,
           37,
           64,
           44,
           93,
           100,
           38,
           98,
           12,
           137,
           50,
           32,
           31,
           35,
           38,
           32,
           31,
           15,
           44,
           4,
           3,
           148,
           14,
           20,
           7,
           16,
           32,
           27,
           68,
           24,
           24,
           17,
           90,
           25,
           62,
           28,
           8,
           40,
           25,
           46,
           134,
           73,
           25,
           43,
           41,
           25,
           24,
           23,
           10,
           10,
           22,
           15,
           35,
           39,
           29,
           12,
           41,
           4,
           53,
           16,
           44,
           12,
           18,
           27,
           16,
           7,
           66,
           77,
           7,
           12,
           8,
           22,
           45,
           2,
           8,
           8,
           6,
           21,
           11,
           21,
           10,
           13,
           38,
           37,
           43,
           12,
           23,
           12,
           29,
           3,
           18,
           42,
           13,
           8,
           74,
           7,
           19,
           4,
           18,
           4,
           18,
           5,
           28,
           41,
           7,
           15,
           22,
           10,
           29,
           13,
           19,
           47,
           59,
           17,
           21,
           1,
           3,
           12,
           4,
           32,
           11,
           13,
           28,
           1,
           13,
           32,
           30,
           38,
           46,
           29,
           29,
           5,
           33,
           17,
           9,
           44,
           15,
           3,
           9,
           3,
           21,
           9,
           26,
           9,
           7,
           28,
           19,
           12,
           3,
           1,
           25,
           4,
           11,
           26,
           13,
           5,
           25,
           6,
           14,
           12,
           11,
           22,
           10,
           27,
           14,
           15,
           7,
           8,
           5,
           22,
           7,
           19,
           9,
           10,
           10,
           13,
           19,
           10,
           18,
           3,
           13,
           44,
           3,
           11,
           3,
           13,
           10,
           31,
           11,
           3,
           45,
           7,
           23,
           7,
           1,
           8,
           21,
           18,
           6,
           19,
           17,
           20,
           15,
           38,
           12,
           6,
           6,
           9,
           30,
           6,
           39,
           26,
           20,
           30,
           39,
           25,
           4,
           12,
           14,
           32,
           8,
           48,
           13,
           18,
           22,
           17,
           6,
           8,
           1,
           1,
           6,
           8,
           18,
           26,
           6,
           5,
           7,
           36,
           19,
           7,
           6,
           19,
           12,
           6,
           8,
           9,
           7,
           11,
           8,
           3,
           4,
           23,
           4,
           4,
           4,
           8,
           15,
           7,
           19,
           12,
           33,
           10,
           10,
           7,
           7,
           5,
           15,
           11,
           4,
           8,
           19,
           16,
           9,
           16,
           13,
           9,
           19,
           26,
           15,
           17,
           6,
           7,
           7,
           2,
           15,
           3,
           3,
           7,
           7,
           20,
           12,
           9,
           8,
           9,
           5,
           5,
           18,
           2,
           7,
           2,
           2,
           2,
           1,
           1,
           16,
           7,
           14,
           11,
           23,
           7,
           4,
           3,
           4,
           1,
           2,
           6,
           3,
           5,
           1,
           6,
           3,
           6,
           1,
           4,
           4,
           2,
           5,
           2,
           11,
           10,
           9,
           4,
           1,
           1,
           1,
           2,
           1,
           5,
           2,
           5,
           4,
           1,
           1,
           2,
           3,
           1,
           5,
           2,
           6,
           3,
           3,
           2,
           2,
           2,
           3,
           2,
           1,
           1,
           2,
           1,
           5,
           6,
           4,
           3,
           2,
           3,
           1,
           2,
           10,
           7,
           4,
           5,
           7,
           6,
           8,
           4,
           6,
           3,
           5,
           6,
           3,
           6,
           3,
           2,
           3,
           5,
           9,
           7,
           6,
           5,
           5,
           2,
           7,
           10,
           18,
           4,
           4,
           13,
           6,
           5,
           20,
           3,
           7,
           4,
           28,
           6,
           8,
           1,
           9,
           5,
           2,
           3,
           16,
           3,
           11,
           4,
           4,
           3,
           10,
           8,
           5,
           12,
           4,
           3,
           5,
           3,
           2,
           10,
           7,
           2,
           9,
           5,
           8,
           5,
           7,
           5,
           4,
           19,
           4,
           15,
           1,
           3,
           8,
           2,
           15,
           1,
           1,
           6,
           2,
           7,
           1,
           1,
           7,
           1,
           1,
           7,
           3,
           3,
           3,
           6,
           2,
           6,
           12,
           5,
           9,
           2,
           9,
           6,
           8,
           1,
           2,
           18,
           8,
           11,
           2,
           1,
           12,
           3,
           4,
           1,
           5,
           4,
           5,
           3,
           2,
           1,
           1,
           1,
           5,
           5,
           2,
           1,
           4,
           2,
           5,
           2,
           10,
           3,
           1,
           3,
           1,
           3,
           5,
           1,
           5,
           6,
           3,
           7,
           1,
           3,
           5,
           12,
           2,
           1,
           4,
           7,
           2,
           8,
           1,
           1,
           7,
           3,
           5,
           5,
           7,
           2,
           1,
           6,
           4,
           1,
           4,
           3,
           4,
           10,
           2,
           2,
           1,
           3,
           4,
           1,
           2,
           1,
           2,
           2,
           2,
           3,
           4,
           2,
           5,
           2,
           1,
           7,
           1,
           4,
           1,
           1,
           1,
           1,
           1,
           1,
           1,
           1,
           1,
           1,
           1,
           1,
           2,
           1,
           1,
           1,
           1,
           2,
           1,
           1,
           1,
           1,
           1,
           1,
           2,
           1,
           1,
           2,
           4,
           2,
           6,
           5,
           1,
           2,
           1,
           1,
           5,
           6,
           1,
           4,
           1,
           3,
           1,
           1,
           4,
           1,
           3,
           4,
           3,
           3,
           2,
           4,
           1,
           1,
           10,
           1,
           2,
           1,
           1,
           9,
           1,
           3,
           3,
           1,
           1,
           1,
           1,
           4,
           2,
           1,
           2,
           1,
           1,
           1,
           1,
           1,
           1,
           1,
           3,
           1,
           1,
           2,
           4,
           2,
           1,
           2,
           1,
           1,
           1,
           1,
           1,
           3,
           1,
           1,
           1,
           2,
           1,
           3,
           1,
           1,
           1,
           2,
           1,
           4,
           1,
           1,
           1,
           1,
           1,
           1,
           1,
           2,
           1,
           1,
           1,
           1,
           1,
           1,
           1,
           1,
           1,
           1
          ],
          "coloraxis": "coloraxis",
          "symbol": "circle"
         },
         "mode": "markers",
         "name": "",
         "showlegend": false,
         "type": "scattergl",
         "x": [
          11.21196174621582,
          -1.2194768190383911,
          -1.1700119972229004,
          19.59132194519043,
          1.1100759506225586,
          15.33381175994873,
          29.582904815673828,
          34.126800537109375,
          33.90837860107422,
          12.367985725402832,
          21.162385940551758,
          29.804975509643555,
          23.808210372924805,
          22.180530548095703,
          12.593913078308105,
          4.662977695465088,
          -0.6488367319107056,
          -8.306684494018555,
          14.211265563964844,
          23.31882667541504,
          -9.008474349975586,
          12.91336441040039,
          26.310382843017578,
          14.247862815856934,
          -9.027602195739746,
          21.183364868164062,
          4.705643653869629,
          11.4533052444458,
          -18.602737426757812,
          16.984710693359375,
          6.077938556671143,
          21.73192024230957,
          2.779883861541748,
          0.3028731942176819,
          -18.384658813476562,
          -10.245644569396973,
          -1.9059044122695923,
          -13.778395652770996,
          8.958587646484375,
          -6.436278820037842,
          3.6286709308624268,
          26.85743522644043,
          -5.304491996765137,
          26.17861557006836,
          15.534975051879883,
          11.575186729431152,
          8.005863189697266,
          33.51757049560547,
          2.4633235931396484,
          15.818378448486328,
          3.263594627380371,
          17.07929229736328,
          1.7615997791290283,
          2.0546555519104004,
          25.458759307861328,
          31.235027313232422,
          16.574975967407227,
          29.882108688354492,
          14.409476280212402,
          14.38902473449707,
          15.280895233154297,
          -3.2093989849090576,
          -14.453405380249023,
          32.06808853149414,
          11.856586456298828,
          2.8842592239379883,
          2.0766122341156006,
          -3.5585553646087646,
          29.071163177490234,
          5.889281272888184,
          3.309713125228882,
          1.3486257791519165,
          0.4497348368167877,
          -2.6334612369537354,
          9.38493824005127,
          18.324281692504883,
          4.571633338928223,
          -17.836050033569336,
          12.72035026550293,
          2.9451329708099365,
          20.348896026611328,
          -0.3584873378276825,
          17.27326774597168,
          -1.1088067293167114,
          14.109002113342285,
          20.729036331176758,
          9.813490867614746,
          7.724575996398926,
          32.453521728515625,
          -2.1471359729766846,
          5.443953990936279,
          23.456871032714844,
          15.538677215576172,
          -0.7916610836982727,
          12.372455596923828,
          14.587488174438477,
          28.291851043701172,
          23.630033493041992,
          26.881736755371094,
          33.37859344482422,
          3.698659896850586,
          -7.389118671417236,
          -31.470182418823242,
          -30.21449851989746,
          -3.857226848602295,
          -12.771860122680664,
          24.113306045532227,
          3.532496452331543,
          -21.14142417907715,
          -14.965439796447754,
          18.56048011779785,
          -10.910113334655762,
          20.703279495239258,
          28.96068000793457,
          4.922436237335205,
          19.381122589111328,
          -3.714893102645874,
          -3.0120739936828613,
          20.936479568481445,
          -16.552364349365234,
          -0.6696632504463196,
          -11.247636795043945,
          -21.078357696533203,
          19.87763023376465,
          0.8824294805526733,
          11.525012969970703,
          31.89590072631836,
          17.898578643798828,
          18.490346908569336,
          -25.83095359802246,
          29.537803649902344,
          32.134647369384766,
          31.43095588684082,
          30.276031494140625,
          32.421051025390625,
          20.44219207763672,
          26.234539031982422,
          -14.753181457519531,
          -16.104644775390625,
          1.2105541229248047,
          21.9751033782959,
          1.74167799949646,
          11.020689010620117,
          21.599964141845703,
          -10.415162086486816,
          6.420884132385254,
          2.9742038249969482,
          -7.5016655921936035,
          -2.854274272918701,
          24.692668914794922,
          25.0994930267334,
          24.284868240356445,
          21.734718322753906,
          27.05143165588379,
          2.688265562057495,
          29.328088760375977,
          30.0430850982666,
          -6.628735065460205,
          4.043253421783447,
          17.531938552856445,
          0.3804095387458801,
          25.34351921081543,
          12.34987735748291,
          8.708200454711914,
          30.119384765625,
          18.914020538330078,
          -7.484774112701416,
          27.285402297973633,
          33.222042083740234,
          27.122575759887695,
          19.10716438293457,
          15.27505111694336,
          13.95903491973877,
          15.217672348022461,
          18.564037322998047,
          21.856830596923828,
          24.01504898071289,
          31.52496337890625,
          31.54487419128418,
          27.182538986206055,
          15.676651954650879,
          27.69930648803711,
          23.42664337158203,
          18.2103271484375,
          30.860475540161133,
          12.839285850524902,
          32.588924407958984,
          23.290298461914062,
          11.277533531188965,
          27.48204803466797,
          31.728370666503906,
          28.148902893066406,
          27.444032669067383,
          23.09048843383789,
          14.421908378601074,
          14.55502700805664,
          29.630552291870117,
          29.563722610473633,
          28.879840850830078,
          24.822914123535156,
          6.945363521575928,
          20.44832992553711,
          21.730302810668945,
          11.029266357421875,
          16.66727066040039,
          22.031824111938477,
          18.026655197143555,
          16.781618118286133,
          26.51674461364746,
          10.983345031738281,
          30.616119384765625,
          12.638052940368652,
          22.757564544677734,
          14.024741172790527,
          5.429692268371582,
          27.710023880004883,
          -7.217344760894775,
          6.282653331756592,
          2.922126531600952,
          6.079370498657227,
          23.186912536621094,
          11.052253723144531,
          30.1453857421875,
          15.857328414916992,
          -4.647582054138184,
          4.465246677398682,
          10.254254341125488,
          11.192492485046387,
          -3.3548755645751953,
          10.980076789855957,
          -16.432565689086914,
          1.823765754699707,
          4.116988182067871,
          30.139829635620117,
          -5.203819274902344,
          11.263941764831543,
          9.419703483581543,
          24.00189781188965,
          4.508984565734863,
          -20.66591453552246,
          2.8832712173461914,
          20.423545837402344,
          -13.812567710876465,
          -3.779010772705078,
          -14.721894264221191,
          15.066914558410645,
          -23.94340705871582,
          18.08797836303711,
          21.32441520690918,
          -8.318584442138672,
          17.832347869873047,
          0.41120481491088867,
          9.077102661132812,
          -15.159713745117188,
          -0.5648893713951111,
          15.343255996704102,
          10.137762069702148,
          -10.181243896484375,
          -11.291960716247559,
          -18.749366760253906,
          -13.941007614135742,
          30.390762329101562,
          -27.132226943969727,
          -17.451065063476562,
          5.72526741027832,
          -5.13723087310791,
          15.196252822875977,
          21.108959197998047,
          -16.964599609375,
          -15.301182746887207,
          13.879218101501465,
          13.615211486816406,
          -2.646822214126587,
          18.712949752807617,
          19.59663963317871,
          18.80780029296875,
          -10.190685272216797,
          0.0069632697850465775,
          -1.2553986310958862,
          -4.951615810394287,
          -3.172415256500244,
          18.329832077026367,
          -2.044560194015503,
          19.34174156188965,
          20.400304794311523,
          5.7761688232421875,
          -15.49917984008789,
          10.575499534606934,
          17.867244720458984,
          7.4596428871154785,
          -17.82835578918457,
          13.866662979125977,
          7.827869415283203,
          15.530467987060547,
          11.471270561218262,
          22.292503356933594,
          13.92995834350586,
          7.955835819244385,
          -13.406193733215332,
          -10.840946197509766,
          30.791696548461914,
          20.997873306274414,
          -12.549131393432617,
          21.295419692993164,
          18.308252334594727,
          -14.94263744354248,
          3.8805911540985107,
          -11.422647476196289,
          -13.168542861938477,
          10.083480834960938,
          -10.327220916748047,
          -13.094402313232422,
          -26.682825088500977,
          12.036266326904297,
          12.05218505859375,
          17.699583053588867,
          34.829246520996094,
          -0.4684956669807434,
          10.894498825073242,
          11.66030502319336,
          -8.881266593933105,
          -10.257208824157715,
          16.600727081298828,
          -12.211064338684082,
          -8.183128356933594,
          -14.41369342803955,
          -13.794272422790527,
          -16.037832260131836,
          -3.8324456214904785,
          -11.760640144348145,
          -13.363598823547363,
          -12.258480072021484,
          8.284716606140137,
          -3.801117420196533,
          -17.308351516723633,
          11.036582946777344,
          -3.6843369007110596,
          -14.05314826965332,
          18.866527557373047,
          -2.9357876777648926,
          0.9343516230583191,
          -12.431498527526855,
          9.847989082336426,
          19.04663848876953,
          2.180678129196167,
          15.565519332885742,
          -16.336320877075195,
          -16.57512664794922,
          -9.929224014282227,
          -10.470741271972656,
          -20.511171340942383,
          -14.704922676086426,
          6.063000202178955,
          -17.21632194519043,
          5.336572170257568,
          33.487342834472656,
          -19.4479923248291,
          8.539368629455566,
          10.569245338439941,
          19.484926223754883,
          1.0402756929397583,
          -0.3693345785140991,
          -0.4415788948535919,
          5.488219738006592,
          1.3479009866714478,
          4.905783653259277,
          -15.149894714355469,
          -7.60358190536499,
          -8.167710304260254,
          -0.1693732738494873,
          21.456939697265625,
          0.8546167016029358,
          -2.181598663330078,
          -13.784811973571777,
          -1.5322632789611816,
          -17.074649810791016,
          27.34600830078125,
          4.330715656280518,
          8.297562599182129,
          20.842388153076172,
          7.7127299308776855,
          -20.31061553955078,
          0.9247345328330994,
          9.928462028503418,
          1.9957544803619385,
          8.82551097869873,
          -15.871647834777832,
          0.15398794412612915,
          -1.5520330667495728,
          -2.448786973953247,
          -1.63613760471344,
          7.441580295562744,
          9.776419639587402,
          -17.460033416748047,
          -2.678955078125,
          -17.601394653320312,
          -20.148540496826172,
          -0.5153087973594666,
          -13.516683578491211,
          -18.894071578979492,
          6.228174209594727,
          20.333133697509766,
          28.255878448486328,
          -2.3497631549835205,
          -16.041751861572266,
          -9.116971969604492,
          32.873382568359375,
          -3.9996232986450195,
          12.823263168334961,
          -7.657594680786133,
          -21.09612464904785,
          -8.632346153259277,
          25.383563995361328,
          -12.669979095458984,
          27.256202697753906,
          8.335000038146973,
          3.5352885723114014,
          7.494405746459961,
          22.137971878051758,
          12.156366348266602,
          -1.5410575866699219,
          31.919763565063477,
          -30.609643936157227,
          21.35614585876465,
          -2.6421468257904053,
          33.406803131103516,
          15.566431045532227,
          26.709657669067383,
          17.17354965209961,
          12.7776460647583,
          28.97586441040039,
          26.31938362121582,
          16.362272262573242,
          22.634984970092773,
          20.621246337890625,
          -32.10669708251953,
          -18.00152587890625,
          -30.497310638427734,
          -12.398256301879883,
          -1.8241908550262451,
          -17.74050521850586,
          28.534542083740234,
          -0.24692796170711517,
          15.76609992980957,
          -7.201161861419678,
          24.87051010131836,
          -1.9590716361999512,
          3.0465047359466553,
          -14.381171226501465,
          -11.012238502502441,
          -15.222248077392578,
          -17.71297836303711,
          -8.10977554321289,
          2.357560873031616,
          -18.195064544677734,
          -12.418492317199707,
          -6.502618789672852,
          12.655571937561035,
          -1.5269266366958618,
          22.093875885009766,
          28.29917335510254,
          26.431232452392578,
          13.217679977416992,
          7.751485347747803,
          16.77108383178711,
          20.74922752380371,
          -8.96371841430664,
          24.399564743041992,
          6.76017427444458,
          9.319845199584961,
          -12.38952922821045,
          -4.6364030838012695,
          29.17319679260254,
          20.021095275878906,
          -9.289355278015137,
          11.033403396606445,
          21.583873748779297,
          27.35144805908203,
          31.663890838623047,
          19.532089233398438,
          31.26689910888672,
          34.60281753540039,
          31.118427276611328,
          4.829825401306152,
          24.99017333984375,
          24.59023666381836,
          26.62117576599121,
          18.75790023803711,
          28.3391170501709,
          27.074384689331055,
          28.702247619628906,
          26.574922561645508,
          27.545442581176758,
          7.958465576171875,
          35.110599517822266,
          16.546476364135742,
          31.92641830444336,
          23.41330909729004,
          21.850364685058594,
          28.439359664916992,
          19.62653923034668,
          24.28342056274414,
          23.3859806060791,
          25.48274040222168,
          22.354337692260742,
          29.05736541748047,
          19.26223373413086,
          21.92740249633789,
          8.076292037963867,
          32.160797119140625,
          19.394733428955078,
          11.766609191894531,
          23.2976016998291,
          32.18777847290039,
          14.712106704711914,
          26.74559783935547,
          25.065765380859375,
          23.63393783569336,
          30.331907272338867,
          20.181381225585938,
          25.55787467956543,
          30.18242835998535,
          13.486688613891602,
          23.470312118530273,
          30.217695236206055,
          27.129074096679688,
          27.303176879882812,
          16.079553604125977,
          31.046831130981445,
          19.59876251220703,
          13.995776176452637,
          20.427661895751953,
          23.0815486907959,
          -5.078595161437988,
          5.277144432067871,
          20.745412826538086,
          -13.802700996398926,
          -11.753401756286621,
          -10.531608581542969,
          -4.9483642578125,
          -14.10810661315918,
          11.38157844543457,
          1.3164459466934204,
          -24.953472137451172,
          -2.489525079727173,
          7.713221549987793,
          -11.27829360961914,
          6.578648090362549,
          4.47062873840332,
          -16.87710189819336,
          -0.31937775015830994,
          5.070099353790283,
          -5.222631931304932,
          -28.605308532714844,
          -4.510833740234375,
          0.8081465363502502,
          17.512222290039062,
          2.1610240936279297,
          -4.644598007202148,
          -3.374199390411377,
          -0.7326237559318542,
          -10.411406517028809,
          -8.668416976928711,
          -5.292929172515869,
          1.5200085639953613,
          -7.6296796798706055,
          10.897310256958008,
          -2.236604690551758,
          3.0543439388275146,
          -18.066457748413086,
          -13.041293144226074,
          0.5633788704872131,
          -16.271095275878906,
          -17.873882293701172,
          -6.14210844039917,
          -32.38545227050781,
          -4.534819602966309,
          -5.119586944580078,
          11.314569473266602,
          22.040613174438477,
          30.381168365478516,
          8.576190948486328,
          13.046721458435059,
          -6.28456449508667,
          -18.93084144592285,
          8.53456974029541,
          11.188698768615723,
          17.916826248168945,
          -20.78215217590332,
          10.006356239318848,
          -0.6711040139198303,
          -2.869292974472046,
          -11.014204978942871,
          -4.216209411621094,
          2.532339334487915,
          -2.1233532428741455,
          -6.439131736755371,
          -54.707950592041016,
          23.0909366607666,
          10.633854866027832,
          23.06661033630371,
          32.583534240722656,
          24.690946578979492,
          4.4662251472473145,
          25.229719161987305,
          15.273948669433594,
          14.001035690307617,
          22.468889236450195,
          4.546690940856934,
          24.70708465576172,
          15.973496437072754,
          34.15861511230469,
          -1.3211989402770996,
          25.14668083190918,
          21.24886131286621,
          17.146791458129883,
          28.248403549194336,
          7.406630992889404,
          -7.1699981689453125,
          26.38686752319336,
          -7.539294719696045,
          -11.899460792541504,
          -18.64674949645996,
          17.014299392700195,
          27.346195220947266,
          -8.441282272338867,
          6.907270908355713,
          1.5520150661468506,
          4.127922534942627,
          16.798194885253906,
          24.496950149536133,
          19.632226943969727,
          14.29188060760498,
          -2.3572998046875,
          15.405316352844238,
          -3.2302467823028564,
          10.236468315124512,
          13.316544532775879,
          -3.9970149993896484,
          11.206140518188477,
          20.744434356689453,
          14.133292198181152,
          2.6073312759399414,
          11.172117233276367,
          26.59309959411621,
          15.502545356750488,
          27.89402198791504,
          23.544185638427734,
          25.38125228881836,
          32.46824645996094,
          18.57789421081543,
          23.79863929748535,
          19.82896614074707,
          21.375730514526367,
          15.451814651489258,
          27.52460289001465,
          4.099409103393555,
          19.78542137145996,
          14.049068450927734,
          34.0670051574707,
          6.405879974365234,
          15.958863258361816,
          21.41915512084961,
          -0.39312657713890076,
          -32.9487190246582,
          -17.479995727539062,
          -0.5569555759429932,
          -26.716106414794922,
          -1.9338889122009277,
          24.902631759643555,
          -0.017097536474466324,
          23.223739624023438,
          -0.00858547817915678,
          18.85888671875,
          10.275972366333008,
          -54.99446105957031,
          -10.281858444213867,
          2.2133712768554688,
          -5.663319110870361,
          -3.497464179992676,
          -12.582525253295898,
          -14.135641098022461,
          5.418225288391113,
          6.770541191101074,
          10.43632984161377,
          -14.294561386108398,
          -23.7636661529541,
          -12.876481056213379,
          -13.614953994750977,
          9.439776420593262,
          3.9331939220428467,
          29.275493621826172,
          20.334238052368164,
          -3.9250478744506836,
          -9.727697372436523,
          12.871973991394043,
          2.740746259689331,
          9.798200607299805,
          -9.127334594726562,
          14.636136054992676,
          18.917394638061523,
          14.535677909851074,
          -4.693546772003174,
          13.616159439086914,
          -7.13300085067749,
          16.97185516357422,
          25.628870010375977,
          17.542722702026367,
          16.67043113708496,
          -0.881939709186554,
          4.746333122253418,
          12.835379600524902,
          9.916644096374512,
          25.700727462768555,
          -3.634086847305298,
          -11.719377517700195,
          28.501863479614258,
          -10.139763832092285,
          -8.483219146728516,
          18.564037322998047,
          -0.7423719167709351,
          3.5498106479644775,
          22.868043899536133,
          -0.2141263484954834,
          -9.916905403137207,
          9.358190536499023,
          -7.874767303466797,
          2.2279210090637207,
          15.012073516845703,
          0.8607307076454163,
          6.072877883911133,
          13.926414489746094,
          -12.321599006652832,
          11.525108337402344,
          25.396387100219727,
          1.9752099514007568,
          8.065473556518555,
          5.032354354858398,
          12.511927604675293,
          16.525331497192383,
          -2.103177547454834,
          -24.69910430908203,
          10.28807258605957,
          10.178128242492676,
          15.101653099060059,
          17.131244659423828,
          -10.956830024719238,
          -14.644328117370605,
          13.947260856628418,
          -18.244333267211914,
          -15.875279426574707,
          13.526309967041016,
          -10.5318021774292,
          -5.097672462463379,
          -15.782440185546875,
          -2.8414177894592285,
          -26.158985137939453,
          -11.421552658081055,
          -6.898253440856934,
          -7.303643703460693,
          1.5301576852798462,
          -1.3636635541915894,
          -3.103586196899414,
          -1.5675588846206665,
          19.75708770751953,
          -15.483443260192871,
          4.507914066314697,
          -15.356547355651855,
          4.8003973960876465,
          -15.564016342163086,
          11.106039047241211,
          -2.999009847640991,
          7.687785625457764,
          -3.6430253982543945,
          6.538336277008057,
          -15.367250442504883,
          15.656392097473145,
          -13.60070514678955,
          3.1245217323303223,
          5.36065149307251,
          -0.7611307501792908,
          -7.34844446182251,
          -33.89847183227539,
          4.65737247467041,
          0.28660324215888977,
          6.816583156585693,
          -17.33319854736328,
          5.8111982345581055,
          1.8800601959228516,
          -15.740614891052246,
          24.38452911376953,
          11.684913635253906,
          5.409113883972168,
          -17.928279876708984,
          3.176480770111084,
          -1.848281741142273,
          -10.776192665100098,
          8.985751152038574,
          -7.0172858238220215,
          -11.840194702148438,
          -0.9261837005615234,
          -16.4326114654541,
          1.0834252834320068,
          20.721437454223633,
          18.733797073364258,
          3.736696481704712,
          -6.800732135772705,
          -0.4798720180988312,
          -3.3147635459899902,
          13.5141019821167,
          -11.367987632751465,
          11.903495788574219,
          -54.31045150756836,
          -0.23891639709472656,
          -22.262794494628906,
          -2.1030259132385254,
          -8.385260581970215,
          -11.87240982055664,
          -11.572921752929688,
          -7.3695549964904785,
          1.681649923324585,
          11.51777172088623,
          -8.168085098266602,
          4.4834065437316895,
          -17.267574310302734,
          -10.0612154006958,
          -10.567704200744629,
          -4.450441360473633,
          -55.357749938964844,
          -17.60865592956543,
          -17.478862762451172,
          5.909042835235596,
          -23.76627540588379,
          27.554574966430664,
          13.785027503967285,
          20.260608673095703,
          -14.636799812316895,
          -13.580458641052246,
          -4.391302585601807,
          -8.420653343200684,
          -14.712897300720215,
          1.2983828783035278,
          8.263022422790527,
          3.5458147525787354,
          -6.1172380447387695,
          21.404598236083984,
          23.776628494262695,
          -6.303056716918945,
          13.491583824157715,
          21.334213256835938,
          -26.459354400634766,
          17.643474578857422,
          23.267614364624023,
          14.027763366699219,
          21.860246658325195,
          -52.590667724609375,
          -34.1657829284668,
          -0.32748523354530334,
          6.087394714355469,
          -5.843591213226318,
          -16.87067985534668,
          27.75212860107422,
          -1.2132792472839355,
          22.57404327392578,
          -0.029793187975883484,
          15.788870811462402,
          15.757243156433105,
          -0.11286430805921555,
          -7.704594135284424,
          -18.733200073242188,
          2.0521233081817627,
          -13.027020454406738,
          7.376617908477783,
          -5.960601806640625,
          -6.571360111236572,
          -16.786251068115234,
          -3.5987818241119385,
          -12.839676856994629,
          -18.1310977935791,
          -6.650269985198975,
          8.83067798614502,
          10.496088027954102,
          14.258893966674805,
          -14.11862850189209,
          6.718804359436035,
          15.314188957214355,
          9.715197563171387,
          13.83144760131836,
          -21.31279182434082,
          -15.929973602294922,
          -12.34557056427002,
          -17.84690284729004,
          -17.336196899414062,
          -14.148826599121094,
          15.367907524108887,
          -54.64588928222656,
          5.070858478546143,
          8.489469528198242,
          12.694212913513184,
          -1.9331921339035034,
          9.535558700561523,
          -14.202471733093262,
          16.543216705322266,
          -0.6497886776924133,
          7.264461517333984,
          -26.35551643371582,
          -10.222125053405762,
          9.753274917602539,
          -17.964820861816406,
          -2.2654502391815186,
          1.074873447418213,
          -19.855836868286133,
          -12.633027076721191,
          18.60999870300293,
          -5.4298553466796875,
          -7.2837910652160645,
          -1.6969056129455566,
          24.89520263671875,
          17.437868118286133,
          12.349064826965332,
          14.076065063476562,
          24.281517028808594,
          -7.157585620880127,
          -12.437569618225098,
          -8.612153053283691,
          26.342697143554688,
          -6.264006614685059,
          -1.2293025255203247,
          -14.758145332336426,
          -14.196128845214844,
          -8.846820831298828,
          -3.262173891067505,
          -9.636725425720215,
          -4.0504841804504395,
          12.868700981140137,
          -7.9400224685668945,
          -14.946611404418945,
          7.146729469299316,
          -20.523977279663086,
          -4.648872375488281,
          5.041963577270508,
          1.5141348838806152,
          -3.054758071899414,
          11.762500762939453,
          0.9331255555152893,
          27.63615608215332,
          -19.408119201660156,
          3.6159846782684326,
          -5.675873279571533,
          -8.693353652954102,
          1.620337963104248,
          21.693695068359375,
          25.045265197753906,
          19.467992782592773,
          22.760366439819336,
          -8.574868202209473,
          9.81497573852539,
          20.006263732910156,
          18.937192916870117,
          12.542302131652832,
          10.895339012145996,
          19.975366592407227,
          26.792688369750977,
          17.552528381347656,
          12.486987113952637,
          -6.737035274505615,
          19.469919204711914,
          13.253941535949707,
          -1.7063583135604858,
          19.54410743713379,
          4.787214279174805,
          8.492084503173828,
          -1.2968777418136597,
          -6.2412638664245605,
          -17.162626266479492,
          -11.040080070495605,
          -11.05362319946289,
          -8.600902557373047,
          1.0535743236541748,
          -7.575540065765381,
          -13.16185188293457,
          -23.77920150756836,
          -9.088484764099121,
          -3.1959691047668457,
          -12.226264953613281,
          -16.335674285888672,
          -15.965961456298828,
          -3.088458776473999,
          8.247735977172852,
          -13.371475219726562,
          7.730188369750977,
          -6.864955902099609,
          -3.387094497680664,
          7.75867223739624,
          -14.185596466064453,
          -5.20920991897583,
          -19.553241729736328,
          -7.281436443328857,
          11.69748306274414,
          -29.760175704956055,
          -15.480637550354004,
          -13.06450366973877,
          6.641496181488037,
          15.379335403442383,
          -0.9419776201248169,
          18.857955932617188,
          16.79210662841797,
          8.774239540100098,
          0.5824056267738342,
          3.03886342048645,
          13.936184883117676,
          -16.901369094848633,
          -3.4682507514953613,
          0.09963618218898773,
          -4.548032283782959,
          -1.2393345832824707,
          1.2297862768173218,
          15.986251831054688,
          26.37457847595215,
          16.251544952392578,
          3.278670072555542,
          -4.765725135803223,
          13.236517906188965,
          -10.437905311584473,
          7.919170379638672,
          0.2065112441778183,
          -9.352057456970215,
          -25.465133666992188,
          -9.956982612609863,
          0.9180564284324646,
          -9.708382606506348,
          -6.551511764526367,
          -13.374382972717285,
          4.947424411773682,
          -10.270743370056152,
          -31.977985382080078,
          -3.265922784805298,
          23.393951416015625,
          -14.039620399475098,
          -13.24039363861084,
          3.248265027999878,
          -4.396985054016113,
          6.899441242218018,
          20.257387161254883,
          1.5013782978057861,
          -5.185886383056641,
          0.009306094609200954,
          -16.156253814697266,
          7.557497024536133,
          0.656844973564148,
          -26.795433044433594,
          -2.9563114643096924,
          -11.668395042419434,
          -12.660808563232422,
          17.2264461517334,
          -12.486170768737793,
          12.471007347106934,
          -6.617630481719971,
          6.478522777557373,
          -6.919576644897461,
          11.643742561340332,
          21.365352630615234,
          13.636719703674316,
          16.801380157470703,
          7.856308460235596,
          18.126585006713867,
          26.829059600830078,
          10.631884574890137,
          23.712631225585938,
          -3.205758571624756,
          1.8617008924484253,
          14.503034591674805,
          3.9634573459625244,
          -0.3321632742881775,
          -19.003421783447266,
          7.4271392822265625,
          -5.351630687713623,
          -16.088394165039062,
          25.22601318359375,
          -0.09533097594976425,
          -14.401507377624512,
          -7.155760288238525,
          13.262018203735352,
          21.65630531311035,
          8.897485733032227,
          -28.792728424072266,
          -15.341063499450684,
          -15.479026794433594,
          -14.888819694519043,
          -1.7793142795562744,
          -5.349027633666992,
          6.7765278816223145,
          8.715678215026855,
          -11.543471336364746,
          -5.293365478515625,
          10.109491348266602,
          17.747699737548828,
          25.67875099182129,
          -11.82914924621582,
          18.63315200805664,
          -14.653762817382812,
          14.61146354675293,
          -10.528834342956543,
          -11.092691421508789,
          -1.8051170110702515,
          0.15107277035713196,
          0.08596686273813248,
          8.269453048706055,
          1.4437637329101562,
          20.551816940307617,
          -4.172794342041016,
          25.23642349243164,
          17.059356689453125,
          7.382934093475342,
          17.35338592529297,
          -3.5811543464660645,
          5.218534469604492,
          6.327535629272461,
          0.4714111089706421,
          13.299798965454102,
          -54.90676498413086,
          23.115812301635742,
          4.517632484436035,
          9.669013023376465,
          28.078458786010742,
          -9.40008544921875,
          6.352231502532959,
          23.957773208618164,
          25.548128128051758,
          10.951743125915527,
          -2.5984368324279785,
          -2.3564655780792236,
          10.756720542907715,
          -7.38838529586792,
          -6.462739944458008,
          12.089173316955566,
          2.749521017074585,
          -0.04007535055279732,
          -9.242513656616211,
          15.626944541931152,
          22.91169548034668,
          20.955671310424805,
          21.937734603881836,
          -7.285306930541992,
          -33.45405197143555,
          17.57926368713379,
          -3.8233482837677,
          15.969463348388672,
          -1.560246229171753,
          -11.68923568725586,
          -2.0778865814208984,
          9.807766914367676,
          9.145203590393066,
          -10.247798919677734,
          -54.50084686279297,
          -20.6982364654541,
          21.505821228027344,
          9.477264404296875,
          8.622472763061523,
          5.281470775604248,
          -21.236970901489258,
          -3.788736343383789,
          -24.387393951416016,
          -19.399282455444336,
          10.115696907043457,
          9.99974536895752,
          1.3287460803985596,
          16.521642684936523,
          1.311010718345642,
          7.2558183670043945,
          12.53707504272461,
          -4.993429660797119,
          20.37447738647461,
          14.398344039916992,
          7.290652751922607,
          -33.17005157470703,
          -8.788656234741211,
          -14.496285438537598,
          -14.025251388549805,
          -21.26227378845215,
          -14.444007873535156,
          -30.629249572753906,
          -7.456680774688721,
          -5.94067907333374,
          26.776634216308594,
          24.013629913330078,
          1.964617371559143,
          12.319515228271484,
          9.237489700317383,
          12.82667064666748,
          5.926445007324219,
          17.45864486694336,
          20.027793884277344,
          23.44702911376953,
          -12.270498275756836,
          18.965913772583008,
          7.998485565185547,
          -5.944960117340088,
          6.945744037628174,
          23.484804153442383,
          23.613189697265625,
          27.550146102905273,
          23.206064224243164,
          -5.503276824951172,
          -9.726240158081055,
          -7.729129791259766,
          -6.03317928314209,
          -16.5424861907959,
          -4.562384605407715,
          21.641727447509766,
          -6.366728782653809,
          -10.759430885314941,
          -17.657411575317383,
          -17.895187377929688,
          17.267990112304688,
          -2.8191323280334473,
          15.505810737609863,
          -13.667255401611328,
          0.9707580208778381,
          2.708972454071045,
          -12.397322654724121,
          21.576539993286133,
          -2.5602331161499023,
          -9.124428749084473,
          22.639328002929688,
          -2.4117486476898193,
          -19.95966911315918,
          -22.329879760742188,
          -27.234630584716797,
          -14.040461540222168,
          -8.922035217285156,
          0.7486993074417114,
          -27.62513542175293,
          -11.873139381408691,
          -8.288140296936035,
          -8.712851524353027,
          -7.7272047996521,
          -15.429271697998047,
          22.827516555786133,
          11.334501266479492,
          -9.55894947052002,
          -9.261495590209961,
          -3.8151588439941406,
          21.98440170288086,
          -20.220399856567383,
          -25.797399520874023,
          0.9524389505386353,
          -6.315750598907471,
          -30.03177261352539,
          20.59304428100586,
          7.012811183929443,
          -15.359291076660156,
          -25.298505783081055,
          -1.0858906507492065,
          0.15943863987922668,
          -19.67682647705078,
          -11.018603324890137,
          -11.695399284362793,
          -15.41879653930664,
          13.905227661132812,
          4.932957649230957,
          2.268611431121826,
          5.193325042724609,
          0.8836779594421387,
          17.892818450927734,
          1.6955127716064453,
          13.317215919494629,
          10.907449722290039,
          -16.956857681274414,
          1.0817373991012573,
          -6.4503302574157715,
          -9.922000885009766,
          -21.93526840209961,
          8.250768661499023,
          -16.650224685668945,
          0.36182984709739685,
          13.661224365234375,
          -15.073738098144531,
          4.882067680358887,
          1.9242488145828247,
          -9.828177452087402,
          -13.110365867614746,
          -3.468935966491699,
          1.8747516870498657,
          12.656294822692871,
          -26.16969108581543,
          3.864900588989258,
          -15.599029541015625,
          -33.557716369628906,
          -16.607446670532227,
          -28.6221981048584,
          14.125578880310059,
          -9.345683097839355,
          -4.756769180297852,
          8.301261901855469,
          -0.6968701481819153,
          3.9488563537597656,
          13.622177124023438,
          -17.517581939697266,
          18.814355850219727,
          19.397056579589844,
          -10.619937896728516,
          -56.459228515625,
          3.610619306564331,
          7.133177280426025,
          -16.00547981262207,
          -32.20975875854492,
          -27.182735443115234,
          -56.72882843017578,
          -11.783531188964844,
          2.3363864421844482,
          -1.1194262504577637,
          -18.300296783447266,
          1.3289896249771118,
          -28.762916564941406,
          -1.1439707279205322,
          -26.10800552368164,
          -19.309717178344727,
          -29.113754272460938,
          2.1750755310058594,
          -6.534392833709717,
          7.395992755889893,
          -8.207935333251953,
          -29.224000930786133,
          21.291004180908203,
          -29.35664939880371,
          7.658786773681641,
          -54.71782302856445,
          -0.4253638684749603,
          12.926909446716309,
          -12.356878280639648,
          27.234058380126953,
          -31.246620178222656,
          -2.4867937564849854,
          -33.33235549926758,
          -11.562877655029297,
          20.72911834716797,
          -52.94167709350586,
          -29.98368263244629,
          -28.491283416748047,
          -56.867610931396484,
          -29.581340789794922,
          12.482942581176758,
          -4.439226150512695,
          9.112195014953613,
          -16.674448013305664,
          -28.837646484375,
          -28.891319274902344,
          -51.52824020385742,
          0.30094218254089355,
          -53.02470397949219,
          17.37749481201172,
          -28.585798263549805,
          10.104021072387695,
          0.42315781116485596,
          11.797602653503418,
          11.14815902709961,
          -33.21886444091797,
          -11.852424621582031,
          -29.886537551879883,
          -1.293872594833374,
          -29.837642669677734,
          -28.378631591796875,
          -51.762245178222656,
          -29.797231674194336,
          14.703152656555176,
          15.601232528686523,
          -3.187406063079834,
          0.4894852042198181,
          -27.59105110168457,
          25.931737899780273,
          -29.114667892456055,
          -29.668466567993164,
          8.004137992858887,
          -20.573673248291016,
          -29.30451774597168,
          -0.4024551808834076,
          3.7164359092712402,
          -17.941083908081055,
          21.976318359375,
          -28.393239974975586,
          -24.265567779541016,
          -16.248653411865234,
          10.343515396118164,
          2.9893367290496826,
          -16.448511123657227,
          14.989267349243164,
          11.1607666015625,
          -16.186206817626953,
          -16.244470596313477,
          -15.379448890686035,
          -23.582454681396484,
          14.30031681060791,
          17.479589462280273,
          10.788575172424316,
          -1.9366868734359741,
          11.154874801635742,
          -14.55155086517334,
          2.0326576232910156,
          16.36316680908203,
          -10.927392959594727,
          -1.0215200185775757,
          -2.4389443397521973,
          19.633861541748047,
          14.220751762390137,
          -11.49072551727295,
          -30.58068084716797,
          -3.660712480545044,
          -1.3761887550354004,
          -5.622382164001465,
          -31.497516632080078,
          -2.6874358654022217,
          -9.769693374633789,
          -5.46244478225708,
          -18.28260040283203,
          -5.099799633026123,
          22.666614532470703,
          -19.306093215942383,
          -23.51276397705078,
          6.850937843322754,
          -2.322709083557129,
          -3.8193323612213135,
          -3.9404733180999756,
          -4.806855201721191,
          6.9327239990234375,
          -24.9637508392334,
          14.698351860046387,
          8.69411563873291,
          0.6189796924591064,
          13.174506187438965,
          -27.089824676513672,
          -55.3310432434082,
          10.225631713867188,
          -1.8934577703475952,
          -55.420204162597656,
          -15.18989086151123,
          -7.399415493011475,
          -5.915145397186279,
          -7.357667922973633,
          -2.036039352416992,
          -4.119577407836914,
          2.591096878051758,
          -14.853318214416504,
          26.953670501708984,
          -14.006584167480469,
          -52.17599868774414,
          12.824063301086426,
          17.59437370300293,
          5.904425144195557,
          17.913101196289062,
          29.000154495239258,
          -10.968473434448242,
          -8.95180892944336,
          -10.985756874084473,
          24.992395401000977,
          -56.11355972290039,
          28.88343620300293,
          13.206825256347656,
          -10.5496187210083,
          -11.080864906311035,
          13.529769897460938,
          32.03284454345703,
          -52.69451904296875,
          -10.979737281799316,
          10.993865013122559,
          15.435113906860352,
          12.62049388885498,
          -6.528774261474609,
          -24.150815963745117,
          -16.480844497680664,
          -25.031841278076172,
          26.075105667114258,
          6.825006484985352,
          -0.6062418222427368,
          -12.19168758392334,
          -15.98991584777832,
          5.287205696105957,
          -4.101212501525879,
          -16.175264358520508,
          1.0948169231414795,
          18.645355224609375,
          4.3492350578308105,
          -1.5871303081512451,
          17.355628967285156,
          -29.304950714111328,
          -11.670369148254395,
          15.532307624816895,
          -25.955175399780273,
          1.9055501222610474,
          -56.997093200683594,
          2.134124279022217,
          -29.179187774658203,
          -51.70650863647461,
          17.56218719482422,
          -20.35517692565918,
          -2.409539222717285,
          -55.34381866455078,
          20.673852920532227,
          16.215253829956055,
          25.87662696838379,
          -28.805011749267578,
          -11.165375709533691,
          2.516277313232422,
          8.611349105834961,
          0.06473325937986374,
          -56.06864547729492,
          -10.58021354675293,
          -31.429880142211914,
          -53.2645149230957,
          9.37412166595459,
          25.74506950378418,
          -14.32616901397705,
          -6.728362560272217,
          -56.76382827758789,
          13.950143814086914,
          -16.044282913208008,
          -6.230713367462158,
          -2.8272197246551514,
          -53.921409606933594,
          -3.521596908569336,
          -3.4581098556518555,
          -6.0857319831848145,
          20.379066467285156,
          -55.31018829345703,
          18.82897186279297,
          -6.572258472442627,
          -4.388556957244873,
          -2.4600141048431396,
          -12.080636978149414,
          11.431562423706055,
          -12.530438423156738,
          21.414133071899414,
          -8.376051902770996,
          17.324865341186523,
          21.6173038482666,
          15.9359130859375,
          -14.420550346374512,
          -15.489550590515137,
          -32.34781265258789,
          19.485883712768555,
          -1.2104133367538452,
          -52.90355682373047,
          9.146093368530273,
          -33.353755950927734,
          -30.668806076049805,
          -33.705711364746094,
          -52.67980194091797,
          -31.91007423400879,
          -33.604766845703125,
          -57.47538757324219,
          -13.588593482971191,
          0.7695911526679993,
          -33.793556213378906,
          21.256200790405273,
          -0.3699260950088501,
          -33.504817962646484,
          25.72675132751465,
          -32.96764373779297,
          18.566072463989258,
          -31.99342155456543,
          -32.81352996826172,
          -31.465391159057617,
          -31.862638473510742,
          -33.00139236450195,
          -53.87950134277344,
          -54.90374755859375,
          -52.95246124267578,
          -33.75761413574219,
          -53.029537200927734,
          -31.89264678955078,
          -33.17659378051758,
          -32.37923812866211,
          -32.25885009765625,
          -33.125762939453125,
          -31.745725631713867,
          -32.795806884765625,
          0.24327437579631805,
          -33.03233337402344,
          -51.607948303222656,
          -53.7387580871582,
          -32.610557556152344,
          -56.398216247558594,
          -54.33430099487305,
          1.7359064817428589,
          -31.632783889770508,
          -32.96954345703125,
          -15.552454948425293,
          -14.88929557800293,
          -15.57070541381836,
          19.47969627380371,
          12.535926818847656,
          -53.61517333984375,
          14.057328224182129,
          -53.875091552734375,
          -16.755603790283203,
          -8.607524871826172,
          -13.690435409545898,
          -54.15555953979492,
          19.86028289794922,
          -55.59204864501953,
          11.442705154418945,
          -56.32178497314453,
          12.308836936950684,
          -13.057269096374512,
          -12.800599098205566,
          10.012497901916504,
          -24.24809455871582,
          -28.210742950439453,
          -12.610764503479004,
          -6.054364204406738,
          -13.180004119873047,
          -53.49457931518555,
          -54.91777420043945,
          -0.6947363615036011,
          10.649392127990723,
          12.455968856811523,
          -53.103782653808594,
          -55.79283142089844,
          -5.050907611846924,
          -27.439727783203125,
          -2.6206624507904053,
          19.657222747802734,
          -14.322175979614258,
          -12.716875076293945,
          -29.40971565246582,
          -2.9112439155578613,
          8.267683982849121,
          16.56264305114746,
          1.1983472108840942,
          -53.209693908691406,
          1.3038331270217896,
          1.005798101425171,
          -55.38245391845703,
          1.5769327878952026,
          1.0878262519836426,
          0.12682504951953888,
          1.0184404850006104,
          1.5142544507980347,
          1.5273916721343994,
          -53.885887145996094,
          9.69265079498291,
          9.166116714477539,
          -16.357343673706055,
          -54.118953704833984,
          6.094773769378662,
          1.672760248184204,
          -55.454185485839844,
          1.5405750274658203,
          -53.50149917602539,
          -54.48668670654297,
          -28.37974739074707,
          -54.12900924682617,
          -53.7684326171875,
          -15.267542839050293,
          -4.31758975982666,
          -4.9770965576171875,
          -3.7387683391571045,
          -28.54105567932129,
          -25.01787757873535,
          -27.421775817871094,
          -24.523351669311523,
          -24.272581100463867,
          -15.58199691772461,
          -54.749637603759766,
          -55.76260757446289,
          -16.150075912475586,
          -16.241804122924805,
          -24.3104305267334,
          -54.27109909057617,
          -27.52806854248047,
          -12.100554466247559,
          -1.183925747871399,
          24.733177185058594,
          -53.277400970458984,
          -24.94002914428711,
          -56.58173751831055,
          -28.24079704284668,
          -10.09788703918457,
          -14.36234188079834,
          -17.1519718170166,
          -1.84099543094635
         ],
         "xaxis": "x",
         "y": [
          10.204968452453613,
          21.862232208251953,
          16.710004806518555,
          11.44937515258789,
          24.195981979370117,
          -13.965307235717773,
          0.7263975739479065,
          0.07320024073123932,
          -2.6198842525482178,
          -7.122466087341309,
          12.343801498413086,
          0.39745938777923584,
          -22.133296966552734,
          -18.1934757232666,
          7.639925956726074,
          -8.900190353393555,
          11.622212409973145,
          -6.677214622497559,
          -13.281160354614258,
          -19.500093460083008,
          -1.953445553779602,
          23.87590980529785,
          -7.876687049865723,
          14.36023235321045,
          -14.241178512573242,
          13.380318641662598,
          19.19086265563965,
          9.102089881896973,
          15.25768756866455,
          -15.166440963745117,
          23.265573501586914,
          -15.057183265686035,
          9.973944664001465,
          5.801526069641113,
          12.922335624694824,
          3.657047986984253,
          -8.219318389892578,
          9.32606029510498,
          -12.325199127197266,
          5.256843090057373,
          2.999976396560669,
          1.57996666431427,
          2.3254122734069824,
          -4.505826950073242,
          -15.072078704833984,
          -6.109114170074463,
          -23.967313766479492,
          -2.921722412109375,
          2.4319465160369873,
          22.386123657226562,
          16.713781356811523,
          -15.813469886779785,
          -2.64560604095459,
          21.32785415649414,
          -6.59492826461792,
          0.6549253463745117,
          -10.711647987365723,
          2.6561708450317383,
          -12.075444221496582,
          -11.90185546875,
          -12.554628372192383,
          21.535396575927734,
          20.683317184448242,
          -0.3283180296421051,
          -11.905742645263672,
          26.487791061401367,
          12.838427543640137,
          10.783531188964844,
          9.063349723815918,
          -5.622107028961182,
          18.07370948791504,
          21.930280685424805,
          21.96857261657715,
          11.916435241699219,
          2.9876508712768555,
          11.209145545959473,
          25.223995208740234,
          12.169051170349121,
          22.819995880126953,
          12.197446823120117,
          -0.423304945230484,
          22.408248901367188,
          4.114944934844971,
          1.8772565126419067,
          18.49434471130371,
          -17.664722442626953,
          4.133981704711914,
          23.153810501098633,
          -5.380319118499756,
          10.734556198120117,
          -10.2202730178833,
          -15.251540184020996,
          -22.77234649658203,
          21.54218292236328,
          22.77176284790039,
          21.641189575195312,
          9.040656089782715,
          10.838679313659668,
          5.698393821716309,
          -8.541865348815918,
          20.594125747680664,
          20.742460250854492,
          -1.505847454071045,
          -1.9233384132385254,
          19.815475463867188,
          12.577922821044922,
          3.288668394088745,
          -10.468887329101562,
          -14.971070289611816,
          19.68349266052246,
          4.537177562713623,
          9.382887840270996,
          -10.009121894836426,
          -0.8190847635269165,
          10.870489120483398,
          -17.13709831237793,
          24.435588836669922,
          26.971858978271484,
          -8.489276885986328,
          9.22906494140625,
          26.272436141967773,
          -4.438669204711914,
          -14.950319290161133,
          -19.16834831237793,
          25.34512710571289,
          -16.530107498168945,
          0.9847120046615601,
          17.03107452392578,
          9.68532943725586,
          -1.6904277801513672,
          -6.02966833114624,
          2.914998769760132,
          6.237416744232178,
          -7.858177185058594,
          -5.327368259429932,
          -7.275161266326904,
          -18.830121994018555,
          16.345258712768555,
          21.167224884033203,
          16.73670768737793,
          4.598029613494873,
          4.661780834197998,
          6.0020904541015625,
          14.778937339782715,
          15.464574813842773,
          -11.4954833984375,
          14.588090896606445,
          25.034791946411133,
          -15.680681228637695,
          -5.59757137298584,
          8.242177963256836,
          8.11063003540039,
          9.039188385009766,
          -0.4784534275531769,
          26.74563217163086,
          -1.9250832796096802,
          2.7387096881866455,
          15.265654563903809,
          5.773322582244873,
          -7.049864292144775,
          25.08078384399414,
          4.967120170593262,
          14.21353530883789,
          22.781137466430664,
          -0.17179633677005768,
          5.891871452331543,
          14.182292938232422,
          0.4529320299625397,
          -8.722649574279785,
          -12.129928588867188,
          -17.974830627441406,
          22.065879821777344,
          21.826261520385742,
          22.845182418823242,
          -3.2529802322387695,
          14.294112205505371,
          8.734732627868652,
          4.5871500968933105,
          -5.307625770568848,
          -5.954191207885742,
          22.17571258544922,
          -0.5669205784797668,
          13.911030769348145,
          13.376038551330566,
          -3.641641855239868,
          19.510324478149414,
          -1.1477417945861816,
          -1.0040339231491089,
          -0.03718156740069389,
          -3.1377923488616943,
          4.529603481292725,
          -3.1400837898254395,
          6.598386287689209,
          7.168303966522217,
          21.460208892822266,
          12.34988784790039,
          -6.070713520050049,
          -1.691542387008667,
          4.020043849945068,
          0.7748789191246033,
          -3.796771287918091,
          15.045492172241211,
          11.917304992675781,
          23.376022338867188,
          14.326557159423828,
          -13.819950103759766,
          -11.815102577209473,
          5.972599506378174,
          -6.636730194091797,
          22.878398895263672,
          4.388278961181641,
          -9.596969604492188,
          -16.49942398071289,
          13.144774436950684,
          24.984458923339844,
          8.510072708129883,
          21.747943878173828,
          4.3290205001831055,
          14.734021186828613,
          0.8097063302993774,
          -9.903458595275879,
          20.36478614807129,
          2.8974058628082275,
          -4.035336971282959,
          4.7082719802856445,
          14.48342514038086,
          21.061737060546875,
          20.932327270507812,
          17.849929809570312,
          20.631366729736328,
          21.84234046936035,
          22.21907615661621,
          13.108622550964355,
          4.930080413818359,
          -18.224611282348633,
          -1.2290403842926025,
          16.78371810913086,
          -4.549459457397461,
          23.044950485229492,
          -0.14899472892284393,
          24.658193588256836,
          -18.47021484375,
          14.489133834838867,
          -8.126810073852539,
          -18.24662208557129,
          7.1184916496276855,
          4.487476825714111,
          0.8872919678688049,
          12.036815643310547,
          -18.993091583251953,
          -18.673391342163086,
          19.478960037231445,
          -9.583919525146484,
          16.392988204956055,
          25.931032180786133,
          -2.1404521465301514,
          18.245996475219727,
          -21.640954971313477,
          11.953756332397461,
          -9.07279109954834,
          11.38776683807373,
          -8.55977725982666,
          -2.4169414043426514,
          -11.412503242492676,
          24.602834701538086,
          3.0781302452087402,
          7.116810321807861,
          -23.138898849487305,
          -16.58475685119629,
          -20.505245208740234,
          -17.767070770263672,
          10.133530616760254,
          27.713459014892578,
          -15.678507804870605,
          -21.204036712646484,
          7.737284183502197,
          -13.671630859375,
          -8.24699878692627,
          18.264842987060547,
          24.545896530151367,
          26.751163482666016,
          -14.97736930847168,
          14.02007007598877,
          -19.265396118164062,
          -23.5854434967041,
          -13.921541213989258,
          -20.83665657043457,
          -5.368537902832031,
          17.1208553314209,
          16.664199829101562,
          -14.443802833557129,
          7.464532852172852,
          17.17531967163086,
          10.620394706726074,
          -12.989935874938965,
          -7.550553321838379,
          7.703532695770264,
          -13.885970115661621,
          -21.71769905090332,
          -15.749364852905273,
          -1.4085499048233032,
          -23.15424346923828,
          -20.848846435546875,
          -19.275041580200195,
          -13.268177032470703,
          -20.5371150970459,
          -14.541358947753906,
          -13.925058364868164,
          -20.63874053955078,
          -18.37900733947754,
          -17.73270034790039,
          -21.768396377563477,
          -1.0725970268249512,
          -23.547578811645508,
          -23.494335174560547,
          -7.730025291442871,
          0.5307828187942505,
          -24.74782943725586,
          -8.239510536193848,
          -19.502531051635742,
          24.359819412231445,
          25.270273208618164,
          -22.220619201660156,
          15.564576148986816,
          24.0745792388916,
          -15.406203269958496,
          -22.33161735534668,
          -15.916539192199707,
          -1.449548602104187,
          -19.781930923461914,
          -19.685121536254883,
          -21.060714721679688,
          -20.84984016418457,
          -3.2838964462280273,
          4.466178894042969,
          -13.939949035644531,
          2.5900230407714844,
          -17.002986907958984,
          -22.153545379638672,
          -20.032154083251953,
          11.849811553955078,
          -17.465564727783203,
          -18.948572158813477,
          -22.870290756225586,
          -20.691598892211914,
          10.124098777770996,
          -16.258893966674805,
          -17.613985061645508,
          -18.847803115844727,
          -1.4446905851364136,
          4.042922019958496,
          -9.516548156738281,
          -7.714763641357422,
          -12.83515453338623,
          26.82210922241211,
          2.4939541816711426,
          -1.6966606378555298,
          -19.636945724487305,
          -15.598814010620117,
          -9.40792179107666,
          8.018256187438965,
          -15.80704116821289,
          10.415350914001465,
          2.4159626960754395,
          18.669919967651367,
          -3.495969533920288,
          13.45424747467041,
          5.587551116943359,
          8.375733375549316,
          0.8683318495750427,
          -1.929502248764038,
          13.421173095703125,
          -3.749692678451538,
          -7.655244827270508,
          2.4324564933776855,
          14.66828441619873,
          10.68136215209961,
          -12.757193565368652,
          20.132505416870117,
          -12.382574081420898,
          -1.1501858234405518,
          2.4085023403167725,
          14.153826713562012,
          23.702611923217773,
          -1.0057284832000732,
          -7.084774971008301,
          20.207958221435547,
          18.341064453125,
          -4.417045593261719,
          15.61400032043457,
          18.373977661132812,
          24.58262825012207,
          0.802874743938446,
          19.33086395263672,
          -15.246809959411621,
          19.70665740966797,
          6.2376861572265625,
          20.734601974487305,
          12.924407958984375,
          1.2901302576065063,
          26.55171012878418,
          14.499177932739258,
          6.320247650146484,
          24.872745513916016,
          6.25484037399292,
          5.0003437995910645,
          -6.494691371917725,
          -4.4170942306518555,
          3.3405277729034424,
          -15.536165237426758,
          0.9375152587890625,
          -1.2876631021499634,
          -5.47172737121582,
          18.919904708862305,
          10.50808334350586,
          20.118572235107422,
          17.988523483276367,
          22.402135848999023,
          1.1007415056228638,
          -1.596782922744751,
          -3.9195027351379395,
          6.1807966232299805,
          -0.04068334400653839,
          -4.877948760986328,
          20.5633544921875,
          2.378544569015503,
          -24.262941360473633,
          7.396322727203369,
          -14.493245124816895,
          19.517061233520508,
          -10.595869064331055,
          -0.0609896220266819,
          14.19593334197998,
          7.474354267120361,
          2.176515579223633,
          4.333505630493164,
          7.622841835021973,
          3.336909294128418,
          8.615388870239258,
          3.341902732849121,
          7.020203113555908,
          5.804807662963867,
          -2.7981131076812744,
          10.574840545654297,
          8.642220497131348,
          0.6360718607902527,
          -2.504777193069458,
          4.2147536277771,
          4.027660846710205,
          21.36066246032715,
          7.2392449378967285,
          17.17714500427246,
          24.10613441467285,
          10.725576400756836,
          10.118810653686523,
          8.854625701904297,
          -19.443050384521484,
          6.33658504486084,
          -7.533607482910156,
          3.9589767456054688,
          -3.868208885192871,
          -14.527437210083008,
          -3.7492733001708984,
          8.464828491210938,
          -7.650901794433594,
          9.481739044189453,
          20.848726272583008,
          -8.685465812683105,
          13.094898223876953,
          5.609447002410889,
          17.371938705444336,
          -15.887272834777832,
          -4.484061241149902,
          -21.34005355834961,
          9.433257102966309,
          7.5012593269348145,
          -6.455593109130859,
          -4.793143272399902,
          -3.6353368759155273,
          -5.114706993103027,
          6.282405853271484,
          -0.5990339517593384,
          -3.7358407974243164,
          -4.6328253746032715,
          2.2987024784088135,
          -9.22842788696289,
          -16.73468780517578,
          -12.219308853149414,
          -14.135169982910156,
          6.009557247161865,
          4.096835613250732,
          -3.572301149368286,
          -2.56138277053833,
          22.687767028808594,
          0.4951494336128235,
          5.45271110534668,
          2.7313125133514404,
          6.269765853881836,
          7.518308639526367,
          6.019323825836182,
          8.15673542022705,
          -2.028853178024292,
          0.5691085457801819,
          5.761019229888916,
          -1.7603540420532227,
          -8.047531127929688,
          -21.448633193969727,
          -10.826059341430664,
          3.0192761421203613,
          1.445279836654663,
          -7.366352081298828,
          -9.561430931091309,
          -9.891997337341309,
          -11.00053596496582,
          -5.342706680297852,
          -0.7553154230117798,
          -4.3037848472595215,
          -7.68260383605957,
          8.300047874450684,
          -3.3329615592956543,
          -12.238938331604004,
          -11.952957153320312,
          -5.853639125823975,
          -3.4946584701538086,
          8.113872528076172,
          3.700183391571045,
          -11.679057121276855,
          -17.39769744873047,
          2.4413957595825195,
          1.123364806175232,
          -21.73055648803711,
          -17.473285675048828,
          -6.952847003936768,
          24.63007164001465,
          -21.016191482543945,
          -4.6342291831970215,
          -18.541719436645508,
          10.94342041015625,
          5.757081508636475,
          21.05545997619629,
          17.828996658325195,
          -5.320725917816162,
          -11.757184028625488,
          1.3265312910079956,
          19.99298667907715,
          -15.989069938659668,
          -10.115691184997559,
          6.93146276473999,
          14.493061065673828,
          5.531668186187744,
          5.0348429679870605,
          1.2544587850570679,
          9.791560173034668,
          6.499206066131592,
          -2.1878175735473633,
          -9.453695297241211,
          -3.4077136516571045,
          13.576248168945312,
          19.897340774536133,
          17.553787231445312,
          6.580029487609863,
          15.458341598510742,
          14.157693862915039,
          18.153118133544922,
          19.6030330657959,
          8.685056686401367,
          23.191381454467773,
          2.589536666870117,
          4.38317346572876,
          19.66070556640625,
          3.2517168521881104,
          6.308940410614014,
          4.619863986968994,
          16.91948127746582,
          13.359092712402344,
          10.441973686218262,
          20.249425888061523,
          12.378344535827637,
          -11.115612983703613,
          -0.30803346633911133,
          -9.42784309387207,
          -1.1214587688446045,
          11.455585479736328,
          15.622296333312988,
          19.173452377319336,
          11.10206413269043,
          9.774699211120605,
          -17.165613174438477,
          12.197399139404297,
          16.943069458007812,
          -1.7264422178268433,
          -10.974267959594727,
          -9.326325416564941,
          15.67319393157959,
          17.392986297607422,
          24.31687355041504,
          -2.4520962238311768,
          5.464317321777344,
          5.116581916809082,
          12.611023902893066,
          1.9952833652496338,
          -2.039569139480591,
          -16.013723373413086,
          -21.223310470581055,
          -13.320466995239258,
          0.8809489607810974,
          -10.448046684265137,
          -11.935616493225098,
          -19.31538200378418,
          -12.14789867401123,
          4.646785259246826,
          -0.7557560801506042,
          13.357696533203125,
          -15.681045532226562,
          -11.570148468017578,
          -4.564176559448242,
          -5.555652141571045,
          16.33712387084961,
          -12.920206069946289,
          10.205881118774414,
          -9.942607879638672,
          13.98328971862793,
          20.13605499267578,
          8.588101387023926,
          -14.354659080505371,
          20.53757095336914,
          17.27311134338379,
          1.207015037536621,
          7.981405735015869,
          -9.374019622802734,
          -0.4322609603404999,
          -1.576809048652649,
          -0.1384430229663849,
          -2.0287506580352783,
          15.454887390136719,
          -13.492218017578125,
          -9.672388076782227,
          -8.715351104736328,
          -14.043440818786621,
          -9.77704906463623,
          -0.1416284292936325,
          -3.349820852279663,
          -22.50468635559082,
          2.164323329925537,
          0.38319993019104004,
          -9.434405326843262,
          -7.064024925231934,
          -2.882075309753418,
          -3.2391510009765625,
          0.8112373948097229,
          -19.759521484375,
          -4.077412128448486,
          -5.192910671234131,
          6.741150379180908,
          -11.43489933013916,
          -8.277968406677246,
          22.115615844726562,
          2.7981066703796387,
          4.5912699699401855,
          -0.3288287818431854,
          22.104156494140625,
          4.5201287269592285,
          -17.070194244384766,
          7.321868896484375,
          5.315858364105225,
          6.391241073608398,
          -2.119229793548584,
          5.233808994293213,
          13.631331443786621,
          -19.572267532348633,
          2.944873094558716,
          0.5511938333511353,
          2.0424368381500244,
          -3.5289392471313477,
          -21.481124877929688,
          7.0233635902404785,
          25.28047752380371,
          -3.3672373294830322,
          3.070491313934326,
          -21.97345542907715,
          -15.011104583740234,
          8.356184005737305,
          19.15300750732422,
          17.334341049194336,
          13.822296142578125,
          12.52892017364502,
          -5.483254909515381,
          -18.38819122314453,
          -16.890342712402344,
          9.26313304901123,
          25.30879020690918,
          -1.906032681465149,
          -15.853447914123535,
          1.3726463317871094,
          -13.667606353759766,
          -19.382062911987305,
          -19.020606994628906,
          7.820043087005615,
          -3.112020254135132,
          -0.267375648021698,
          13.187098503112793,
          4.752662181854248,
          -10.743951797485352,
          6.813722610473633,
          3.235668182373047,
          -11.675289154052734,
          -19.72984504699707,
          -18.71540641784668,
          12.335322380065918,
          2.399914503097534,
          8.281610488891602,
          -16.419389724731445,
          -11.809749603271484,
          -19.555538177490234,
          7.379213809967041,
          6.831751346588135,
          2.167402982711792,
          2.839240074157715,
          20.167776107788086,
          14.544919967651367,
          15.096189498901367,
          -0.3500010073184967,
          2.6591298580169678,
          9.218199729919434,
          -5.598330974578857,
          10.903722763061523,
          17.031003952026367,
          24.41231346130371,
          -7.071671009063721,
          13.401640892028809,
          25.371152877807617,
          2.6054749488830566,
          1.6329753398895264,
          12.302775382995605,
          -8.175131797790527,
          -7.741014003753662,
          6.270008563995361,
          25.344396591186523,
          -13.396159172058105,
          -1.9446287155151367,
          24.599824905395508,
          2.3652093410491943,
          -21.428466796875,
          -3.040545701980591,
          11.30778694152832,
          10.046113967895508,
          10.343019485473633,
          -17.732851028442383,
          -17.035919189453125,
          -11.419857025146484,
          -14.753084182739258,
          -7.774902820587158,
          13.180352210998535,
          19.127092361450195,
          11.020689010620117,
          -7.033535957336426,
          7.261744976043701,
          3.9433727264404297,
          3.9974424839019775,
          10.65135669708252,
          -12.050606727600098,
          22.353628158569336,
          5.653874397277832,
          1.2334835529327393,
          -10.276494026184082,
          -4.924017429351807,
          10.479009628295898,
          15.048401832580566,
          -23.0869197845459,
          1.356015920639038,
          -10.995543479919434,
          -15.57588005065918,
          4.517744064331055,
          7.353469371795654,
          0.7945435643196106,
          6.834099292755127,
          -7.993290424346924,
          10.8345947265625,
          6.713128566741943,
          11.05754280090332,
          -17.08763885498047,
          18.47291374206543,
          5.543510913848877,
          5.138203144073486,
          -5.414827823638916,
          7.10500955581665,
          6.609204292297363,
          6.353071689605713,
          8.79996395111084,
          9.034680366516113,
          -6.320571422576904,
          -18.892366409301758,
          26.456708908081055,
          13.147293090820312,
          23.24078941345215,
          15.796483993530273,
          -8.720794677734375,
          -11.126578330993652,
          5.334477424621582,
          1.130708932876587,
          7.868617057800293,
          3.4712257385253906,
          9.012392044067383,
          5.18372917175293,
          2.7907521724700928,
          1.6997624635696411,
          8.49036979675293,
          24.719268798828125,
          8.749018669128418,
          -11.891715049743652,
          20.296401977539062,
          -17.607418060302734,
          6.964778900146484,
          18.6754150390625,
          -2.215754270553589,
          5.3624043464660645,
          -8.259045600891113,
          10.770931243896484,
          14.248319625854492,
          20.450756072998047,
          -3.420515298843384,
          16.344022750854492,
          -5.547906875610352,
          16.231365203857422,
          1.6606652736663818,
          13.299983978271484,
          1.0648798942565918,
          16.16318702697754,
          6.438963890075684,
          -12.505311012268066,
          -2.5240540504455566,
          -7.728541851043701,
          12.00998592376709,
          -16.531509399414062,
          -21.78071403503418,
          9.559356689453125,
          -3.0433175563812256,
          11.734977722167969,
          16.515504837036133,
          17.020132064819336,
          21.320226669311523,
          -7.200553894042969,
          0.036711595952510834,
          -1.4492937326431274,
          6.5811238288879395,
          3.6136727333068848,
          4.206855773925781,
          8.25755786895752,
          2.7855286598205566,
          -9.03610610961914,
          3.445908546447754,
          -3.3160736560821533,
          -14.627094268798828,
          -6.732477188110352,
          -10.11527156829834,
          6.202116012573242,
          5.541810989379883,
          2.888789176940918,
          -2.2534584999084473,
          -7.540543079376221,
          18.527189254760742,
          -12.671333312988281,
          -10.287199974060059,
          -11.570369720458984,
          24.71836280822754,
          -16.97347068786621,
          1.9771265983581543,
          17.620229721069336,
          -15.687516212463379,
          9.618417739868164,
          -10.330670356750488,
          -15.8311185836792,
          -17.949737548828125,
          -4.838119983673096,
          -20.392070770263672,
          -11.218961715698242,
          -20.85017204284668,
          -18.268356323242188,
          -14.604846954345703,
          -21.31483268737793,
          -4.927330017089844,
          -6.772350311279297,
          -9.765303611755371,
          -2.7198615074157715,
          -16.45003318786621,
          -19.433496475219727,
          -16.623592376708984,
          -14.843459129333496,
          3.1103265285491943,
          -5.621037483215332,
          10.961806297302246,
          3.194871425628662,
          10.726883888244629,
          -20.389089584350586,
          -10.552356719970703,
          7.688164710998535,
          -16.054359436035156,
          -17.1106014251709,
          1.6655354499816895,
          6.737968444824219,
          -10.703577041625977,
          -14.59094524383545,
          -11.807558059692383,
          -6.987771987915039,
          -10.629412651062012,
          3.3594892024993896,
          7.717230319976807,
          -13.432564735412598,
          -5.4948649406433105,
          3.057077169418335,
          -17.14952278137207,
          -5.644764423370361,
          13.998323440551758,
          -0.2528468370437622,
          -0.5946196913719177,
          -7.284499168395996,
          16.025379180908203,
          -7.305593967437744,
          -0.877387285232544,
          -2.817328453063965,
          -10.205385208129883,
          -13.111741065979004,
          -13.002350807189941,
          -13.084614753723145,
          18.579166412353516,
          -13.260907173156738,
          19.421239852905273,
          4.545536994934082,
          14.195423126220703,
          1.965865969657898,
          18.41445541381836,
          2.4378180503845215,
          9.469413757324219,
          -6.357416152954102,
          6.8229475021362305,
          -17.018543243408203,
          -15.761487007141113,
          12.564801216125488,
          0.6353707313537598,
          7.8560333251953125,
          -1.6990517377853394,
          7.328389644622803,
          22.368995666503906,
          4.376854419708252,
          18.024843215942383,
          -9.231026649475098,
          -0.09389360249042511,
          -4.022347927093506,
          -8.962278366088867,
          0.978661835193634,
          -4.895282745361328,
          -1.790295958518982,
          5.352375507354736,
          -12.934480667114258,
          -5.119502067565918,
          -5.559355735778809,
          -2.0093016624450684,
          -11.942510604858398,
          -11.256268501281738,
          -6.593545913696289,
          1.9029536247253418,
          5.0011515617370605,
          -14.023062705993652,
          -9.017897605895996,
          13.198264122009277,
          -0.6476792693138123,
          -1.4870339632034302,
          -0.25298428535461426,
          -13.464947700500488,
          -14.38398551940918,
          -22.994165420532227,
          1.152389645576477,
          4.992188930511475,
          -9.921592712402344,
          10.729878425598145,
          6.181514263153076,
          -3.135580062866211,
          -15.790364265441895,
          -5.276076316833496,
          15.900859832763672,
          -0.5689736008644104,
          12.007519721984863,
          24.462352752685547,
          -8.218037605285645,
          13.113497734069824,
          -11.924036979675293,
          14.98057746887207,
          -20.130279541015625,
          -17.850862503051758,
          -4.883781433105469,
          7.166517734527588,
          -15.879734992980957,
          -7.380784511566162,
          -9.987627983093262,
          8.873066902160645,
          -13.607802391052246,
          1.6149048805236816,
          16.231740951538086,
          13.304868698120117,
          0.17576250433921814,
          10.440207481384277,
          -5.992093086242676,
          3.1398050785064697,
          -19.434911727905273,
          -5.58872127532959,
          4.178598403930664,
          -21.288450241088867,
          -13.374258995056152,
          -4.349274158477783,
          -6.874443054199219,
          10.92280101776123,
          10.824033737182617,
          15.250856399536133,
          4.0273756980896,
          24.25038719177246,
          -0.4378880262374878,
          0.17668212950229645,
          -6.033651828765869,
          -2.6097381114959717,
          -13.69290828704834,
          -5.777224063873291,
          13.210081100463867,
          -3.881284713745117,
          7.551318168640137,
          -10.432666778564453,
          4.015758037567139,
          6.225595474243164,
          4.7418389320373535,
          17.568758010864258,
          18.63886260986328,
          17.784671783447266,
          1.5337873697280884,
          5.4952569007873535,
          3.660024881362915,
          17.403766632080078,
          9.556083679199219,
          -21.26572036743164,
          10.4991455078125,
          9.714255332946777,
          22.15712547302246,
          5.998886585235596,
          -3.807133674621582,
          8.511055946350098,
          -3.2026991844177246,
          9.465350151062012,
          14.041857719421387,
          -13.02691650390625,
          12.583466529846191,
          1.887665867805481,
          -1.3784911632537842,
          0.41381800174713135,
          13.30701732635498,
          -0.3302581012248993,
          18.924991607666016,
          11.434657096862793,
          -5.196157932281494,
          -8.207013130187988,
          -21.196701049804688,
          10.073497772216797,
          6.5500946044921875,
          -15.29369831085205,
          13.480502128601074,
          -0.36252400279045105,
          0.33848389983177185,
          -2.574037790298462,
          -10.40900707244873,
          -4.613365173339844,
          -2.9549520015716553,
          -17.76856231689453,
          -5.374194622039795,
          10.876039505004883,
          -4.538575172424316,
          11.42558765411377,
          -10.171429634094238,
          20.80384063720703,
          -7.144594669342041,
          19.62619400024414,
          2.577702283859253,
          -6.886941909790039,
          7.451899528503418,
          -10.975838661193848,
          -3.4332339763641357,
          -14.021550178527832,
          -20.67203140258789,
          -8.302496910095215,
          -3.057485342025757,
          -1.7827638387680054,
          13.965331077575684,
          5.945828914642334,
          10.096513748168945,
          -6.311370849609375,
          -2.1020123958587646,
          -2.93878436088562,
          -3.5810892581939697,
          -9.21201229095459,
          -3.7301104068756104,
          -1.1228885650634766,
          -10.436027526855469,
          -9.546148300170898,
          -8.150713920593262,
          -0.2972114086151123,
          1.882426142692566,
          -6.158740997314453,
          8.21894645690918,
          -5.955709934234619,
          -20.312795639038086,
          -19.22914695739746,
          3.796221971511841,
          2.842308282852173,
          -13.931500434875488,
          4.7254958152771,
          -1.8283721208572388,
          -1.4479644298553467,
          -8.819845199584961,
          -5.662254333496094,
          -9.914326667785645,
          -10.300687789916992,
          10.348922729492188,
          2.041719675064087,
          -1.6030045747756958,
          4.47336483001709,
          3.7141356468200684,
          5.382284641265869,
          -1.7602362632751465,
          -9.83145809173584,
          -18.02930450439453,
          -18.71617889404297,
          -11.25528621673584,
          3.7994513511657715,
          -8.241754531860352,
          0.8488937616348267,
          -0.5894532203674316,
          5.207106590270996,
          -2.061586380004883,
          23.3798828125,
          -3.1607813835144043,
          17.64534568786621,
          9.236845016479492,
          4.731175422668457,
          -1.063490867614746,
          -8.463852882385254,
          -6.485044002532959,
          -7.911734104156494,
          16.690731048583984,
          9.308775901794434,
          -9.293580055236816,
          -12.06754207611084,
          -6.266969203948975,
          -11.994729995727539,
          -0.49617278575897217,
          -5.493989944458008,
          4.194910049438477,
          -14.531296730041504,
          -4.648650169372559,
          5.930440425872803,
          12.376745223999023,
          -9.118589401245117,
          -2.2150893211364746,
          0.9291144013404846,
          -1.622281789779663,
          2.579977512359619,
          -22.639097213745117,
          11.509044647216797,
          8.5602445602417,
          -2.3021185398101807,
          -0.09704350680112839,
          -4.731294631958008,
          2.3390285968780518,
          -3.4793663024902344,
          -12.748872756958008,
          0.5077757239341736,
          -9.556463241577148,
          -16.737215042114258,
          -13.921507835388184,
          2.016721725463867,
          4.75510311126709,
          11.399079322814941,
          6.834143161773682,
          6.842576026916504,
          7.740642070770264,
          5.044027328491211,
          9.444581031799316,
          12.551533699035645,
          11.28887939453125,
          -13.187887191772461,
          -19.395544052124023,
          13.180838584899902,
          13.206663131713867,
          12.942644119262695,
          -12.582815170288086,
          -1.0915729999542236,
          -11.013284683227539,
          -14.971329689025879,
          -14.444458961486816,
          -4.517527103424072,
          -6.2430419921875,
          -5.719866752624512,
          -10.967945098876953,
          -0.5666765570640564,
          -0.00124464207328856,
          -0.15732567012310028,
          -16.362707138061523,
          3.6337478160858154,
          -2.222342014312744,
          -0.42946091294288635,
          11.89525032043457,
          -1.6890751123428345,
          20.986366271972656,
          6.382282257080078,
          -15.61068344116211,
          1.4295783042907715,
          5.028987884521484,
          -4.757820129394531,
          -8.698370933532715,
          -7.686431407928467,
          21.98261070251465,
          13.896090507507324,
          -1.7357202768325806,
          21.950634002685547,
          1.1641491651535034,
          -1.5671792030334473,
          -12.142119407653809,
          4.074704170227051,
          -2.073591947555542,
          -5.673243045806885,
          -8.652262687683105,
          9.275297164916992,
          5.408271312713623,
          5.612654209136963,
          1.2250779867172241,
          12.582493782043457,
          -14.672149658203125,
          -3.6449694633483887,
          -16.2423152923584,
          -3.5316085815429688,
          -18.7637996673584,
          0.38832730054855347,
          15.131394386291504,
          -13.65087890625,
          -12.336310386657715,
          -7.344888210296631,
          -18.836936950683594,
          13.87999439239502,
          -3.2354538440704346,
          8.026782035827637,
          3.634319543838501,
          3.530764102935791,
          21.789730072021484,
          6.966671943664551,
          -8.639776229858398,
          -16.233970642089844,
          9.514237403869629,
          -2.7052109241485596,
          -17.863311767578125,
          -18.151582717895508,
          -5.6948018074035645,
          9.538545608520508,
          -5.56614875793457,
          2.8139634132385254,
          -3.603590488433838,
          -4.1980180740356445,
          -6.47173547744751,
          -4.464947700500488,
          -15.571915626525879,
          -14.433473587036133,
          -7.232476234436035,
          -11.98296070098877,
          0.34379732608795166,
          14.730785369873047,
          13.330760955810547,
          -7.917390823364258,
          -9.36617374420166,
          7.1884260177612305,
          7.505178451538086,
          8.523482322692871,
          -0.6046955585479736,
          3.98000431060791,
          -12.58997631072998,
          -11.899303436279297,
          -13.969029426574707,
          -2.4395406246185303,
          16.796167373657227,
          3.3820228576660156,
          5.793437480926514,
          -10.792367935180664,
          4.595219135284424,
          -8.37975788116455,
          10.391680717468262,
          8.77306079864502,
          -0.8917746543884277,
          3.1879429817199707,
          -16.338844299316406,
          -19.85015869140625,
          0.9551962614059448,
          -17.262208938598633,
          3.754171133041382,
          -12.811866760253906,
          -7.276007175445557,
          17.020610809326172,
          13.488401412963867,
          -8.536755561828613,
          -8.869545936584473,
          9.212302207946777,
          8.864580154418945,
          0.04734715074300766,
          4.8091912269592285,
          6.18405818939209,
          2.759662389755249,
          6.537801265716553,
          20.244792938232422,
          -6.219095230102539,
          0.6983359456062317,
          4.882756233215332,
          -11.855523109436035,
          5.087230682373047,
          -8.632670402526855,
          -0.3670467734336853,
          -5.782633304595947,
          -1.2839244604110718,
          11.76501178741455,
          -7.692834854125977,
          -12.84095287322998,
          0.24111853539943695,
          -1.2005629539489746,
          -13.80638599395752,
          -1.0566388368606567,
          -15.137547492980957,
          8.189109802246094,
          -8.76266860961914,
          -12.622206687927246,
          -3.9070398807525635,
          -9.177436828613281,
          6.676898002624512,
          -12.121698379516602,
          3.0274806022644043,
          7.591742992401123,
          -11.35293197631836,
          9.106439590454102,
          -1.1576873064041138,
          -1.6224726438522339,
          7.470178127288818,
          -1.9943197965621948,
          -14.755008697509766,
          11.811654090881348,
          -15.933823585510254,
          4.937007427215576,
          -1.666829228401184,
          -1.7826989889144897,
          6.285062789916992,
          -17.601259231567383,
          7.7073974609375,
          -12.45203971862793,
          -0.9404981732368469,
          -14.515328407287598,
          -16.270456314086914,
          -14.244587898254395,
          -13.71080207824707,
          5.47413444519043,
          -5.799396991729736,
          -1.9712343215942383,
          -9.997889518737793,
          -1.6091632843017578,
          -1.34257173538208,
          5.570210933685303,
          -1.4167617559432983,
          -15.463715553283691,
          -16.7694091796875,
          -10.70665168762207,
          -16.989608764648438,
          -0.8783159852027893,
          -3.632000684738159,
          -1.3645617961883545,
          -0.7305555939674377,
          0.7463170289993286,
          2.1068053245544434,
          -1.4854623079299927,
          -18.064138412475586,
          -16.672849655151367,
          -5.7730021476745605,
          3.949841022491455,
          -0.32515010237693787,
          -5.122096538543701,
          -12.812515258789062,
          -17.450363159179688,
          -8.992908477783203,
          -13.796917915344238,
          -3.9434309005737305,
          3.575801134109497,
          -12.704559326171875,
          -13.682480812072754,
          14.057232856750488,
          -3.2426443099975586,
          -19.080801010131836,
          -13.383554458618164,
          2.3850619792938232,
          -13.609621047973633,
          -11.77181625366211,
          -6.035136699676514,
          -15.90389633178711,
          -0.28894755244255066,
          -9.136987686157227,
          -17.13530921936035,
          -3.0475525856018066,
          -17.08226203918457,
          -3.5008692741394043,
          5.123879432678223,
          4.5158796310424805,
          4.562232494354248,
          16.802692413330078,
          -3.423198938369751,
          7.821142673492432,
          8.435736656188965,
          -5.85021448135376,
          19.06920623779297,
          5.263575077056885,
          -8.126424789428711,
          -13.127473831176758,
          7.775350570678711,
          -0.593723475933075,
          -1.386875867843628,
          -7.351385593414307,
          -13.082444190979004,
          -12.751795768737793,
          -12.602458953857422,
          0.40435081720352173,
          -0.8407116532325745,
          -8.519148826599121,
          -4.2555341720581055,
          7.416851997375488,
          -15.607608795166016,
          -0.23129093647003174,
          4.6392412185668945,
          -12.804463386535645,
          8.525707244873047,
          4.5781025886535645,
          3.707720994949341,
          12.665886878967285,
          22.198440551757812,
          14.027009963989258,
          4.137342929840088,
          13.61058521270752,
          3.8410050868988037,
          20.394725799560547,
          -14.246862411499023,
          20.5550479888916,
          8.288501739501953,
          -11.093531608581543,
          2.2741758823394775,
          -5.389554977416992,
          -5.579113006591797,
          -12.324902534484863,
          -7.289285659790039,
          -4.645331859588623,
          -7.29232120513916,
          -12.727672576904297,
          4.955711841583252,
          -12.302062034606934,
          2.8014841079711914,
          -7.486778736114502,
          -7.183680534362793,
          -11.468894004821777,
          -10.77531909942627,
          5.048626899719238,
          -5.372982501983643,
          -3.6843674182891846,
          2.6056339740753174,
          1.9452626705169678,
          16.99126434326172,
          6.3233184814453125,
          8.158554077148438,
          -0.2226875275373459,
          3.6827232837677,
          -0.08213592320680618,
          -11.05742359161377,
          -6.795435428619385,
          -12.522589683532715,
          2.85040283203125,
          -0.20795661211013794,
          21.033849716186523,
          11.085124969482422,
          13.540536880493164,
          -0.12217974662780762,
          8.715693473815918,
          10.839335441589355,
          3.2689027786254883,
          -9.108735084533691,
          -2.800804615020752,
          2.489956855773926,
          11.064846992492676,
          8.421401977539062,
          11.75076675415039,
          3.272294044494629,
          6.365878105163574,
          10.337837219238281,
          1.0529366731643677,
          -9.740500450134277,
          7.4177565574646,
          -8.751382827758789,
          2.402233600616455,
          -14.436882972717285,
          3.1055705547332764,
          1.2317955493927002,
          -8.588898658752441,
          2.9196512699127197,
          -16.937469482421875,
          5.504317283630371,
          4.409818649291992,
          5.096280097961426,
          6.148433685302734,
          -9.660326957702637,
          -9.73845386505127,
          -4.1343793869018555,
          -5.485516548156738,
          8.519176483154297,
          12.187277793884277,
          8.94107723236084,
          19.316635131835938,
          12.828648567199707,
          6.110262870788574,
          -2.163198709487915,
          3.130810022354126,
          -3.625094413757324,
          -8.332749366760254,
          7.790462493896484,
          -11.10476303100586,
          -6.112049102783203,
          -9.931951522827148,
          -6.577080249786377,
          -2.7867555618286133,
          -4.894845008850098,
          -4.899405479431152,
          -11.113136291503906,
          2.3649020195007324,
          -13.050230026245117,
          -10.093546867370605,
          -13.736015319824219,
          -14.668091773986816,
          4.623706340789795,
          9.757490158081055,
          2.731400966644287,
          9.634257316589355,
          7.455026626586914,
          2.548612356185913,
          9.671643257141113,
          5.497306823730469,
          8.691497802734375,
          6.126965045928955,
          6.4972686767578125,
          10.261504173278809,
          7.038090229034424,
          -2.577639579772949,
          4.525102138519287,
          10.545238494873047,
          -13.125590324401855,
          3.661007881164551,
          6.116909980773926,
          -10.118228912353516,
          5.88127326965332,
          -10.333467483520508,
          5.5689473152160645,
          5.5780439376831055,
          5.930509090423584,
          6.467902183532715,
          5.192921161651611,
          9.555489540100098,
          6.715027809143066,
          5.274315357208252,
          6.16137170791626,
          7.44150972366333,
          6.723086357116699,
          7.001554012298584,
          5.398079872131348,
          7.049221992492676,
          6.832703590393066,
          5.7275390625,
          6.932415008544922,
          -16.782392501831055,
          6.030263900756836,
          7.585505485534668,
          5.144867420196533,
          6.1228928565979,
          7.703135967254639,
          8.317642211914062,
          -19.45588493347168,
          6.289129257202148,
          6.508905410766602,
          -12.753326416015625,
          -13.32479190826416,
          -13.11390209197998,
          -13.963440895080566,
          -11.181634902954102,
          5.14686393737793,
          12.292679786682129,
          9.282692909240723,
          5.166023254394531,
          -11.15603256225586,
          -3.850257158279419,
          7.062955379486084,
          2.9495902061462402,
          8.371964454650879,
          -15.199875831604004,
          6.215387344360352,
          -12.193904876708984,
          -3.8371996879577637,
          -3.4727249145507812,
          -6.739625453948975,
          -4.953991889953613,
          2.575740098953247,
          -2.649522066116333,
          -7.884844779968262,
          -19.221942901611328,
          8.31107234954834,
          9.707489967346191,
          21.8501033782959,
          -12.353734016418457,
          -13.733400344848633,
          8.607711791992188,
          6.665693759918213,
          10.153895378112793,
          3.5340447425842285,
          0.24019427597522736,
          -11.068344116210938,
          -5.2167792320251465,
          -20.014877319335938,
          3.303988218307495,
          13.488588333129883,
          -11.430391311645508,
          2.225773334503174,
          -18.927993774414062,
          6.644658088684082,
          -18.74694061279297,
          -18.494125366210938,
          9.177925109863281,
          -18.399402618408203,
          -18.524477005004883,
          -16.53449821472168,
          -18.508516311645508,
          -18.62837791442871,
          -18.413782119750977,
          7.729114055633545,
          -11.595632553100586,
          1.8757524490356445,
          -10.444581985473633,
          7.562985420227051,
          -13.660103797912598,
          -18.612319946289062,
          5.589827537536621,
          -18.59071922302246,
          6.255141258239746,
          6.120828628540039,
          2.5409538745880127,
          4.238340377807617,
          4.020147800445557,
          4.812463283538818,
          -6.523351669311523,
          13.240043640136719,
          -7.992425441741943,
          2.778033971786499,
          -0.41893744468688965,
          2.9300222396850586,
          -4.795050621032715,
          -2.7493977546691895,
          -11.617087364196777,
          6.290371894836426,
          7.367952346801758,
          -12.758631706237793,
          -12.031994819641113,
          -2.473022937774658,
          8.834646224975586,
          2.4449360370635986,
          -4.166369438171387,
          2.6162750720977783,
          -2.7504851818084717,
          5.206479549407959,
          -0.030339805409312248,
          6.005778789520264,
          1.3834571838378906,
          -18.156494140625,
          -5.4818034172058105,
          -3.092486619949341,
          -8.637798309326172
         ],
         "yaxis": "y"
        }
       ],
       "layout": {
        "coloraxis": {
         "colorbar": {
          "title": {
           "text": "popularity"
          }
         },
         "colorscale": [
          [
           0,
           "#0d0887"
          ],
          [
           0.1111111111111111,
           "#46039f"
          ],
          [
           0.2222222222222222,
           "#7201a8"
          ],
          [
           0.3333333333333333,
           "#9c179e"
          ],
          [
           0.4444444444444444,
           "#bd3786"
          ],
          [
           0.5555555555555556,
           "#d8576b"
          ],
          [
           0.6666666666666666,
           "#ed7953"
          ],
          [
           0.7777777777777778,
           "#fb9f3a"
          ],
          [
           0.8888888888888888,
           "#fdca26"
          ],
          [
           1,
           "#f0f921"
          ]
         ]
        },
        "legend": {
         "tracegroupgap": 0
        },
        "margin": {
         "t": 60
        },
        "template": {
         "data": {
          "bar": [
           {
            "error_x": {
             "color": "#2a3f5f"
            },
            "error_y": {
             "color": "#2a3f5f"
            },
            "marker": {
             "line": {
              "color": "#E5ECF6",
              "width": 0.5
             },
             "pattern": {
              "fillmode": "overlay",
              "size": 10,
              "solidity": 0.2
             }
            },
            "type": "bar"
           }
          ],
          "barpolar": [
           {
            "marker": {
             "line": {
              "color": "#E5ECF6",
              "width": 0.5
             },
             "pattern": {
              "fillmode": "overlay",
              "size": 10,
              "solidity": 0.2
             }
            },
            "type": "barpolar"
           }
          ],
          "carpet": [
           {
            "aaxis": {
             "endlinecolor": "#2a3f5f",
             "gridcolor": "white",
             "linecolor": "white",
             "minorgridcolor": "white",
             "startlinecolor": "#2a3f5f"
            },
            "baxis": {
             "endlinecolor": "#2a3f5f",
             "gridcolor": "white",
             "linecolor": "white",
             "minorgridcolor": "white",
             "startlinecolor": "#2a3f5f"
            },
            "type": "carpet"
           }
          ],
          "choropleth": [
           {
            "colorbar": {
             "outlinewidth": 0,
             "ticks": ""
            },
            "type": "choropleth"
           }
          ],
          "contour": [
           {
            "colorbar": {
             "outlinewidth": 0,
             "ticks": ""
            },
            "colorscale": [
             [
              0,
              "#0d0887"
             ],
             [
              0.1111111111111111,
              "#46039f"
             ],
             [
              0.2222222222222222,
              "#7201a8"
             ],
             [
              0.3333333333333333,
              "#9c179e"
             ],
             [
              0.4444444444444444,
              "#bd3786"
             ],
             [
              0.5555555555555556,
              "#d8576b"
             ],
             [
              0.6666666666666666,
              "#ed7953"
             ],
             [
              0.7777777777777778,
              "#fb9f3a"
             ],
             [
              0.8888888888888888,
              "#fdca26"
             ],
             [
              1,
              "#f0f921"
             ]
            ],
            "type": "contour"
           }
          ],
          "contourcarpet": [
           {
            "colorbar": {
             "outlinewidth": 0,
             "ticks": ""
            },
            "type": "contourcarpet"
           }
          ],
          "heatmap": [
           {
            "colorbar": {
             "outlinewidth": 0,
             "ticks": ""
            },
            "colorscale": [
             [
              0,
              "#0d0887"
             ],
             [
              0.1111111111111111,
              "#46039f"
             ],
             [
              0.2222222222222222,
              "#7201a8"
             ],
             [
              0.3333333333333333,
              "#9c179e"
             ],
             [
              0.4444444444444444,
              "#bd3786"
             ],
             [
              0.5555555555555556,
              "#d8576b"
             ],
             [
              0.6666666666666666,
              "#ed7953"
             ],
             [
              0.7777777777777778,
              "#fb9f3a"
             ],
             [
              0.8888888888888888,
              "#fdca26"
             ],
             [
              1,
              "#f0f921"
             ]
            ],
            "type": "heatmap"
           }
          ],
          "heatmapgl": [
           {
            "colorbar": {
             "outlinewidth": 0,
             "ticks": ""
            },
            "colorscale": [
             [
              0,
              "#0d0887"
             ],
             [
              0.1111111111111111,
              "#46039f"
             ],
             [
              0.2222222222222222,
              "#7201a8"
             ],
             [
              0.3333333333333333,
              "#9c179e"
             ],
             [
              0.4444444444444444,
              "#bd3786"
             ],
             [
              0.5555555555555556,
              "#d8576b"
             ],
             [
              0.6666666666666666,
              "#ed7953"
             ],
             [
              0.7777777777777778,
              "#fb9f3a"
             ],
             [
              0.8888888888888888,
              "#fdca26"
             ],
             [
              1,
              "#f0f921"
             ]
            ],
            "type": "heatmapgl"
           }
          ],
          "histogram": [
           {
            "marker": {
             "pattern": {
              "fillmode": "overlay",
              "size": 10,
              "solidity": 0.2
             }
            },
            "type": "histogram"
           }
          ],
          "histogram2d": [
           {
            "colorbar": {
             "outlinewidth": 0,
             "ticks": ""
            },
            "colorscale": [
             [
              0,
              "#0d0887"
             ],
             [
              0.1111111111111111,
              "#46039f"
             ],
             [
              0.2222222222222222,
              "#7201a8"
             ],
             [
              0.3333333333333333,
              "#9c179e"
             ],
             [
              0.4444444444444444,
              "#bd3786"
             ],
             [
              0.5555555555555556,
              "#d8576b"
             ],
             [
              0.6666666666666666,
              "#ed7953"
             ],
             [
              0.7777777777777778,
              "#fb9f3a"
             ],
             [
              0.8888888888888888,
              "#fdca26"
             ],
             [
              1,
              "#f0f921"
             ]
            ],
            "type": "histogram2d"
           }
          ],
          "histogram2dcontour": [
           {
            "colorbar": {
             "outlinewidth": 0,
             "ticks": ""
            },
            "colorscale": [
             [
              0,
              "#0d0887"
             ],
             [
              0.1111111111111111,
              "#46039f"
             ],
             [
              0.2222222222222222,
              "#7201a8"
             ],
             [
              0.3333333333333333,
              "#9c179e"
             ],
             [
              0.4444444444444444,
              "#bd3786"
             ],
             [
              0.5555555555555556,
              "#d8576b"
             ],
             [
              0.6666666666666666,
              "#ed7953"
             ],
             [
              0.7777777777777778,
              "#fb9f3a"
             ],
             [
              0.8888888888888888,
              "#fdca26"
             ],
             [
              1,
              "#f0f921"
             ]
            ],
            "type": "histogram2dcontour"
           }
          ],
          "mesh3d": [
           {
            "colorbar": {
             "outlinewidth": 0,
             "ticks": ""
            },
            "type": "mesh3d"
           }
          ],
          "parcoords": [
           {
            "line": {
             "colorbar": {
              "outlinewidth": 0,
              "ticks": ""
             }
            },
            "type": "parcoords"
           }
          ],
          "pie": [
           {
            "automargin": true,
            "type": "pie"
           }
          ],
          "scatter": [
           {
            "fillpattern": {
             "fillmode": "overlay",
             "size": 10,
             "solidity": 0.2
            },
            "type": "scatter"
           }
          ],
          "scatter3d": [
           {
            "line": {
             "colorbar": {
              "outlinewidth": 0,
              "ticks": ""
             }
            },
            "marker": {
             "colorbar": {
              "outlinewidth": 0,
              "ticks": ""
             }
            },
            "type": "scatter3d"
           }
          ],
          "scattercarpet": [
           {
            "marker": {
             "colorbar": {
              "outlinewidth": 0,
              "ticks": ""
             }
            },
            "type": "scattercarpet"
           }
          ],
          "scattergeo": [
           {
            "marker": {
             "colorbar": {
              "outlinewidth": 0,
              "ticks": ""
             }
            },
            "type": "scattergeo"
           }
          ],
          "scattergl": [
           {
            "marker": {
             "colorbar": {
              "outlinewidth": 0,
              "ticks": ""
             }
            },
            "type": "scattergl"
           }
          ],
          "scattermapbox": [
           {
            "marker": {
             "colorbar": {
              "outlinewidth": 0,
              "ticks": ""
             }
            },
            "type": "scattermapbox"
           }
          ],
          "scatterpolar": [
           {
            "marker": {
             "colorbar": {
              "outlinewidth": 0,
              "ticks": ""
             }
            },
            "type": "scatterpolar"
           }
          ],
          "scatterpolargl": [
           {
            "marker": {
             "colorbar": {
              "outlinewidth": 0,
              "ticks": ""
             }
            },
            "type": "scatterpolargl"
           }
          ],
          "scatterternary": [
           {
            "marker": {
             "colorbar": {
              "outlinewidth": 0,
              "ticks": ""
             }
            },
            "type": "scatterternary"
           }
          ],
          "surface": [
           {
            "colorbar": {
             "outlinewidth": 0,
             "ticks": ""
            },
            "colorscale": [
             [
              0,
              "#0d0887"
             ],
             [
              0.1111111111111111,
              "#46039f"
             ],
             [
              0.2222222222222222,
              "#7201a8"
             ],
             [
              0.3333333333333333,
              "#9c179e"
             ],
             [
              0.4444444444444444,
              "#bd3786"
             ],
             [
              0.5555555555555556,
              "#d8576b"
             ],
             [
              0.6666666666666666,
              "#ed7953"
             ],
             [
              0.7777777777777778,
              "#fb9f3a"
             ],
             [
              0.8888888888888888,
              "#fdca26"
             ],
             [
              1,
              "#f0f921"
             ]
            ],
            "type": "surface"
           }
          ],
          "table": [
           {
            "cells": {
             "fill": {
              "color": "#EBF0F8"
             },
             "line": {
              "color": "white"
             }
            },
            "header": {
             "fill": {
              "color": "#C8D4E3"
             },
             "line": {
              "color": "white"
             }
            },
            "type": "table"
           }
          ]
         },
         "layout": {
          "annotationdefaults": {
           "arrowcolor": "#2a3f5f",
           "arrowhead": 0,
           "arrowwidth": 1
          },
          "autotypenumbers": "strict",
          "coloraxis": {
           "colorbar": {
            "outlinewidth": 0,
            "ticks": ""
           }
          },
          "colorscale": {
           "diverging": [
            [
             0,
             "#8e0152"
            ],
            [
             0.1,
             "#c51b7d"
            ],
            [
             0.2,
             "#de77ae"
            ],
            [
             0.3,
             "#f1b6da"
            ],
            [
             0.4,
             "#fde0ef"
            ],
            [
             0.5,
             "#f7f7f7"
            ],
            [
             0.6,
             "#e6f5d0"
            ],
            [
             0.7,
             "#b8e186"
            ],
            [
             0.8,
             "#7fbc41"
            ],
            [
             0.9,
             "#4d9221"
            ],
            [
             1,
             "#276419"
            ]
           ],
           "sequential": [
            [
             0,
             "#0d0887"
            ],
            [
             0.1111111111111111,
             "#46039f"
            ],
            [
             0.2222222222222222,
             "#7201a8"
            ],
            [
             0.3333333333333333,
             "#9c179e"
            ],
            [
             0.4444444444444444,
             "#bd3786"
            ],
            [
             0.5555555555555556,
             "#d8576b"
            ],
            [
             0.6666666666666666,
             "#ed7953"
            ],
            [
             0.7777777777777778,
             "#fb9f3a"
            ],
            [
             0.8888888888888888,
             "#fdca26"
            ],
            [
             1,
             "#f0f921"
            ]
           ],
           "sequentialminus": [
            [
             0,
             "#0d0887"
            ],
            [
             0.1111111111111111,
             "#46039f"
            ],
            [
             0.2222222222222222,
             "#7201a8"
            ],
            [
             0.3333333333333333,
             "#9c179e"
            ],
            [
             0.4444444444444444,
             "#bd3786"
            ],
            [
             0.5555555555555556,
             "#d8576b"
            ],
            [
             0.6666666666666666,
             "#ed7953"
            ],
            [
             0.7777777777777778,
             "#fb9f3a"
            ],
            [
             0.8888888888888888,
             "#fdca26"
            ],
            [
             1,
             "#f0f921"
            ]
           ]
          },
          "colorway": [
           "#636efa",
           "#EF553B",
           "#00cc96",
           "#ab63fa",
           "#FFA15A",
           "#19d3f3",
           "#FF6692",
           "#B6E880",
           "#FF97FF",
           "#FECB52"
          ],
          "font": {
           "color": "#2a3f5f"
          },
          "geo": {
           "bgcolor": "white",
           "lakecolor": "white",
           "landcolor": "#E5ECF6",
           "showlakes": true,
           "showland": true,
           "subunitcolor": "white"
          },
          "hoverlabel": {
           "align": "left"
          },
          "hovermode": "closest",
          "mapbox": {
           "style": "light"
          },
          "paper_bgcolor": "white",
          "plot_bgcolor": "#E5ECF6",
          "polar": {
           "angularaxis": {
            "gridcolor": "white",
            "linecolor": "white",
            "ticks": ""
           },
           "bgcolor": "#E5ECF6",
           "radialaxis": {
            "gridcolor": "white",
            "linecolor": "white",
            "ticks": ""
           }
          },
          "scene": {
           "xaxis": {
            "backgroundcolor": "#E5ECF6",
            "gridcolor": "white",
            "gridwidth": 2,
            "linecolor": "white",
            "showbackground": true,
            "ticks": "",
            "zerolinecolor": "white"
           },
           "yaxis": {
            "backgroundcolor": "#E5ECF6",
            "gridcolor": "white",
            "gridwidth": 2,
            "linecolor": "white",
            "showbackground": true,
            "ticks": "",
            "zerolinecolor": "white"
           },
           "zaxis": {
            "backgroundcolor": "#E5ECF6",
            "gridcolor": "white",
            "gridwidth": 2,
            "linecolor": "white",
            "showbackground": true,
            "ticks": "",
            "zerolinecolor": "white"
           }
          },
          "shapedefaults": {
           "line": {
            "color": "#2a3f5f"
           }
          },
          "ternary": {
           "aaxis": {
            "gridcolor": "white",
            "linecolor": "white",
            "ticks": ""
           },
           "baxis": {
            "gridcolor": "white",
            "linecolor": "white",
            "ticks": ""
           },
           "bgcolor": "#E5ECF6",
           "caxis": {
            "gridcolor": "white",
            "linecolor": "white",
            "ticks": ""
           }
          },
          "title": {
           "x": 0.05
          },
          "xaxis": {
           "automargin": true,
           "gridcolor": "white",
           "linecolor": "white",
           "ticks": "",
           "title": {
            "standoff": 15
           },
           "zerolinecolor": "white",
           "zerolinewidth": 2
          },
          "yaxis": {
           "automargin": true,
           "gridcolor": "white",
           "linecolor": "white",
           "ticks": "",
           "title": {
            "standoff": 15
           },
           "zerolinecolor": "white",
           "zerolinewidth": 2
          }
         }
        },
        "xaxis": {
         "anchor": "y",
         "domain": [
          0,
          1
         ],
         "title": {
          "text": "tsne_1"
         }
        },
        "yaxis": {
         "anchor": "x",
         "domain": [
          0,
          1
         ],
         "title": {
          "text": "tsne_2"
         }
        }
       }
      }
     },
     "metadata": {},
     "output_type": "display_data"
    }
   ],
   "source": [
    "import plotly.express as px\n",
    "\n",
    "tsne_df = pd.DataFrame(item_tsne, columns=[\"tsne_1\", \"tsne_2\"])\n",
    "tsne_df[\"item_id\"] = np.arange(item_tsne.shape[0])\n",
    "tsne_df = tsne_df.merge(items.reset_index())\n",
    "\n",
    "px.scatter(tsne_df, x=\"tsne_1\", y=\"tsne_2\",\n",
    "           color=\"popularity\",\n",
    "           hover_data=[\"item_id\", \"title\", \"popularity\"])"
   ]
  },
  {
   "cell_type": "markdown",
   "metadata": {},
   "source": [
    "### Exercises\n",
    "\n",
    " - Add another layer to the neural network and retrain, compare train/test error.\n",
    " - Try adding more dropout and change layer sizes.\n"
   ]
  },
  {
   "cell_type": "markdown",
   "metadata": {},
   "source": [
    "### A recommendation function for a given user\n",
    "\n",
    "Once the model is trained, the system can be used to recommend a few items for a user that they haven't seen before. The following code does that.\n",
    "\n",
    "- we use the `model.predict` to compute the ratings a user would have given to all items\n",
    "- we build a function that sorts these items and excludes those the user has already seen."
   ]
  },
  {
   "cell_type": "code",
   "execution_count": 48,
   "metadata": {
    "scrolled": true
   },
   "outputs": [],
   "source": [
    "def recommend(user_id, top_n=10):\n",
    "    item_ids = range(1, items['item_id'].max())\n",
    "    seen_mask = all_ratings[\"user_id\"] == user_id\n",
    "    seen_movies = set(all_ratings[seen_mask][\"item_id\"])\n",
    "    item_ids = list(filter(lambda x: x not in seen_movies, item_ids))\n",
    "\n",
    "    user = np.zeros_like(item_ids)\n",
    "    user[:len(item_ids)] = user_id\n",
    "    items_ = np.array(item_ids)\n",
    "    ratings = model.predict([user, items_]).flatten()\n",
    "    top_items = ratings.argsort()[-top_n:][::-1]\n",
    "    return [(indexed_items.loc[item_id][\"title\"], ratings[item_id]) for item_id in top_items]"
   ]
  },
  {
   "cell_type": "code",
   "execution_count": 49,
   "metadata": {},
   "outputs": [
    {
     "name": "stdout",
     "output_type": "stream",
     "text": [
      "\u001b[1m47/47\u001b[0m \u001b[32m━━━━━━━━━━━━━━━━━━━━\u001b[0m\u001b[37m\u001b[0m \u001b[1m0s\u001b[0m 415us/step\n",
      "    5.6: Shadow Conspiracy (1997)\n",
      "    5.5: Nothing to Lose (1994)\n",
      "    5.3: Selena (1997)\n",
      "    5.2: Blood For Dracula (Andy Warhol's Dracula) (1974)\n",
      "    5.2: Tales From the Crypt Presents: Demon Knight (1995)\n",
      "    5.1: Rocket Man (1997)\n",
      "    5.1: Surviving the Game (1994)\n",
      "    5.1: Raiders of the Lost Ark (1981)\n",
      "    5.1: Little Women (1994)\n",
      "    5.1: Rainmaker, The (1997)\n"
     ]
    }
   ],
   "source": [
    "for title, pred_rating in recommend(10):\n",
    "    print(\"    %0.1f: %s\" % (pred_rating, title))"
   ]
  },
  {
   "cell_type": "markdown",
   "metadata": {
    "collapsed": false
   },
   "source": [
    "### Exercises\n",
    "\n",
    "- Try modifying our neural network to improve recommendation. You could try adding more layers, or using a different loss function. \n",
    "- Your goal is to improve the Mean Absolute Error on the test set. Show the results of your best model."
   ]
  },
  {
   "cell_type": "markdown",
   "metadata": {},
   "source": [
    "My best model has two additional dense layers, dropout and an embedding size of 8. It achieves a train loss of .68 and a validation loss of .73 which suggests that the problem of overfitting has been addressed while maintaining a low loss.  \n",
    "\n",
    "The Mean Absolute Error is 0.73."
   ]
  },
  {
   "cell_type": "code",
   "execution_count": 50,
   "metadata": {
    "collapsed": false
   },
   "outputs": [
    {
     "name": "stderr",
     "output_type": "stream",
     "text": [
      "/opt/homebrew/Caskroom/miniforge/base/envs/tf/lib/python3.9/site-packages/keras/src/layers/core/embedding.py:90: UserWarning:\n",
      "\n",
      "Argument `input_length` is deprecated. Just remove it.\n",
      "\n"
     ]
    }
   ],
   "source": [
    "# Extend and improve the model below\n",
    "class RegressionModel(Model):\n",
    "    def __init__(self, embedding_size, max_user_id, max_item_id):\n",
    "        super().__init__()\n",
    "\n",
    "        self.user_embedding = Embedding(output_dim=embedding_size,\n",
    "                                        input_dim=max_user_id + 1,\n",
    "                                        input_length=1,\n",
    "                                        name='user_embedding')\n",
    "        self.item_embedding = Embedding(output_dim=embedding_size,\n",
    "                                        input_dim=max_item_id + 1,\n",
    "                                        input_length=1,\n",
    "                                        name='item_embedding')\n",
    "\n",
    "        self.user_dropout = Dropout(0.4)\n",
    "        self.item_dropout = Dropout(0.4)\n",
    "\n",
    "        # The following two layers don't have parameters.\n",
    "        self.flatten = Flatten()\n",
    "        self.dot = Dot(axes=1)\n",
    "\n",
    "        # additional layers\n",
    "        self.user_transform_layer = Dense(64, activation='relu')\n",
    "        self.item_transform_layer = Dense(64, activation='relu')\n",
    "\n",
    "        self.transform_dropout = Dropout(0.5)\n",
    "\n",
    "\n",
    "    def call(self, inputs):\n",
    "        user_inputs, item_inputs = inputs\n",
    "\n",
    "        user_embedded = self.user_embedding(user_inputs)\n",
    "        user_embedded = self.user_dropout(user_embedded)\n",
    "\n",
    "        item_embedded = self.item_embedding(item_inputs)\n",
    "        item_embedded = self.item_dropout(item_embedded)\n",
    "\n",
    "        user_vecs = self.flatten(self.user_transform_layer(user_embedded))\n",
    "        user_vecs = self.transform_dropout(user_vecs)\n",
    "        \n",
    "        item_vecs = self.flatten(self.item_transform_layer(item_embedded))\n",
    "        item_vecs = self.transform_dropout(item_vecs)\n",
    "\n",
    "        y = self.dot([user_vecs, item_vecs])\n",
    "        return y\n",
    "\n",
    "\n",
    "model = RegressionModel(embedding_size=8, max_user_id=all_ratings['user_id'].max(), max_item_id=all_ratings['item_id'].max())\n",
    "model.compile(optimizer=\"adam\", loss='mae')"
   ]
  },
  {
   "cell_type": "code",
   "execution_count": 51,
   "metadata": {
    "collapsed": false
   },
   "outputs": [
    {
     "name": "stdout",
     "output_type": "stream",
     "text": [
      "Epoch 1/10\n",
      "\u001b[1m1125/1125\u001b[0m \u001b[32m━━━━━━━━━━━━━━━━━━━━\u001b[0m\u001b[37m\u001b[0m \u001b[1m1s\u001b[0m 542us/step - loss: 1.5608 - val_loss: 0.7561\n",
      "Epoch 2/10\n",
      "\u001b[1m1125/1125\u001b[0m \u001b[32m━━━━━━━━━━━━━━━━━━━━\u001b[0m\u001b[37m\u001b[0m \u001b[1m1s\u001b[0m 487us/step - loss: 0.7367 - val_loss: 0.7494\n",
      "Epoch 3/10\n",
      "\u001b[1m1125/1125\u001b[0m \u001b[32m━━━━━━━━━━━━━━━━━━━━\u001b[0m\u001b[37m\u001b[0m \u001b[1m1s\u001b[0m 969us/step - loss: 0.7253 - val_loss: 0.7442\n",
      "Epoch 4/10\n",
      "\u001b[1m1125/1125\u001b[0m \u001b[32m━━━━━━━━━━━━━━━━━━━━\u001b[0m\u001b[37m\u001b[0m \u001b[1m1s\u001b[0m 766us/step - loss: 0.7223 - val_loss: 0.7455\n",
      "Epoch 5/10\n",
      "\u001b[1m1125/1125\u001b[0m \u001b[32m━━━━━━━━━━━━━━━━━━━━\u001b[0m\u001b[37m\u001b[0m \u001b[1m1s\u001b[0m 619us/step - loss: 0.7099 - val_loss: 0.7365\n",
      "Epoch 6/10\n",
      "\u001b[1m1125/1125\u001b[0m \u001b[32m━━━━━━━━━━━━━━━━━━━━\u001b[0m\u001b[37m\u001b[0m \u001b[1m1s\u001b[0m 502us/step - loss: 0.7063 - val_loss: 0.7362\n",
      "Epoch 7/10\n",
      "\u001b[1m1125/1125\u001b[0m \u001b[32m━━━━━━━━━━━━━━━━━━━━\u001b[0m\u001b[37m\u001b[0m \u001b[1m1s\u001b[0m 464us/step - loss: 0.6962 - val_loss: 0.7310\n",
      "Epoch 8/10\n",
      "\u001b[1m1125/1125\u001b[0m \u001b[32m━━━━━━━━━━━━━━━━━━━━\u001b[0m\u001b[37m\u001b[0m \u001b[1m1s\u001b[0m 480us/step - loss: 0.6881 - val_loss: 0.7294\n",
      "Epoch 9/10\n",
      "\u001b[1m1125/1125\u001b[0m \u001b[32m━━━━━━━━━━━━━━━━━━━━\u001b[0m\u001b[37m\u001b[0m \u001b[1m1s\u001b[0m 514us/step - loss: 0.6884 - val_loss: 0.7286\n",
      "Epoch 10/10\n",
      "\u001b[1m1125/1125\u001b[0m \u001b[32m━━━━━━━━━━━━━━━━━━━━\u001b[0m\u001b[37m\u001b[0m \u001b[1m1s\u001b[0m 477us/step - loss: 0.6803 - val_loss: 0.7285\n"
     ]
    }
   ],
   "source": [
    "# Training the model\n",
    "history = model.fit([user_id_train, item_id_train], rating_train,\n",
    "                    batch_size=64, epochs=10, validation_split=0.1,\n",
    "                    shuffle=True)"
   ]
  },
  {
   "cell_type": "code",
   "execution_count": 52,
   "metadata": {},
   "outputs": [
    {
     "name": "stdout",
     "output_type": "stream",
     "text": [
      "\u001b[1m625/625\u001b[0m \u001b[32m━━━━━━━━━━━━━━━━━━━━\u001b[0m\u001b[37m\u001b[0m \u001b[1m0s\u001b[0m 450us/step\n",
      "Final test MSE: 0.919\n",
      "Final test MAE: 0.730\n"
     ]
    }
   ],
   "source": [
    "from sklearn.metrics import mean_squared_error\n",
    "from sklearn.metrics import mean_absolute_error\n",
    "\n",
    "test_preds = model.predict([user_id_test, item_id_test])\n",
    "print(\"Final test MSE: %0.3f\" % mean_squared_error(test_preds, rating_test))\n",
    "print(\"Final test MAE: %0.3f\" % mean_absolute_error(test_preds, rating_test))"
   ]
  }
 ],
 "metadata": {
  "kernelspec": {
   "display_name": "tf",
   "language": "python",
   "name": "python3"
  },
  "language_info": {
   "codemirror_mode": {
    "name": "ipython",
    "version": 3
   },
   "file_extension": ".py",
   "mimetype": "text/x-python",
   "name": "python",
   "nbconvert_exporter": "python",
   "pygments_lexer": "ipython3",
   "version": "3.9.19"
  }
 },
 "nbformat": 4,
 "nbformat_minor": 4
}
